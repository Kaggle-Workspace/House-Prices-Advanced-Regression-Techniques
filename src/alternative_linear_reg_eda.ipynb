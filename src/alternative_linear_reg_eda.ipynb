{
 "metadata": {
  "language_info": {
   "codemirror_mode": {
    "name": "ipython",
    "version": 3
   },
   "file_extension": ".py",
   "mimetype": "text/x-python",
   "name": "python",
   "nbconvert_exporter": "python",
   "pygments_lexer": "ipython3",
   "version": "3.6.9"
  },
  "orig_nbformat": 4,
  "kernelspec": {
   "name": "python3",
   "display_name": "Python 3.6.9 64-bit"
  },
  "interpreter": {
   "hash": "31f2aee4e71d21fbe5cf8b01ff0e069b9275f58929596ceb00d14d90e3e16cd6"
  }
 },
 "nbformat": 4,
 "nbformat_minor": 2,
 "cells": [
  {
   "cell_type": "code",
   "execution_count": 1,
   "metadata": {},
   "outputs": [],
   "source": [
    "import numpy as np\n",
    "import pandas as pd\n",
    "import matplotlib.pyplot as plt\n",
    "\n",
    "from sklearn.model_selection import train_test_split\n",
    "from sklearn.linear_model import LinearRegression"
   ]
  },
  {
   "source": [
    "# Exploratory Data Analysis"
   ],
   "cell_type": "markdown",
   "metadata": {}
  },
  {
   "cell_type": "code",
   "execution_count": 2,
   "metadata": {},
   "outputs": [
    {
     "output_type": "execute_result",
     "data": {
      "text/plain": [
       "        Id  MSSubClass MSZoning  LotFrontage  LotArea Street Alley LotShape  \\\n",
       "881    882          50       RL         44.0    13758   Pave   NaN      IR1   \n",
       "1082  1083          20       RL         70.0     8749   Pave   NaN      Reg   \n",
       "868    869          60       RL          NaN    14762   Pave   NaN      IR2   \n",
       "979    980          20       RL         80.0     8816   Pave   NaN      Reg   \n",
       "1253  1254          60       RL          NaN    17542   Pave   NaN      IR1   \n",
       "659    660          20       RL         75.0     9937   Pave   NaN      Reg   \n",
       "158    159          60       FV        100.0    12552   Pave   NaN      Reg   \n",
       "495    496          30  C (all)         60.0     7879   Pave   NaN      Reg   \n",
       "396    397          20       RL         60.0     7200   Pave   NaN      Reg   \n",
       "762    763          60       FV         72.0     8640   Pave   NaN      Reg   \n",
       "\n",
       "     LandContour Utilities  ... PoolArea PoolQC  Fence MiscFeature MiscVal  \\\n",
       "881          Lvl    AllPub  ...        0    NaN    NaN         NaN       0   \n",
       "1082         Lvl    AllPub  ...        0    NaN    NaN         NaN       0   \n",
       "868          Lvl    AllPub  ...        0    NaN    NaN         NaN       0   \n",
       "979          Lvl    AllPub  ...        0    NaN  MnPrv         NaN       0   \n",
       "1253         Lvl    AllPub  ...        0    NaN  MnPrv         NaN       0   \n",
       "659          Lvl    AllPub  ...        0    NaN  MnPrv         NaN       0   \n",
       "158          Lvl    AllPub  ...        0    NaN   GdWo         NaN       0   \n",
       "495          Lvl    AllPub  ...        0    NaN   GdWo         NaN       0   \n",
       "396          Low    AllPub  ...        0    NaN    NaN         NaN       0   \n",
       "762          Lvl    AllPub  ...        0    NaN    NaN         NaN       0   \n",
       "\n",
       "     MoSold YrSold  SaleType  SaleCondition  SalePrice  \n",
       "881       4   2007        WD         Normal     187500  \n",
       "1082      9   2007        WD         Normal     192000  \n",
       "868       5   2006        WD         Normal     169000  \n",
       "979       6   2009        WD         Normal     139000  \n",
       "1253      7   2007        WD         Normal     294000  \n",
       "659       3   2009        WD         Normal     167000  \n",
       "158       5   2010        WD         Normal     254900  \n",
       "495      11   2009        WD        Abnorml      34900  \n",
       "396       9   2009        WD         Normal     123000  \n",
       "762       6   2010       Con         Normal     215200  \n",
       "\n",
       "[10 rows x 81 columns]"
      ],
      "text/html": "<div>\n<style scoped>\n    .dataframe tbody tr th:only-of-type {\n        vertical-align: middle;\n    }\n\n    .dataframe tbody tr th {\n        vertical-align: top;\n    }\n\n    .dataframe thead th {\n        text-align: right;\n    }\n</style>\n<table border=\"1\" class=\"dataframe\">\n  <thead>\n    <tr style=\"text-align: right;\">\n      <th></th>\n      <th>Id</th>\n      <th>MSSubClass</th>\n      <th>MSZoning</th>\n      <th>LotFrontage</th>\n      <th>LotArea</th>\n      <th>Street</th>\n      <th>Alley</th>\n      <th>LotShape</th>\n      <th>LandContour</th>\n      <th>Utilities</th>\n      <th>...</th>\n      <th>PoolArea</th>\n      <th>PoolQC</th>\n      <th>Fence</th>\n      <th>MiscFeature</th>\n      <th>MiscVal</th>\n      <th>MoSold</th>\n      <th>YrSold</th>\n      <th>SaleType</th>\n      <th>SaleCondition</th>\n      <th>SalePrice</th>\n    </tr>\n  </thead>\n  <tbody>\n    <tr>\n      <th>881</th>\n      <td>882</td>\n      <td>50</td>\n      <td>RL</td>\n      <td>44.0</td>\n      <td>13758</td>\n      <td>Pave</td>\n      <td>NaN</td>\n      <td>IR1</td>\n      <td>Lvl</td>\n      <td>AllPub</td>\n      <td>...</td>\n      <td>0</td>\n      <td>NaN</td>\n      <td>NaN</td>\n      <td>NaN</td>\n      <td>0</td>\n      <td>4</td>\n      <td>2007</td>\n      <td>WD</td>\n      <td>Normal</td>\n      <td>187500</td>\n    </tr>\n    <tr>\n      <th>1082</th>\n      <td>1083</td>\n      <td>20</td>\n      <td>RL</td>\n      <td>70.0</td>\n      <td>8749</td>\n      <td>Pave</td>\n      <td>NaN</td>\n      <td>Reg</td>\n      <td>Lvl</td>\n      <td>AllPub</td>\n      <td>...</td>\n      <td>0</td>\n      <td>NaN</td>\n      <td>NaN</td>\n      <td>NaN</td>\n      <td>0</td>\n      <td>9</td>\n      <td>2007</td>\n      <td>WD</td>\n      <td>Normal</td>\n      <td>192000</td>\n    </tr>\n    <tr>\n      <th>868</th>\n      <td>869</td>\n      <td>60</td>\n      <td>RL</td>\n      <td>NaN</td>\n      <td>14762</td>\n      <td>Pave</td>\n      <td>NaN</td>\n      <td>IR2</td>\n      <td>Lvl</td>\n      <td>AllPub</td>\n      <td>...</td>\n      <td>0</td>\n      <td>NaN</td>\n      <td>NaN</td>\n      <td>NaN</td>\n      <td>0</td>\n      <td>5</td>\n      <td>2006</td>\n      <td>WD</td>\n      <td>Normal</td>\n      <td>169000</td>\n    </tr>\n    <tr>\n      <th>979</th>\n      <td>980</td>\n      <td>20</td>\n      <td>RL</td>\n      <td>80.0</td>\n      <td>8816</td>\n      <td>Pave</td>\n      <td>NaN</td>\n      <td>Reg</td>\n      <td>Lvl</td>\n      <td>AllPub</td>\n      <td>...</td>\n      <td>0</td>\n      <td>NaN</td>\n      <td>MnPrv</td>\n      <td>NaN</td>\n      <td>0</td>\n      <td>6</td>\n      <td>2009</td>\n      <td>WD</td>\n      <td>Normal</td>\n      <td>139000</td>\n    </tr>\n    <tr>\n      <th>1253</th>\n      <td>1254</td>\n      <td>60</td>\n      <td>RL</td>\n      <td>NaN</td>\n      <td>17542</td>\n      <td>Pave</td>\n      <td>NaN</td>\n      <td>IR1</td>\n      <td>Lvl</td>\n      <td>AllPub</td>\n      <td>...</td>\n      <td>0</td>\n      <td>NaN</td>\n      <td>MnPrv</td>\n      <td>NaN</td>\n      <td>0</td>\n      <td>7</td>\n      <td>2007</td>\n      <td>WD</td>\n      <td>Normal</td>\n      <td>294000</td>\n    </tr>\n    <tr>\n      <th>659</th>\n      <td>660</td>\n      <td>20</td>\n      <td>RL</td>\n      <td>75.0</td>\n      <td>9937</td>\n      <td>Pave</td>\n      <td>NaN</td>\n      <td>Reg</td>\n      <td>Lvl</td>\n      <td>AllPub</td>\n      <td>...</td>\n      <td>0</td>\n      <td>NaN</td>\n      <td>MnPrv</td>\n      <td>NaN</td>\n      <td>0</td>\n      <td>3</td>\n      <td>2009</td>\n      <td>WD</td>\n      <td>Normal</td>\n      <td>167000</td>\n    </tr>\n    <tr>\n      <th>158</th>\n      <td>159</td>\n      <td>60</td>\n      <td>FV</td>\n      <td>100.0</td>\n      <td>12552</td>\n      <td>Pave</td>\n      <td>NaN</td>\n      <td>Reg</td>\n      <td>Lvl</td>\n      <td>AllPub</td>\n      <td>...</td>\n      <td>0</td>\n      <td>NaN</td>\n      <td>GdWo</td>\n      <td>NaN</td>\n      <td>0</td>\n      <td>5</td>\n      <td>2010</td>\n      <td>WD</td>\n      <td>Normal</td>\n      <td>254900</td>\n    </tr>\n    <tr>\n      <th>495</th>\n      <td>496</td>\n      <td>30</td>\n      <td>C (all)</td>\n      <td>60.0</td>\n      <td>7879</td>\n      <td>Pave</td>\n      <td>NaN</td>\n      <td>Reg</td>\n      <td>Lvl</td>\n      <td>AllPub</td>\n      <td>...</td>\n      <td>0</td>\n      <td>NaN</td>\n      <td>GdWo</td>\n      <td>NaN</td>\n      <td>0</td>\n      <td>11</td>\n      <td>2009</td>\n      <td>WD</td>\n      <td>Abnorml</td>\n      <td>34900</td>\n    </tr>\n    <tr>\n      <th>396</th>\n      <td>397</td>\n      <td>20</td>\n      <td>RL</td>\n      <td>60.0</td>\n      <td>7200</td>\n      <td>Pave</td>\n      <td>NaN</td>\n      <td>Reg</td>\n      <td>Low</td>\n      <td>AllPub</td>\n      <td>...</td>\n      <td>0</td>\n      <td>NaN</td>\n      <td>NaN</td>\n      <td>NaN</td>\n      <td>0</td>\n      <td>9</td>\n      <td>2009</td>\n      <td>WD</td>\n      <td>Normal</td>\n      <td>123000</td>\n    </tr>\n    <tr>\n      <th>762</th>\n      <td>763</td>\n      <td>60</td>\n      <td>FV</td>\n      <td>72.0</td>\n      <td>8640</td>\n      <td>Pave</td>\n      <td>NaN</td>\n      <td>Reg</td>\n      <td>Lvl</td>\n      <td>AllPub</td>\n      <td>...</td>\n      <td>0</td>\n      <td>NaN</td>\n      <td>NaN</td>\n      <td>NaN</td>\n      <td>0</td>\n      <td>6</td>\n      <td>2010</td>\n      <td>Con</td>\n      <td>Normal</td>\n      <td>215200</td>\n    </tr>\n  </tbody>\n</table>\n<p>10 rows × 81 columns</p>\n</div>"
     },
     "metadata": {},
     "execution_count": 2
    }
   ],
   "source": [
    "df = pd.read_csv(\n",
    "    \"/home/kaustav/Desktop/Kaggle-Workspace/House-Prices-Advanced-Regression-Techniques/data/train.csv\")\n",
    "df.sample(10)"
   ]
  },
  {
   "cell_type": "code",
   "execution_count": 3,
   "metadata": {},
   "outputs": [
    {
     "output_type": "execute_result",
     "data": {
      "text/plain": [
       "                Id   MSSubClass  LotFrontage        LotArea  OverallQual  \\\n",
       "count  1460.000000  1460.000000  1201.000000    1460.000000  1460.000000   \n",
       "mean    730.500000    56.897260    70.049958   10516.828082     6.099315   \n",
       "std     421.610009    42.300571    24.284752    9981.264932     1.382997   \n",
       "min       1.000000    20.000000    21.000000    1300.000000     1.000000   \n",
       "25%     365.750000    20.000000    59.000000    7553.500000     5.000000   \n",
       "50%     730.500000    50.000000    69.000000    9478.500000     6.000000   \n",
       "75%    1095.250000    70.000000    80.000000   11601.500000     7.000000   \n",
       "max    1460.000000   190.000000   313.000000  215245.000000    10.000000   \n",
       "\n",
       "       OverallCond    YearBuilt  YearRemodAdd   MasVnrArea   BsmtFinSF1  ...  \\\n",
       "count  1460.000000  1460.000000   1460.000000  1452.000000  1460.000000  ...   \n",
       "mean      5.575342  1971.267808   1984.865753   103.685262   443.639726  ...   \n",
       "std       1.112799    30.202904     20.645407   181.066207   456.098091  ...   \n",
       "min       1.000000  1872.000000   1950.000000     0.000000     0.000000  ...   \n",
       "25%       5.000000  1954.000000   1967.000000     0.000000     0.000000  ...   \n",
       "50%       5.000000  1973.000000   1994.000000     0.000000   383.500000  ...   \n",
       "75%       6.000000  2000.000000   2004.000000   166.000000   712.250000  ...   \n",
       "max       9.000000  2010.000000   2010.000000  1600.000000  5644.000000  ...   \n",
       "\n",
       "        WoodDeckSF  OpenPorchSF  EnclosedPorch    3SsnPorch  ScreenPorch  \\\n",
       "count  1460.000000  1460.000000    1460.000000  1460.000000  1460.000000   \n",
       "mean     94.244521    46.660274      21.954110     3.409589    15.060959   \n",
       "std     125.338794    66.256028      61.119149    29.317331    55.757415   \n",
       "min       0.000000     0.000000       0.000000     0.000000     0.000000   \n",
       "25%       0.000000     0.000000       0.000000     0.000000     0.000000   \n",
       "50%       0.000000    25.000000       0.000000     0.000000     0.000000   \n",
       "75%     168.000000    68.000000       0.000000     0.000000     0.000000   \n",
       "max     857.000000   547.000000     552.000000   508.000000   480.000000   \n",
       "\n",
       "          PoolArea       MiscVal       MoSold       YrSold      SalePrice  \n",
       "count  1460.000000   1460.000000  1460.000000  1460.000000    1460.000000  \n",
       "mean      2.758904     43.489041     6.321918  2007.815753  180921.195890  \n",
       "std      40.177307    496.123024     2.703626     1.328095   79442.502883  \n",
       "min       0.000000      0.000000     1.000000  2006.000000   34900.000000  \n",
       "25%       0.000000      0.000000     5.000000  2007.000000  129975.000000  \n",
       "50%       0.000000      0.000000     6.000000  2008.000000  163000.000000  \n",
       "75%       0.000000      0.000000     8.000000  2009.000000  214000.000000  \n",
       "max     738.000000  15500.000000    12.000000  2010.000000  755000.000000  \n",
       "\n",
       "[8 rows x 38 columns]"
      ],
      "text/html": "<div>\n<style scoped>\n    .dataframe tbody tr th:only-of-type {\n        vertical-align: middle;\n    }\n\n    .dataframe tbody tr th {\n        vertical-align: top;\n    }\n\n    .dataframe thead th {\n        text-align: right;\n    }\n</style>\n<table border=\"1\" class=\"dataframe\">\n  <thead>\n    <tr style=\"text-align: right;\">\n      <th></th>\n      <th>Id</th>\n      <th>MSSubClass</th>\n      <th>LotFrontage</th>\n      <th>LotArea</th>\n      <th>OverallQual</th>\n      <th>OverallCond</th>\n      <th>YearBuilt</th>\n      <th>YearRemodAdd</th>\n      <th>MasVnrArea</th>\n      <th>BsmtFinSF1</th>\n      <th>...</th>\n      <th>WoodDeckSF</th>\n      <th>OpenPorchSF</th>\n      <th>EnclosedPorch</th>\n      <th>3SsnPorch</th>\n      <th>ScreenPorch</th>\n      <th>PoolArea</th>\n      <th>MiscVal</th>\n      <th>MoSold</th>\n      <th>YrSold</th>\n      <th>SalePrice</th>\n    </tr>\n  </thead>\n  <tbody>\n    <tr>\n      <th>count</th>\n      <td>1460.000000</td>\n      <td>1460.000000</td>\n      <td>1201.000000</td>\n      <td>1460.000000</td>\n      <td>1460.000000</td>\n      <td>1460.000000</td>\n      <td>1460.000000</td>\n      <td>1460.000000</td>\n      <td>1452.000000</td>\n      <td>1460.000000</td>\n      <td>...</td>\n      <td>1460.000000</td>\n      <td>1460.000000</td>\n      <td>1460.000000</td>\n      <td>1460.000000</td>\n      <td>1460.000000</td>\n      <td>1460.000000</td>\n      <td>1460.000000</td>\n      <td>1460.000000</td>\n      <td>1460.000000</td>\n      <td>1460.000000</td>\n    </tr>\n    <tr>\n      <th>mean</th>\n      <td>730.500000</td>\n      <td>56.897260</td>\n      <td>70.049958</td>\n      <td>10516.828082</td>\n      <td>6.099315</td>\n      <td>5.575342</td>\n      <td>1971.267808</td>\n      <td>1984.865753</td>\n      <td>103.685262</td>\n      <td>443.639726</td>\n      <td>...</td>\n      <td>94.244521</td>\n      <td>46.660274</td>\n      <td>21.954110</td>\n      <td>3.409589</td>\n      <td>15.060959</td>\n      <td>2.758904</td>\n      <td>43.489041</td>\n      <td>6.321918</td>\n      <td>2007.815753</td>\n      <td>180921.195890</td>\n    </tr>\n    <tr>\n      <th>std</th>\n      <td>421.610009</td>\n      <td>42.300571</td>\n      <td>24.284752</td>\n      <td>9981.264932</td>\n      <td>1.382997</td>\n      <td>1.112799</td>\n      <td>30.202904</td>\n      <td>20.645407</td>\n      <td>181.066207</td>\n      <td>456.098091</td>\n      <td>...</td>\n      <td>125.338794</td>\n      <td>66.256028</td>\n      <td>61.119149</td>\n      <td>29.317331</td>\n      <td>55.757415</td>\n      <td>40.177307</td>\n      <td>496.123024</td>\n      <td>2.703626</td>\n      <td>1.328095</td>\n      <td>79442.502883</td>\n    </tr>\n    <tr>\n      <th>min</th>\n      <td>1.000000</td>\n      <td>20.000000</td>\n      <td>21.000000</td>\n      <td>1300.000000</td>\n      <td>1.000000</td>\n      <td>1.000000</td>\n      <td>1872.000000</td>\n      <td>1950.000000</td>\n      <td>0.000000</td>\n      <td>0.000000</td>\n      <td>...</td>\n      <td>0.000000</td>\n      <td>0.000000</td>\n      <td>0.000000</td>\n      <td>0.000000</td>\n      <td>0.000000</td>\n      <td>0.000000</td>\n      <td>0.000000</td>\n      <td>1.000000</td>\n      <td>2006.000000</td>\n      <td>34900.000000</td>\n    </tr>\n    <tr>\n      <th>25%</th>\n      <td>365.750000</td>\n      <td>20.000000</td>\n      <td>59.000000</td>\n      <td>7553.500000</td>\n      <td>5.000000</td>\n      <td>5.000000</td>\n      <td>1954.000000</td>\n      <td>1967.000000</td>\n      <td>0.000000</td>\n      <td>0.000000</td>\n      <td>...</td>\n      <td>0.000000</td>\n      <td>0.000000</td>\n      <td>0.000000</td>\n      <td>0.000000</td>\n      <td>0.000000</td>\n      <td>0.000000</td>\n      <td>0.000000</td>\n      <td>5.000000</td>\n      <td>2007.000000</td>\n      <td>129975.000000</td>\n    </tr>\n    <tr>\n      <th>50%</th>\n      <td>730.500000</td>\n      <td>50.000000</td>\n      <td>69.000000</td>\n      <td>9478.500000</td>\n      <td>6.000000</td>\n      <td>5.000000</td>\n      <td>1973.000000</td>\n      <td>1994.000000</td>\n      <td>0.000000</td>\n      <td>383.500000</td>\n      <td>...</td>\n      <td>0.000000</td>\n      <td>25.000000</td>\n      <td>0.000000</td>\n      <td>0.000000</td>\n      <td>0.000000</td>\n      <td>0.000000</td>\n      <td>0.000000</td>\n      <td>6.000000</td>\n      <td>2008.000000</td>\n      <td>163000.000000</td>\n    </tr>\n    <tr>\n      <th>75%</th>\n      <td>1095.250000</td>\n      <td>70.000000</td>\n      <td>80.000000</td>\n      <td>11601.500000</td>\n      <td>7.000000</td>\n      <td>6.000000</td>\n      <td>2000.000000</td>\n      <td>2004.000000</td>\n      <td>166.000000</td>\n      <td>712.250000</td>\n      <td>...</td>\n      <td>168.000000</td>\n      <td>68.000000</td>\n      <td>0.000000</td>\n      <td>0.000000</td>\n      <td>0.000000</td>\n      <td>0.000000</td>\n      <td>0.000000</td>\n      <td>8.000000</td>\n      <td>2009.000000</td>\n      <td>214000.000000</td>\n    </tr>\n    <tr>\n      <th>max</th>\n      <td>1460.000000</td>\n      <td>190.000000</td>\n      <td>313.000000</td>\n      <td>215245.000000</td>\n      <td>10.000000</td>\n      <td>9.000000</td>\n      <td>2010.000000</td>\n      <td>2010.000000</td>\n      <td>1600.000000</td>\n      <td>5644.000000</td>\n      <td>...</td>\n      <td>857.000000</td>\n      <td>547.000000</td>\n      <td>552.000000</td>\n      <td>508.000000</td>\n      <td>480.000000</td>\n      <td>738.000000</td>\n      <td>15500.000000</td>\n      <td>12.000000</td>\n      <td>2010.000000</td>\n      <td>755000.000000</td>\n    </tr>\n  </tbody>\n</table>\n<p>8 rows × 38 columns</p>\n</div>"
     },
     "metadata": {},
     "execution_count": 3
    }
   ],
   "source": [
    "df.describe()"
   ]
  },
  {
   "cell_type": "code",
   "execution_count": 4,
   "metadata": {},
   "outputs": [
    {
     "output_type": "execute_result",
     "data": {
      "text/plain": [
       "Id                 int64\n",
       "MSSubClass         int64\n",
       "MSZoning          object\n",
       "LotFrontage      float64\n",
       "LotArea            int64\n",
       "                  ...   \n",
       "MoSold             int64\n",
       "YrSold             int64\n",
       "SaleType          object\n",
       "SaleCondition     object\n",
       "SalePrice          int64\n",
       "Length: 81, dtype: object"
      ]
     },
     "metadata": {},
     "execution_count": 4
    }
   ],
   "source": [
    "df.dtypes"
   ]
  },
  {
   "cell_type": "code",
   "execution_count": 5,
   "metadata": {},
   "outputs": [
    {
     "output_type": "execute_result",
     "data": {
      "text/plain": [
       "Index(['MSZoning', 'Street', 'Alley', 'LotShape', 'LandContour', 'Utilities',\n",
       "       'LotConfig', 'LandSlope', 'Neighborhood', 'Condition1', 'Condition2',\n",
       "       'BldgType', 'HouseStyle', 'RoofStyle', 'RoofMatl', 'Exterior1st',\n",
       "       'Exterior2nd', 'MasVnrType', 'ExterQual', 'ExterCond', 'Foundation',\n",
       "       'BsmtQual', 'BsmtCond', 'BsmtExposure', 'BsmtFinType1', 'BsmtFinType2',\n",
       "       'Heating', 'HeatingQC', 'CentralAir', 'Electrical', 'KitchenQual',\n",
       "       'Functional', 'FireplaceQu', 'GarageType', 'GarageFinish', 'GarageQual',\n",
       "       'GarageCond', 'PavedDrive', 'PoolQC', 'Fence', 'MiscFeature',\n",
       "       'SaleType', 'SaleCondition'],\n",
       "      dtype='object')"
      ]
     },
     "metadata": {},
     "execution_count": 5
    }
   ],
   "source": [
    "df.columns[df.dtypes == 'object']"
   ]
  },
  {
   "cell_type": "code",
   "execution_count": 6,
   "metadata": {},
   "outputs": [
    {
     "output_type": "execute_result",
     "data": {
      "text/plain": [
       "        Id  MSSubClass  LotFrontage  LotArea  OverallQual  OverallCond  \\\n",
       "535    536         190         70.0     7000            5            7   \n",
       "80      81          60        100.0    13000            6            6   \n",
       "1394  1395         120         53.0     4045            7            5   \n",
       "747    748          70         65.0    11700            7            7   \n",
       "1411  1412          50         80.0     9600            6            8   \n",
       "390    391          50         50.0     8405            5            8   \n",
       "128    129          60         69.0     7590            6            5   \n",
       "762    763          60         72.0     8640            7            5   \n",
       "855    856          20          NaN     6897            5            8   \n",
       "1147  1148          70         75.0    12000            7            7   \n",
       "\n",
       "      YearBuilt  YearRemodAdd  MasVnrArea  BsmtFinSF1  ...  SaleType_ConLw  \\\n",
       "535        1910          1991         0.0         969  ...               0   \n",
       "80         1968          1968       576.0         448  ...               0   \n",
       "1394       2006          2006        45.0        1070  ...               0   \n",
       "747        1880          2003         0.0           0  ...               0   \n",
       "1411       1950          2005         0.0         120  ...               0   \n",
       "390        1900          1950         0.0         241  ...               0   \n",
       "128        1966          1966       266.0         512  ...               0   \n",
       "762        2009          2009         0.0          24  ...               0   \n",
       "855        1962          2010         0.0         659  ...               0   \n",
       "1147       1941          1950         0.0         275  ...               0   \n",
       "\n",
       "      SaleType_New  SaleType_Oth  SaleType_WD  SaleCondition_Abnorml  \\\n",
       "535              0             0            1                      0   \n",
       "80               0             0            1                      0   \n",
       "1394             1             0            0                      0   \n",
       "747              0             0            1                      0   \n",
       "1411             0             0            1                      0   \n",
       "390              0             0            1                      0   \n",
       "128              0             0            1                      0   \n",
       "762              0             0            0                      0   \n",
       "855              0             0            1                      0   \n",
       "1147             0             0            1                      0   \n",
       "\n",
       "      SaleCondition_AdjLand  SaleCondition_Alloca  SaleCondition_Family  \\\n",
       "535                       0                     0                     0   \n",
       "80                        0                     0                     0   \n",
       "1394                      0                     0                     0   \n",
       "747                       0                     0                     0   \n",
       "1411                      0                     0                     0   \n",
       "390                       0                     0                     0   \n",
       "128                       0                     0                     0   \n",
       "762                       0                     0                     0   \n",
       "855                       0                     0                     0   \n",
       "1147                      0                     0                     0   \n",
       "\n",
       "      SaleCondition_Normal  SaleCondition_Partial  \n",
       "535                      1                      0  \n",
       "80                       1                      0  \n",
       "1394                     0                      1  \n",
       "747                      1                      0  \n",
       "1411                     1                      0  \n",
       "390                      1                      0  \n",
       "128                      1                      0  \n",
       "762                      1                      0  \n",
       "855                      1                      0  \n",
       "1147                     1                      0  \n",
       "\n",
       "[10 rows x 290 columns]"
      ],
      "text/html": "<div>\n<style scoped>\n    .dataframe tbody tr th:only-of-type {\n        vertical-align: middle;\n    }\n\n    .dataframe tbody tr th {\n        vertical-align: top;\n    }\n\n    .dataframe thead th {\n        text-align: right;\n    }\n</style>\n<table border=\"1\" class=\"dataframe\">\n  <thead>\n    <tr style=\"text-align: right;\">\n      <th></th>\n      <th>Id</th>\n      <th>MSSubClass</th>\n      <th>LotFrontage</th>\n      <th>LotArea</th>\n      <th>OverallQual</th>\n      <th>OverallCond</th>\n      <th>YearBuilt</th>\n      <th>YearRemodAdd</th>\n      <th>MasVnrArea</th>\n      <th>BsmtFinSF1</th>\n      <th>...</th>\n      <th>SaleType_ConLw</th>\n      <th>SaleType_New</th>\n      <th>SaleType_Oth</th>\n      <th>SaleType_WD</th>\n      <th>SaleCondition_Abnorml</th>\n      <th>SaleCondition_AdjLand</th>\n      <th>SaleCondition_Alloca</th>\n      <th>SaleCondition_Family</th>\n      <th>SaleCondition_Normal</th>\n      <th>SaleCondition_Partial</th>\n    </tr>\n  </thead>\n  <tbody>\n    <tr>\n      <th>535</th>\n      <td>536</td>\n      <td>190</td>\n      <td>70.0</td>\n      <td>7000</td>\n      <td>5</td>\n      <td>7</td>\n      <td>1910</td>\n      <td>1991</td>\n      <td>0.0</td>\n      <td>969</td>\n      <td>...</td>\n      <td>0</td>\n      <td>0</td>\n      <td>0</td>\n      <td>1</td>\n      <td>0</td>\n      <td>0</td>\n      <td>0</td>\n      <td>0</td>\n      <td>1</td>\n      <td>0</td>\n    </tr>\n    <tr>\n      <th>80</th>\n      <td>81</td>\n      <td>60</td>\n      <td>100.0</td>\n      <td>13000</td>\n      <td>6</td>\n      <td>6</td>\n      <td>1968</td>\n      <td>1968</td>\n      <td>576.0</td>\n      <td>448</td>\n      <td>...</td>\n      <td>0</td>\n      <td>0</td>\n      <td>0</td>\n      <td>1</td>\n      <td>0</td>\n      <td>0</td>\n      <td>0</td>\n      <td>0</td>\n      <td>1</td>\n      <td>0</td>\n    </tr>\n    <tr>\n      <th>1394</th>\n      <td>1395</td>\n      <td>120</td>\n      <td>53.0</td>\n      <td>4045</td>\n      <td>7</td>\n      <td>5</td>\n      <td>2006</td>\n      <td>2006</td>\n      <td>45.0</td>\n      <td>1070</td>\n      <td>...</td>\n      <td>0</td>\n      <td>1</td>\n      <td>0</td>\n      <td>0</td>\n      <td>0</td>\n      <td>0</td>\n      <td>0</td>\n      <td>0</td>\n      <td>0</td>\n      <td>1</td>\n    </tr>\n    <tr>\n      <th>747</th>\n      <td>748</td>\n      <td>70</td>\n      <td>65.0</td>\n      <td>11700</td>\n      <td>7</td>\n      <td>7</td>\n      <td>1880</td>\n      <td>2003</td>\n      <td>0.0</td>\n      <td>0</td>\n      <td>...</td>\n      <td>0</td>\n      <td>0</td>\n      <td>0</td>\n      <td>1</td>\n      <td>0</td>\n      <td>0</td>\n      <td>0</td>\n      <td>0</td>\n      <td>1</td>\n      <td>0</td>\n    </tr>\n    <tr>\n      <th>1411</th>\n      <td>1412</td>\n      <td>50</td>\n      <td>80.0</td>\n      <td>9600</td>\n      <td>6</td>\n      <td>8</td>\n      <td>1950</td>\n      <td>2005</td>\n      <td>0.0</td>\n      <td>120</td>\n      <td>...</td>\n      <td>0</td>\n      <td>0</td>\n      <td>0</td>\n      <td>1</td>\n      <td>0</td>\n      <td>0</td>\n      <td>0</td>\n      <td>0</td>\n      <td>1</td>\n      <td>0</td>\n    </tr>\n    <tr>\n      <th>390</th>\n      <td>391</td>\n      <td>50</td>\n      <td>50.0</td>\n      <td>8405</td>\n      <td>5</td>\n      <td>8</td>\n      <td>1900</td>\n      <td>1950</td>\n      <td>0.0</td>\n      <td>241</td>\n      <td>...</td>\n      <td>0</td>\n      <td>0</td>\n      <td>0</td>\n      <td>1</td>\n      <td>0</td>\n      <td>0</td>\n      <td>0</td>\n      <td>0</td>\n      <td>1</td>\n      <td>0</td>\n    </tr>\n    <tr>\n      <th>128</th>\n      <td>129</td>\n      <td>60</td>\n      <td>69.0</td>\n      <td>7590</td>\n      <td>6</td>\n      <td>5</td>\n      <td>1966</td>\n      <td>1966</td>\n      <td>266.0</td>\n      <td>512</td>\n      <td>...</td>\n      <td>0</td>\n      <td>0</td>\n      <td>0</td>\n      <td>1</td>\n      <td>0</td>\n      <td>0</td>\n      <td>0</td>\n      <td>0</td>\n      <td>1</td>\n      <td>0</td>\n    </tr>\n    <tr>\n      <th>762</th>\n      <td>763</td>\n      <td>60</td>\n      <td>72.0</td>\n      <td>8640</td>\n      <td>7</td>\n      <td>5</td>\n      <td>2009</td>\n      <td>2009</td>\n      <td>0.0</td>\n      <td>24</td>\n      <td>...</td>\n      <td>0</td>\n      <td>0</td>\n      <td>0</td>\n      <td>0</td>\n      <td>0</td>\n      <td>0</td>\n      <td>0</td>\n      <td>0</td>\n      <td>1</td>\n      <td>0</td>\n    </tr>\n    <tr>\n      <th>855</th>\n      <td>856</td>\n      <td>20</td>\n      <td>NaN</td>\n      <td>6897</td>\n      <td>5</td>\n      <td>8</td>\n      <td>1962</td>\n      <td>2010</td>\n      <td>0.0</td>\n      <td>659</td>\n      <td>...</td>\n      <td>0</td>\n      <td>0</td>\n      <td>0</td>\n      <td>1</td>\n      <td>0</td>\n      <td>0</td>\n      <td>0</td>\n      <td>0</td>\n      <td>1</td>\n      <td>0</td>\n    </tr>\n    <tr>\n      <th>1147</th>\n      <td>1148</td>\n      <td>70</td>\n      <td>75.0</td>\n      <td>12000</td>\n      <td>7</td>\n      <td>7</td>\n      <td>1941</td>\n      <td>1950</td>\n      <td>0.0</td>\n      <td>275</td>\n      <td>...</td>\n      <td>0</td>\n      <td>0</td>\n      <td>0</td>\n      <td>1</td>\n      <td>0</td>\n      <td>0</td>\n      <td>0</td>\n      <td>0</td>\n      <td>1</td>\n      <td>0</td>\n    </tr>\n  </tbody>\n</table>\n<p>10 rows × 290 columns</p>\n</div>"
     },
     "metadata": {},
     "execution_count": 6
    }
   ],
   "source": [
    "# Dealing with multiple categorical columns\n",
    "categorical_columns = ['MSZoning', 'Street', 'Alley', 'LotShape', 'LandContour',\n",
    "       'Utilities', 'LotConfig', 'LandSlope', 'Neighborhood',\n",
    "       'Condition1', 'Condition2', 'BldgType', 'HouseStyle', 'RoofStyle',\n",
    "       'RoofMatl', 'Exterior1st', 'Exterior2nd', 'MasVnrType',\n",
    "       'ExterQual', 'ExterCond', 'Foundation', 'BsmtQual', 'BsmtCond',\n",
    "       'BsmtExposure', 'BsmtFinType1', 'BsmtFinType2', 'Heating',\n",
    "       'HeatingQC', 'CentralAir', 'Electrical', 'KitchenQual',\n",
    "       'Functional', 'FireplaceQu', 'GarageType', 'GarageFinish',\n",
    "       'GarageQual', 'GarageCond', 'PavedDrive', 'PoolQC', 'Fence',\n",
    "       'MiscFeature', 'SaleType', 'SaleCondition']\n",
    "\n",
    "df_dummies = pd.get_dummies(df, columns = categorical_columns)\n",
    "df_dummies.sample(10)"
   ]
  },
  {
   "cell_type": "code",
   "execution_count": 7,
   "metadata": {},
   "outputs": [],
   "source": [
    "X = df_dummies.loc[:, df_dummies.columns != \"SalePrice\"]\n",
    "y = df_dummies[\"SalePrice\"]"
   ]
  },
  {
   "cell_type": "code",
   "execution_count": 8,
   "metadata": {},
   "outputs": [
    {
     "output_type": "execute_result",
     "data": {
      "text/plain": [
       "((1241, 289), (219, 289), (1241,), (219,))"
      ]
     },
     "metadata": {},
     "execution_count": 8
    }
   ],
   "source": [
    "X_train, X_val, y_train, y_val = train_test_split(X, y, train_size=0.85, random_state=42)\n",
    "X_train.shape, X_val.shape, y_train.shape, y_val.shape"
   ]
  },
  {
   "source": [
    "# Fill NaN values with mean only after train_test_split to prevent data leakage"
   ],
   "cell_type": "markdown",
   "metadata": {}
  },
  {
   "cell_type": "code",
   "execution_count": 9,
   "metadata": {},
   "outputs": [
    {
     "output_type": "stream",
     "name": "stderr",
     "text": [
      "/home/kaustav/.local/lib/python3.6/site-packages/pandas/core/series.py:4536: SettingWithCopyWarning: \nA value is trying to be set on a copy of a slice from a DataFrame\n\nSee the caveats in the documentation: https://pandas.pydata.org/pandas-docs/stable/user_guide/indexing.html#returning-a-view-versus-a-copy\n  downcast=downcast,\n"
     ]
    }
   ],
   "source": [
    "X_train.fillna(X_train.mean() , inplace = True)\n",
    "X_val.fillna(X_val.mean() , inplace = True)"
   ]
  },
  {
   "cell_type": "code",
   "execution_count": 10,
   "metadata": {},
   "outputs": [
    {
     "output_type": "execute_result",
     "data": {
      "text/plain": [
       "(Index([], dtype='object'), Index([], dtype='object'))"
      ]
     },
     "metadata": {},
     "execution_count": 10
    }
   ],
   "source": [
    "X_train.columns[X_train.isnull().sum() > 0 ] , X_val.columns[X_val.isnull().sum() > 0 ]"
   ]
  },
  {
   "cell_type": "code",
   "execution_count": 11,
   "metadata": {},
   "outputs": [
    {
     "output_type": "stream",
     "name": "stdout",
     "text": [
      "Simple Linear Regressor 0.9394600229747782\n"
     ]
    }
   ],
   "source": [
    "lin_reg = LinearRegression()\n",
    "lin_reg.fit(X_train,y_train)\n",
    "print(\"Simple Linear Regressor\" , lin_reg.score(X_train,y_train))"
   ]
  },
  {
   "cell_type": "code",
   "execution_count": 12,
   "metadata": {},
   "outputs": [
    {
     "output_type": "stream",
     "name": "stdout",
     "text": [
      "3469.0216739006864\n[ 4.45756194e-01 -6.95181060e+00  1.80881775e+01  8.81321481e-01\n  7.58272546e+03  4.78795609e+03  3.22759693e+02  1.30811743e+02\n  2.05584423e+01  1.73959555e+01  3.78023084e+00  1.12182603e+00\n  2.22981677e+01  5.14110712e+00  2.34731629e+01  4.16502576e+00\n  3.27797967e+01  2.12648368e+03  9.23560050e+02  3.01006557e+03\n  2.38625482e+03 -3.07943643e+03 -1.24994245e+04  1.90706141e+03\n  3.57438945e+03 -7.39326069e+01  7.44963066e+02  3.48729642e+01\n  1.95468880e+01 -9.18099440e-01  1.25446986e+01  3.50173122e+01\n  4.33809659e+01  6.44389973e+03  2.37326488e+00 -4.09298313e+02\n -3.39383774e+02 -1.69045772e+04  1.08974767e+04  3.99961533e+02\n  2.16747784e+03  3.43966113e+03 -1.64588982e+04  1.64588982e+04\n  2.95138859e+03  3.77396353e+03 -3.66848847e+03  2.48937792e+03\n  1.98237404e+03 -8.03263488e+02 -1.08863808e+03  9.13868412e+03\n -1.09055204e+04  2.85547431e+03  2.11249527e+04 -2.11249527e+04\n  4.35757722e+03  1.50260387e+04 -1.02496883e+03 -2.20139796e+04\n  3.65533251e+03  2.01704264e+04  2.70214489e+04 -4.71918754e+04\n  7.49682009e+03  3.78247507e+03  4.36368002e+02 -1.60230209e+03\n -8.20610559e+03 -5.02768873e+03  1.28119999e+04 -1.62757300e+04\n -6.20247171e+03 -1.55101578e+04 -8.20170808e+03 -1.69374728e+04\n -1.22078084e+04  1.81583686e+04 -1.46601205e+04  2.14460936e+04\n  2.65038447e+04 -1.51935476e+04 -4.78374503e+03 -5.84483738e+03\n -7.40440328e+02  1.88012152e+02  3.86584495e+04 -4.93166921e+03\n  6.84337367e+03 -6.47017191e+03 -4.08371601e+01  8.13668791e+03\n  3.12902077e+03  9.35570452e+03 -2.39495944e+04  8.12673112e+03\n -8.43575738e+03  1.01482165e+04  4.52831689e+04  4.33280791e+04\n  3.61534868e+04  8.16866548e+04 -1.93252817e+05 -8.10275924e+04\n  3.14882509e+04  3.63407690e+04  1.36310634e+04  4.99837489e+03\n  2.92759993e+02 -1.08031167e+04 -8.11908159e+03  2.26810730e+03\n  1.40064077e+04  7.88869934e+03 -2.17953526e+04 -3.57869423e+03\n -3.48342379e+03 -2.55706151e+01  4.71982694e+03 -2.11195336e+04\n -2.00263570e+04 -1.51550311e+04 -2.05484118e+04 -6.29146991e+03\n  8.31408035e+04  8.22147762e+05 -1.47413560e+05  5.78584149e-08\n -7.45399427e+04 -1.50950005e+05 -1.46175619e+05 -1.59051559e+05\n -1.44017076e+05  9.20649353e+03 -2.56391607e+03  8.18935714e+03\n  1.55765976e+04 -1.15677070e+03 -1.02010448e+04 -3.28199193e+03\n -3.43971264e+03  2.50645341e+03 -1.71742843e+03  1.33233131e+04\n -5.71030501e+03 -5.40447147e+03 -9.89396910e+03 -5.43260465e+03\n -6.29007360e+03 -9.07995176e+01 -5.75583423e+03  6.70205505e+03\n -1.15677070e+03  1.34708011e+04  7.52250405e+02  4.46242351e+03\n -1.30260215e+03 -2.25355395e+04 -1.57949371e+03 -1.29527118e+04\n  9.86814507e+03  5.13071274e+03  9.49512992e+03  1.78230741e+03\n -9.06371675e+03  1.58483482e+02  2.98899594e+03  2.70098833e+03\n  1.46155717e+04 -9.37643753e+02 -6.85236742e+03 -6.82556056e+03\n  7.56432011e+02 -3.80683521e+03 -5.30199739e+03  1.34402433e+04\n -5.08784272e+03  1.44408493e+03  5.11406083e+03  8.30433065e+03\n -6.13964735e+03  1.24188629e+04 -2.11416920e+04  9.34932171e+03\n -1.10462621e+03 -7.61946588e+03 -5.12357302e+03 -2.67050665e+04\n -2.52451600e+04  6.79750610e+04 -2.05231779e+04  1.15867346e+04\n  2.65017437e+04  9.94904643e+03  7.76002083e+03 -1.49341246e+03\n -9.01397878e+02  2.75467565e+03 -4.08121528e+03 -1.34359778e+03\n  5.66604343e+02  7.10370994e+03 -3.33363961e+03  2.61451396e+03\n -6.64991667e+03 -8.09150511e+02 -3.42386051e+03  2.07898750e+03\n  3.90926432e+03 -2.71838051e+03 -3.88818461e+03 -2.13719243e+04\n  2.19902376e+04 -3.03485545e+03 -6.11634422e+01 -5.73501914e+03\n  1.30595975e+04 -4.22855947e+03 -6.14723538e+02  6.14723538e+02\n -1.25011801e+04 -1.50301697e+04 -2.39678998e+04 -7.27595761e-12\n -1.45104921e+04  1.22441811e+04 -3.20492444e+02 -5.92416770e+03\n -5.99952092e+03  9.33138170e+03 -4.40094091e+03  9.07802631e+03\n  1.28512383e+04 -8.61817784e+02 -4.67093603e+04  2.07114727e+04\n -3.04806972e+03 -6.12151021e+03 -2.04404825e+03  4.82381526e+02\n  3.79395136e+01 -2.61534215e+04 -2.34505566e+03  2.73215387e+03\n -3.37612924e+03  1.03926025e+04 -3.07037922e+02 -5.46699744e+03\n -7.97422263e+03 -5.61566790e+03  1.28015017e+05 -3.57959084e+04\n -2.89908834e+04 -5.22688663e+04 -3.00162471e+04 -1.25986601e+05\n  2.54086170e+04  2.50952467e+04  3.01196214e+04  2.63062280e+04\n  3.03178808e+03 -3.70956990e+03  6.77781816e+02 -3.33055025e+06\n -4.14639519e+06 -4.68899529e+06 -6.79764449e+03 -7.95895480e+02\n  1.54842520e+03 -6.95183927e+03 -3.71208021e+04  6.07118794e+03\n -6.09163717e+02  7.70064167e+05 -9.09467632e+03  8.92585228e+03\n  1.09268410e+04  6.69107999e+03 -9.03001936e+03 -1.20616006e+04\n  4.71862207e+03  8.69369080e+03 -9.76978986e+03 -7.15146787e+03\n  4.61610358e+03  8.57938515e+03 -5.68716115e+03 -5.60389304e+02\n  2.03529582e+02]\n"
     ]
    }
   ],
   "source": [
    "print(lin_reg.intercept_) \n",
    "print(lin_reg.coef_)"
   ]
  },
  {
   "cell_type": "code",
   "execution_count": 13,
   "metadata": {},
   "outputs": [
    {
     "output_type": "execute_result",
     "data": {
      "text/plain": [
       "      Actual      Predicted\n",
       "56    172500  200320.260087\n",
       "1036  315500  317009.690336\n",
       "620    67000   57779.424475\n",
       "432   122500  119634.698102\n",
       "239   113000  117282.251472\n",
       "163   103200  100701.751137\n",
       "1344  155835  194639.933155\n",
       "198   104000  117725.606452\n",
       "906   255000  239028.736923\n",
       "1094  129000  131608.722406\n",
       "1414  207000  192131.758832\n",
       "1450  136000  118651.838349\n",
       "925   175000  165581.882189\n",
       "1333  125500  132469.650792\n",
       "1394  246578  222948.866491"
      ],
      "text/html": "<div>\n<style scoped>\n    .dataframe tbody tr th:only-of-type {\n        vertical-align: middle;\n    }\n\n    .dataframe tbody tr th {\n        vertical-align: top;\n    }\n\n    .dataframe thead th {\n        text-align: right;\n    }\n</style>\n<table border=\"1\" class=\"dataframe\">\n  <thead>\n    <tr style=\"text-align: right;\">\n      <th></th>\n      <th>Actual</th>\n      <th>Predicted</th>\n    </tr>\n  </thead>\n  <tbody>\n    <tr>\n      <th>56</th>\n      <td>172500</td>\n      <td>200320.260087</td>\n    </tr>\n    <tr>\n      <th>1036</th>\n      <td>315500</td>\n      <td>317009.690336</td>\n    </tr>\n    <tr>\n      <th>620</th>\n      <td>67000</td>\n      <td>57779.424475</td>\n    </tr>\n    <tr>\n      <th>432</th>\n      <td>122500</td>\n      <td>119634.698102</td>\n    </tr>\n    <tr>\n      <th>239</th>\n      <td>113000</td>\n      <td>117282.251472</td>\n    </tr>\n    <tr>\n      <th>163</th>\n      <td>103200</td>\n      <td>100701.751137</td>\n    </tr>\n    <tr>\n      <th>1344</th>\n      <td>155835</td>\n      <td>194639.933155</td>\n    </tr>\n    <tr>\n      <th>198</th>\n      <td>104000</td>\n      <td>117725.606452</td>\n    </tr>\n    <tr>\n      <th>906</th>\n      <td>255000</td>\n      <td>239028.736923</td>\n    </tr>\n    <tr>\n      <th>1094</th>\n      <td>129000</td>\n      <td>131608.722406</td>\n    </tr>\n    <tr>\n      <th>1414</th>\n      <td>207000</td>\n      <td>192131.758832</td>\n    </tr>\n    <tr>\n      <th>1450</th>\n      <td>136000</td>\n      <td>118651.838349</td>\n    </tr>\n    <tr>\n      <th>925</th>\n      <td>175000</td>\n      <td>165581.882189</td>\n    </tr>\n    <tr>\n      <th>1333</th>\n      <td>125500</td>\n      <td>132469.650792</td>\n    </tr>\n    <tr>\n      <th>1394</th>\n      <td>246578</td>\n      <td>222948.866491</td>\n    </tr>\n  </tbody>\n</table>\n</div>"
     },
     "metadata": {},
     "execution_count": 13
    }
   ],
   "source": [
    "y_pred = lin_reg.predict(X_val)\n",
    "df_compare = pd.DataFrame({'Actual': y_val, 'Predicted': y_pred})\n",
    "df_compare.sample(15)"
   ]
  },
  {
   "cell_type": "code",
   "execution_count": 14,
   "metadata": {},
   "outputs": [
    {
     "output_type": "execute_result",
     "data": {
      "text/plain": [
       "        Id  MSSubClass MSZoning  LotFrontage  LotArea Street Alley LotShape  \\\n",
       "725   2186          20       RL         65.0     6500   Pave   NaN      Reg   \n",
       "364   1825          70       RL         50.0     4960   Pave   NaN      Reg   \n",
       "575   2036         160       FV         24.0     2645   Pave  Pave      Reg   \n",
       "1200  2661          20       RL        121.0    13758   Pave   NaN      IR1   \n",
       "457   1918          85       RL         75.0     9750   Pave   NaN      Reg   \n",
       "266   1727         120       RL         50.0     7175   Pave   NaN      Reg   \n",
       "199   1660          20       RL          NaN    10710   Pave   NaN      Reg   \n",
       "1052  2513          60       RL          NaN     8883   Pave   NaN      IR1   \n",
       "954   2415          90       RL         70.0     8078   Pave   NaN      Reg   \n",
       "1270  2731          30       RL         60.0     8550   Pave   NaN      Reg   \n",
       "590   2051          20       RL         74.0     7785   Pave   NaN      IR1   \n",
       "90    1551          30       RM         51.0     6120   Pave   NaN      Reg   \n",
       "1438  2899          20       RL         70.0     9116   Pave   NaN      Reg   \n",
       "878   2339          20       RL         76.0    10612   Pave   NaN      Reg   \n",
       "861   2322          20       RL         53.0     3710   Pave   NaN      Reg   \n",
       "\n",
       "     LandContour Utilities  ... ScreenPorch PoolArea PoolQC  Fence  \\\n",
       "725          Lvl    AllPub  ...           0        0    NaN    NaN   \n",
       "364          Lvl    AllPub  ...           0        0    NaN    NaN   \n",
       "575          Lvl    AllPub  ...           0        0    NaN    NaN   \n",
       "1200         Lvl    AllPub  ...           0        0    NaN    NaN   \n",
       "457          Lvl    AllPub  ...           0        0    NaN  MnPrv   \n",
       "266          Lvl    AllPub  ...           0        0    NaN    NaN   \n",
       "199          Lvl    AllPub  ...           0        0    NaN    NaN   \n",
       "1052         Lvl    AllPub  ...         144        0    NaN  GdPrv   \n",
       "954          Lvl    AllPub  ...           0        0    NaN    NaN   \n",
       "1270         Lvl    AllPub  ...           0        0    NaN  MnPrv   \n",
       "590          Lvl    AllPub  ...         200        0    NaN   GdWo   \n",
       "90           Lvl    AllPub  ...           0        0    NaN    NaN   \n",
       "1438         Lvl    AllPub  ...           0        0    NaN    NaN   \n",
       "878          Lvl    AllPub  ...           0        0    NaN    NaN   \n",
       "861          Lvl    AllPub  ...           0        0    NaN    NaN   \n",
       "\n",
       "     MiscFeature MiscVal MoSold  YrSold  SaleType  SaleCondition  \n",
       "725          NaN       0      5    2008        WD         Normal  \n",
       "364          NaN       0      5    2009        WD         Normal  \n",
       "575          NaN       0     12    2008        WD         Normal  \n",
       "1200         NaN       0      3    2006       New        Partial  \n",
       "457          NaN       0      4    2009        WD         Normal  \n",
       "266          NaN       0      2    2009        WD         Normal  \n",
       "199         Shed    1200      7    2009        WD         Normal  \n",
       "1052         NaN       0      5    2007        WD         Normal  \n",
       "954          NaN       0     12    2007        WD         Normal  \n",
       "1270         NaN       0      7    2006        WD         Normal  \n",
       "590          NaN       0      3    2008        WD         Normal  \n",
       "90           NaN       0      3    2010        WD         Normal  \n",
       "1438         NaN       0      5    2006        WD         Normal  \n",
       "878          NaN       0      1    2007        WD         Family  \n",
       "861          NaN       0      8    2007       New        Partial  \n",
       "\n",
       "[15 rows x 80 columns]"
      ],
      "text/html": "<div>\n<style scoped>\n    .dataframe tbody tr th:only-of-type {\n        vertical-align: middle;\n    }\n\n    .dataframe tbody tr th {\n        vertical-align: top;\n    }\n\n    .dataframe thead th {\n        text-align: right;\n    }\n</style>\n<table border=\"1\" class=\"dataframe\">\n  <thead>\n    <tr style=\"text-align: right;\">\n      <th></th>\n      <th>Id</th>\n      <th>MSSubClass</th>\n      <th>MSZoning</th>\n      <th>LotFrontage</th>\n      <th>LotArea</th>\n      <th>Street</th>\n      <th>Alley</th>\n      <th>LotShape</th>\n      <th>LandContour</th>\n      <th>Utilities</th>\n      <th>...</th>\n      <th>ScreenPorch</th>\n      <th>PoolArea</th>\n      <th>PoolQC</th>\n      <th>Fence</th>\n      <th>MiscFeature</th>\n      <th>MiscVal</th>\n      <th>MoSold</th>\n      <th>YrSold</th>\n      <th>SaleType</th>\n      <th>SaleCondition</th>\n    </tr>\n  </thead>\n  <tbody>\n    <tr>\n      <th>725</th>\n      <td>2186</td>\n      <td>20</td>\n      <td>RL</td>\n      <td>65.0</td>\n      <td>6500</td>\n      <td>Pave</td>\n      <td>NaN</td>\n      <td>Reg</td>\n      <td>Lvl</td>\n      <td>AllPub</td>\n      <td>...</td>\n      <td>0</td>\n      <td>0</td>\n      <td>NaN</td>\n      <td>NaN</td>\n      <td>NaN</td>\n      <td>0</td>\n      <td>5</td>\n      <td>2008</td>\n      <td>WD</td>\n      <td>Normal</td>\n    </tr>\n    <tr>\n      <th>364</th>\n      <td>1825</td>\n      <td>70</td>\n      <td>RL</td>\n      <td>50.0</td>\n      <td>4960</td>\n      <td>Pave</td>\n      <td>NaN</td>\n      <td>Reg</td>\n      <td>Lvl</td>\n      <td>AllPub</td>\n      <td>...</td>\n      <td>0</td>\n      <td>0</td>\n      <td>NaN</td>\n      <td>NaN</td>\n      <td>NaN</td>\n      <td>0</td>\n      <td>5</td>\n      <td>2009</td>\n      <td>WD</td>\n      <td>Normal</td>\n    </tr>\n    <tr>\n      <th>575</th>\n      <td>2036</td>\n      <td>160</td>\n      <td>FV</td>\n      <td>24.0</td>\n      <td>2645</td>\n      <td>Pave</td>\n      <td>Pave</td>\n      <td>Reg</td>\n      <td>Lvl</td>\n      <td>AllPub</td>\n      <td>...</td>\n      <td>0</td>\n      <td>0</td>\n      <td>NaN</td>\n      <td>NaN</td>\n      <td>NaN</td>\n      <td>0</td>\n      <td>12</td>\n      <td>2008</td>\n      <td>WD</td>\n      <td>Normal</td>\n    </tr>\n    <tr>\n      <th>1200</th>\n      <td>2661</td>\n      <td>20</td>\n      <td>RL</td>\n      <td>121.0</td>\n      <td>13758</td>\n      <td>Pave</td>\n      <td>NaN</td>\n      <td>IR1</td>\n      <td>Lvl</td>\n      <td>AllPub</td>\n      <td>...</td>\n      <td>0</td>\n      <td>0</td>\n      <td>NaN</td>\n      <td>NaN</td>\n      <td>NaN</td>\n      <td>0</td>\n      <td>3</td>\n      <td>2006</td>\n      <td>New</td>\n      <td>Partial</td>\n    </tr>\n    <tr>\n      <th>457</th>\n      <td>1918</td>\n      <td>85</td>\n      <td>RL</td>\n      <td>75.0</td>\n      <td>9750</td>\n      <td>Pave</td>\n      <td>NaN</td>\n      <td>Reg</td>\n      <td>Lvl</td>\n      <td>AllPub</td>\n      <td>...</td>\n      <td>0</td>\n      <td>0</td>\n      <td>NaN</td>\n      <td>MnPrv</td>\n      <td>NaN</td>\n      <td>0</td>\n      <td>4</td>\n      <td>2009</td>\n      <td>WD</td>\n      <td>Normal</td>\n    </tr>\n    <tr>\n      <th>266</th>\n      <td>1727</td>\n      <td>120</td>\n      <td>RL</td>\n      <td>50.0</td>\n      <td>7175</td>\n      <td>Pave</td>\n      <td>NaN</td>\n      <td>Reg</td>\n      <td>Lvl</td>\n      <td>AllPub</td>\n      <td>...</td>\n      <td>0</td>\n      <td>0</td>\n      <td>NaN</td>\n      <td>NaN</td>\n      <td>NaN</td>\n      <td>0</td>\n      <td>2</td>\n      <td>2009</td>\n      <td>WD</td>\n      <td>Normal</td>\n    </tr>\n    <tr>\n      <th>199</th>\n      <td>1660</td>\n      <td>20</td>\n      <td>RL</td>\n      <td>NaN</td>\n      <td>10710</td>\n      <td>Pave</td>\n      <td>NaN</td>\n      <td>Reg</td>\n      <td>Lvl</td>\n      <td>AllPub</td>\n      <td>...</td>\n      <td>0</td>\n      <td>0</td>\n      <td>NaN</td>\n      <td>NaN</td>\n      <td>Shed</td>\n      <td>1200</td>\n      <td>7</td>\n      <td>2009</td>\n      <td>WD</td>\n      <td>Normal</td>\n    </tr>\n    <tr>\n      <th>1052</th>\n      <td>2513</td>\n      <td>60</td>\n      <td>RL</td>\n      <td>NaN</td>\n      <td>8883</td>\n      <td>Pave</td>\n      <td>NaN</td>\n      <td>IR1</td>\n      <td>Lvl</td>\n      <td>AllPub</td>\n      <td>...</td>\n      <td>144</td>\n      <td>0</td>\n      <td>NaN</td>\n      <td>GdPrv</td>\n      <td>NaN</td>\n      <td>0</td>\n      <td>5</td>\n      <td>2007</td>\n      <td>WD</td>\n      <td>Normal</td>\n    </tr>\n    <tr>\n      <th>954</th>\n      <td>2415</td>\n      <td>90</td>\n      <td>RL</td>\n      <td>70.0</td>\n      <td>8078</td>\n      <td>Pave</td>\n      <td>NaN</td>\n      <td>Reg</td>\n      <td>Lvl</td>\n      <td>AllPub</td>\n      <td>...</td>\n      <td>0</td>\n      <td>0</td>\n      <td>NaN</td>\n      <td>NaN</td>\n      <td>NaN</td>\n      <td>0</td>\n      <td>12</td>\n      <td>2007</td>\n      <td>WD</td>\n      <td>Normal</td>\n    </tr>\n    <tr>\n      <th>1270</th>\n      <td>2731</td>\n      <td>30</td>\n      <td>RL</td>\n      <td>60.0</td>\n      <td>8550</td>\n      <td>Pave</td>\n      <td>NaN</td>\n      <td>Reg</td>\n      <td>Lvl</td>\n      <td>AllPub</td>\n      <td>...</td>\n      <td>0</td>\n      <td>0</td>\n      <td>NaN</td>\n      <td>MnPrv</td>\n      <td>NaN</td>\n      <td>0</td>\n      <td>7</td>\n      <td>2006</td>\n      <td>WD</td>\n      <td>Normal</td>\n    </tr>\n    <tr>\n      <th>590</th>\n      <td>2051</td>\n      <td>20</td>\n      <td>RL</td>\n      <td>74.0</td>\n      <td>7785</td>\n      <td>Pave</td>\n      <td>NaN</td>\n      <td>IR1</td>\n      <td>Lvl</td>\n      <td>AllPub</td>\n      <td>...</td>\n      <td>200</td>\n      <td>0</td>\n      <td>NaN</td>\n      <td>GdWo</td>\n      <td>NaN</td>\n      <td>0</td>\n      <td>3</td>\n      <td>2008</td>\n      <td>WD</td>\n      <td>Normal</td>\n    </tr>\n    <tr>\n      <th>90</th>\n      <td>1551</td>\n      <td>30</td>\n      <td>RM</td>\n      <td>51.0</td>\n      <td>6120</td>\n      <td>Pave</td>\n      <td>NaN</td>\n      <td>Reg</td>\n      <td>Lvl</td>\n      <td>AllPub</td>\n      <td>...</td>\n      <td>0</td>\n      <td>0</td>\n      <td>NaN</td>\n      <td>NaN</td>\n      <td>NaN</td>\n      <td>0</td>\n      <td>3</td>\n      <td>2010</td>\n      <td>WD</td>\n      <td>Normal</td>\n    </tr>\n    <tr>\n      <th>1438</th>\n      <td>2899</td>\n      <td>20</td>\n      <td>RL</td>\n      <td>70.0</td>\n      <td>9116</td>\n      <td>Pave</td>\n      <td>NaN</td>\n      <td>Reg</td>\n      <td>Lvl</td>\n      <td>AllPub</td>\n      <td>...</td>\n      <td>0</td>\n      <td>0</td>\n      <td>NaN</td>\n      <td>NaN</td>\n      <td>NaN</td>\n      <td>0</td>\n      <td>5</td>\n      <td>2006</td>\n      <td>WD</td>\n      <td>Normal</td>\n    </tr>\n    <tr>\n      <th>878</th>\n      <td>2339</td>\n      <td>20</td>\n      <td>RL</td>\n      <td>76.0</td>\n      <td>10612</td>\n      <td>Pave</td>\n      <td>NaN</td>\n      <td>Reg</td>\n      <td>Lvl</td>\n      <td>AllPub</td>\n      <td>...</td>\n      <td>0</td>\n      <td>0</td>\n      <td>NaN</td>\n      <td>NaN</td>\n      <td>NaN</td>\n      <td>0</td>\n      <td>1</td>\n      <td>2007</td>\n      <td>WD</td>\n      <td>Family</td>\n    </tr>\n    <tr>\n      <th>861</th>\n      <td>2322</td>\n      <td>20</td>\n      <td>RL</td>\n      <td>53.0</td>\n      <td>3710</td>\n      <td>Pave</td>\n      <td>NaN</td>\n      <td>Reg</td>\n      <td>Lvl</td>\n      <td>AllPub</td>\n      <td>...</td>\n      <td>0</td>\n      <td>0</td>\n      <td>NaN</td>\n      <td>NaN</td>\n      <td>NaN</td>\n      <td>0</td>\n      <td>8</td>\n      <td>2007</td>\n      <td>New</td>\n      <td>Partial</td>\n    </tr>\n  </tbody>\n</table>\n<p>15 rows × 80 columns</p>\n</div>"
     },
     "metadata": {},
     "execution_count": 14
    }
   ],
   "source": [
    "df_test = pd.read_csv(\"/home/kaustav/Desktop/Kaggle-Workspace/House-Prices-Advanced-Regression-Techniques/data/test.csv\")\n",
    "df_test.sample(15)"
   ]
  },
  {
   "cell_type": "code",
   "execution_count": 15,
   "metadata": {},
   "outputs": [
    {
     "output_type": "execute_result",
     "data": {
      "text/plain": [
       "        Id  MSSubClass  LotFrontage  LotArea  OverallQual  OverallCond  \\\n",
       "826   2287          20         96.0    12469            9            5   \n",
       "773   2234          20         82.0    11202            8            5   \n",
       "1223  2684          60          NaN    10236            8            5   \n",
       "354   1815          30         50.0     5925            2            4   \n",
       "312   1773          20         80.0    10400            4            5   \n",
       "1308  2769          20         70.0     7000            5            4   \n",
       "1039  2500         120         39.0     3869            5            6   \n",
       "1106  2567         190         79.0     6221            5            5   \n",
       "1067  2528          20         75.0     9675            5            6   \n",
       "617   2078          20         80.0     8000            5            5   \n",
       "\n",
       "      YearBuilt  YearRemodAdd  MasVnrArea  BsmtFinSF1  ...  SaleType_ConLw  \\\n",
       "826        2006          2007       378.0      1151.0  ...               0   \n",
       "773        2003          2003       206.0      1029.0  ...               0   \n",
       "1223       1994          1995       501.0       380.0  ...               0   \n",
       "354        1940          1950         0.0         0.0  ...               0   \n",
       "312        1956          1956         0.0       155.0  ...               0   \n",
       "1308       1961          1961         0.0       781.0  ...               0   \n",
       "1039       1984          1984       149.0       283.0  ...               0   \n",
       "1106       1941          1950         0.0       533.0  ...               0   \n",
       "1067       1975          1975         0.0       330.0  ...               0   \n",
       "617        1962          1962         0.0       520.0  ...               0   \n",
       "\n",
       "      SaleType_New  SaleType_Oth  SaleType_WD  SaleCondition_Abnorml  \\\n",
       "826              1             0            0                      0   \n",
       "773              0             0            1                      0   \n",
       "1223             0             0            1                      0   \n",
       "354              0             0            1                      0   \n",
       "312              0             0            1                      0   \n",
       "1308             0             0            1                      0   \n",
       "1039             0             0            1                      0   \n",
       "1106             0             0            1                      0   \n",
       "1067             0             0            0                      0   \n",
       "617              0             0            1                      0   \n",
       "\n",
       "      SaleCondition_AdjLand  SaleCondition_Alloca  SaleCondition_Family  \\\n",
       "826                       0                     0                     0   \n",
       "773                       0                     0                     0   \n",
       "1223                      0                     0                     0   \n",
       "354                       0                     0                     0   \n",
       "312                       0                     0                     1   \n",
       "1308                      0                     0                     0   \n",
       "1039                      0                     0                     0   \n",
       "1106                      0                     0                     0   \n",
       "1067                      0                     0                     0   \n",
       "617                       0                     0                     0   \n",
       "\n",
       "      SaleCondition_Normal  SaleCondition_Partial  \n",
       "826                      0                      1  \n",
       "773                      1                      0  \n",
       "1223                     1                      0  \n",
       "354                      1                      0  \n",
       "312                      0                      0  \n",
       "1308                     1                      0  \n",
       "1039                     1                      0  \n",
       "1106                     1                      0  \n",
       "1067                     1                      0  \n",
       "617                      1                      0  \n",
       "\n",
       "[10 rows x 271 columns]"
      ],
      "text/html": "<div>\n<style scoped>\n    .dataframe tbody tr th:only-of-type {\n        vertical-align: middle;\n    }\n\n    .dataframe tbody tr th {\n        vertical-align: top;\n    }\n\n    .dataframe thead th {\n        text-align: right;\n    }\n</style>\n<table border=\"1\" class=\"dataframe\">\n  <thead>\n    <tr style=\"text-align: right;\">\n      <th></th>\n      <th>Id</th>\n      <th>MSSubClass</th>\n      <th>LotFrontage</th>\n      <th>LotArea</th>\n      <th>OverallQual</th>\n      <th>OverallCond</th>\n      <th>YearBuilt</th>\n      <th>YearRemodAdd</th>\n      <th>MasVnrArea</th>\n      <th>BsmtFinSF1</th>\n      <th>...</th>\n      <th>SaleType_ConLw</th>\n      <th>SaleType_New</th>\n      <th>SaleType_Oth</th>\n      <th>SaleType_WD</th>\n      <th>SaleCondition_Abnorml</th>\n      <th>SaleCondition_AdjLand</th>\n      <th>SaleCondition_Alloca</th>\n      <th>SaleCondition_Family</th>\n      <th>SaleCondition_Normal</th>\n      <th>SaleCondition_Partial</th>\n    </tr>\n  </thead>\n  <tbody>\n    <tr>\n      <th>826</th>\n      <td>2287</td>\n      <td>20</td>\n      <td>96.0</td>\n      <td>12469</td>\n      <td>9</td>\n      <td>5</td>\n      <td>2006</td>\n      <td>2007</td>\n      <td>378.0</td>\n      <td>1151.0</td>\n      <td>...</td>\n      <td>0</td>\n      <td>1</td>\n      <td>0</td>\n      <td>0</td>\n      <td>0</td>\n      <td>0</td>\n      <td>0</td>\n      <td>0</td>\n      <td>0</td>\n      <td>1</td>\n    </tr>\n    <tr>\n      <th>773</th>\n      <td>2234</td>\n      <td>20</td>\n      <td>82.0</td>\n      <td>11202</td>\n      <td>8</td>\n      <td>5</td>\n      <td>2003</td>\n      <td>2003</td>\n      <td>206.0</td>\n      <td>1029.0</td>\n      <td>...</td>\n      <td>0</td>\n      <td>0</td>\n      <td>0</td>\n      <td>1</td>\n      <td>0</td>\n      <td>0</td>\n      <td>0</td>\n      <td>0</td>\n      <td>1</td>\n      <td>0</td>\n    </tr>\n    <tr>\n      <th>1223</th>\n      <td>2684</td>\n      <td>60</td>\n      <td>NaN</td>\n      <td>10236</td>\n      <td>8</td>\n      <td>5</td>\n      <td>1994</td>\n      <td>1995</td>\n      <td>501.0</td>\n      <td>380.0</td>\n      <td>...</td>\n      <td>0</td>\n      <td>0</td>\n      <td>0</td>\n      <td>1</td>\n      <td>0</td>\n      <td>0</td>\n      <td>0</td>\n      <td>0</td>\n      <td>1</td>\n      <td>0</td>\n    </tr>\n    <tr>\n      <th>354</th>\n      <td>1815</td>\n      <td>30</td>\n      <td>50.0</td>\n      <td>5925</td>\n      <td>2</td>\n      <td>4</td>\n      <td>1940</td>\n      <td>1950</td>\n      <td>0.0</td>\n      <td>0.0</td>\n      <td>...</td>\n      <td>0</td>\n      <td>0</td>\n      <td>0</td>\n      <td>1</td>\n      <td>0</td>\n      <td>0</td>\n      <td>0</td>\n      <td>0</td>\n      <td>1</td>\n      <td>0</td>\n    </tr>\n    <tr>\n      <th>312</th>\n      <td>1773</td>\n      <td>20</td>\n      <td>80.0</td>\n      <td>10400</td>\n      <td>4</td>\n      <td>5</td>\n      <td>1956</td>\n      <td>1956</td>\n      <td>0.0</td>\n      <td>155.0</td>\n      <td>...</td>\n      <td>0</td>\n      <td>0</td>\n      <td>0</td>\n      <td>1</td>\n      <td>0</td>\n      <td>0</td>\n      <td>0</td>\n      <td>1</td>\n      <td>0</td>\n      <td>0</td>\n    </tr>\n    <tr>\n      <th>1308</th>\n      <td>2769</td>\n      <td>20</td>\n      <td>70.0</td>\n      <td>7000</td>\n      <td>5</td>\n      <td>4</td>\n      <td>1961</td>\n      <td>1961</td>\n      <td>0.0</td>\n      <td>781.0</td>\n      <td>...</td>\n      <td>0</td>\n      <td>0</td>\n      <td>0</td>\n      <td>1</td>\n      <td>0</td>\n      <td>0</td>\n      <td>0</td>\n      <td>0</td>\n      <td>1</td>\n      <td>0</td>\n    </tr>\n    <tr>\n      <th>1039</th>\n      <td>2500</td>\n      <td>120</td>\n      <td>39.0</td>\n      <td>3869</td>\n      <td>5</td>\n      <td>6</td>\n      <td>1984</td>\n      <td>1984</td>\n      <td>149.0</td>\n      <td>283.0</td>\n      <td>...</td>\n      <td>0</td>\n      <td>0</td>\n      <td>0</td>\n      <td>1</td>\n      <td>0</td>\n      <td>0</td>\n      <td>0</td>\n      <td>0</td>\n      <td>1</td>\n      <td>0</td>\n    </tr>\n    <tr>\n      <th>1106</th>\n      <td>2567</td>\n      <td>190</td>\n      <td>79.0</td>\n      <td>6221</td>\n      <td>5</td>\n      <td>5</td>\n      <td>1941</td>\n      <td>1950</td>\n      <td>0.0</td>\n      <td>533.0</td>\n      <td>...</td>\n      <td>0</td>\n      <td>0</td>\n      <td>0</td>\n      <td>1</td>\n      <td>0</td>\n      <td>0</td>\n      <td>0</td>\n      <td>0</td>\n      <td>1</td>\n      <td>0</td>\n    </tr>\n    <tr>\n      <th>1067</th>\n      <td>2528</td>\n      <td>20</td>\n      <td>75.0</td>\n      <td>9675</td>\n      <td>5</td>\n      <td>6</td>\n      <td>1975</td>\n      <td>1975</td>\n      <td>0.0</td>\n      <td>330.0</td>\n      <td>...</td>\n      <td>0</td>\n      <td>0</td>\n      <td>0</td>\n      <td>0</td>\n      <td>0</td>\n      <td>0</td>\n      <td>0</td>\n      <td>0</td>\n      <td>1</td>\n      <td>0</td>\n    </tr>\n    <tr>\n      <th>617</th>\n      <td>2078</td>\n      <td>20</td>\n      <td>80.0</td>\n      <td>8000</td>\n      <td>5</td>\n      <td>5</td>\n      <td>1962</td>\n      <td>1962</td>\n      <td>0.0</td>\n      <td>520.0</td>\n      <td>...</td>\n      <td>0</td>\n      <td>0</td>\n      <td>0</td>\n      <td>1</td>\n      <td>0</td>\n      <td>0</td>\n      <td>0</td>\n      <td>0</td>\n      <td>1</td>\n      <td>0</td>\n    </tr>\n  </tbody>\n</table>\n<p>10 rows × 271 columns</p>\n</div>"
     },
     "metadata": {},
     "execution_count": 15
    }
   ],
   "source": [
    "df_test_dummies = pd.get_dummies(df_test, columns = categorical_columns)\n",
    "df_test_dummies.sample(10)"
   ]
  },
  {
   "source": [
    "## Making Sure Get Dummies returns the same number of Columns as the Training and Validation sets since all categories might not be present in the Testing set"
   ],
   "cell_type": "markdown",
   "metadata": {}
  },
  {
   "cell_type": "code",
   "execution_count": 16,
   "metadata": {},
   "outputs": [
    {
     "output_type": "execute_result",
     "data": {
      "text/plain": [
       "((1241, 289), (1459, 289))"
      ]
     },
     "metadata": {},
     "execution_count": 16
    }
   ],
   "source": [
    "\n",
    "# df_test = df_test.reindex(columns = X_train.columns, fill_value=0)\n",
    "X_train, df_test_dummies = X_train.align(df_test_dummies, join='left', axis=1)\n",
    "X_train.shape, df_test_dummies.shape"
   ]
  },
  {
   "cell_type": "code",
   "execution_count": 17,
   "metadata": {},
   "outputs": [
    {
     "output_type": "execute_result",
     "data": {
      "text/plain": [
       "        Id  MSSubClass  LotFrontage  LotArea  OverallQual  OverallCond  \\\n",
       "825   2286          20    65.000000     7150            5            6   \n",
       "1273  2734          20    89.000000    10858            5            6   \n",
       "489   1950          20    68.580357    10825            7            7   \n",
       "10    1471         120    26.000000     5858            7            5   \n",
       "582   2043          80    68.580357    11104            6            6   \n",
       "631   2092          50    63.000000     7628            4            6   \n",
       "882   2343          20    70.000000     8251            7            5   \n",
       "584   2045          20    68.580357    15387            7            7   \n",
       "633   2094          30    60.000000     5400            7            6   \n",
       "1000  2461          50    52.000000     6240            5            8   \n",
       "\n",
       "      YearBuilt  YearRemodAdd  MasVnrArea  BsmtFinSF1  ...  SaleType_ConLw  \\\n",
       "825        1966          1966        52.0       725.0  ...               0   \n",
       "1273       1952          1952       150.0        40.0  ...               0   \n",
       "489        1983          1983       174.0       747.0  ...               0   \n",
       "10         1999          1999         0.0      1051.0  ...               0   \n",
       "582        1969          1969         0.0       828.0  ...               0   \n",
       "631        1940          1985         0.0         0.0  ...               0   \n",
       "882        2005          2006       143.0       778.0  ...               0   \n",
       "584        1967          1967         0.0       603.0  ...               0   \n",
       "633        1920          2006         0.0         0.0  ...               0   \n",
       "1000       1939          1952         0.0        48.0  ...               0   \n",
       "\n",
       "      SaleType_New  SaleType_Oth  SaleType_WD  SaleCondition_Abnorml  \\\n",
       "825              0             0            1                      0   \n",
       "1273             0             0            1                      0   \n",
       "489              0             0            1                      0   \n",
       "10               0             0            1                      0   \n",
       "582              0             0            1                      0   \n",
       "631              0             0            1                      0   \n",
       "882              0             0            1                      0   \n",
       "584              0             0            1                      0   \n",
       "633              0             0            1                      0   \n",
       "1000             0             0            1                      0   \n",
       "\n",
       "      SaleCondition_AdjLand  SaleCondition_Alloca  SaleCondition_Family  \\\n",
       "825                       0                     0                     0   \n",
       "1273                      0                     0                     0   \n",
       "489                       0                     0                     0   \n",
       "10                        0                     0                     0   \n",
       "582                       0                     0                     0   \n",
       "631                       0                     0                     0   \n",
       "882                       0                     0                     0   \n",
       "584                       0                     0                     0   \n",
       "633                       0                     0                     0   \n",
       "1000                      0                     0                     0   \n",
       "\n",
       "      SaleCondition_Normal  SaleCondition_Partial  \n",
       "825                      1                      0  \n",
       "1273                     0                      1  \n",
       "489                      1                      0  \n",
       "10                       1                      0  \n",
       "582                      1                      0  \n",
       "631                      1                      0  \n",
       "882                      1                      0  \n",
       "584                      1                      0  \n",
       "633                      1                      0  \n",
       "1000                     1                      0  \n",
       "\n",
       "[10 rows x 289 columns]"
      ],
      "text/html": "<div>\n<style scoped>\n    .dataframe tbody tr th:only-of-type {\n        vertical-align: middle;\n    }\n\n    .dataframe tbody tr th {\n        vertical-align: top;\n    }\n\n    .dataframe thead th {\n        text-align: right;\n    }\n</style>\n<table border=\"1\" class=\"dataframe\">\n  <thead>\n    <tr style=\"text-align: right;\">\n      <th></th>\n      <th>Id</th>\n      <th>MSSubClass</th>\n      <th>LotFrontage</th>\n      <th>LotArea</th>\n      <th>OverallQual</th>\n      <th>OverallCond</th>\n      <th>YearBuilt</th>\n      <th>YearRemodAdd</th>\n      <th>MasVnrArea</th>\n      <th>BsmtFinSF1</th>\n      <th>...</th>\n      <th>SaleType_ConLw</th>\n      <th>SaleType_New</th>\n      <th>SaleType_Oth</th>\n      <th>SaleType_WD</th>\n      <th>SaleCondition_Abnorml</th>\n      <th>SaleCondition_AdjLand</th>\n      <th>SaleCondition_Alloca</th>\n      <th>SaleCondition_Family</th>\n      <th>SaleCondition_Normal</th>\n      <th>SaleCondition_Partial</th>\n    </tr>\n  </thead>\n  <tbody>\n    <tr>\n      <th>825</th>\n      <td>2286</td>\n      <td>20</td>\n      <td>65.000000</td>\n      <td>7150</td>\n      <td>5</td>\n      <td>6</td>\n      <td>1966</td>\n      <td>1966</td>\n      <td>52.0</td>\n      <td>725.0</td>\n      <td>...</td>\n      <td>0</td>\n      <td>0</td>\n      <td>0</td>\n      <td>1</td>\n      <td>0</td>\n      <td>0</td>\n      <td>0</td>\n      <td>0</td>\n      <td>1</td>\n      <td>0</td>\n    </tr>\n    <tr>\n      <th>1273</th>\n      <td>2734</td>\n      <td>20</td>\n      <td>89.000000</td>\n      <td>10858</td>\n      <td>5</td>\n      <td>6</td>\n      <td>1952</td>\n      <td>1952</td>\n      <td>150.0</td>\n      <td>40.0</td>\n      <td>...</td>\n      <td>0</td>\n      <td>0</td>\n      <td>0</td>\n      <td>1</td>\n      <td>0</td>\n      <td>0</td>\n      <td>0</td>\n      <td>0</td>\n      <td>0</td>\n      <td>1</td>\n    </tr>\n    <tr>\n      <th>489</th>\n      <td>1950</td>\n      <td>20</td>\n      <td>68.580357</td>\n      <td>10825</td>\n      <td>7</td>\n      <td>7</td>\n      <td>1983</td>\n      <td>1983</td>\n      <td>174.0</td>\n      <td>747.0</td>\n      <td>...</td>\n      <td>0</td>\n      <td>0</td>\n      <td>0</td>\n      <td>1</td>\n      <td>0</td>\n      <td>0</td>\n      <td>0</td>\n      <td>0</td>\n      <td>1</td>\n      <td>0</td>\n    </tr>\n    <tr>\n      <th>10</th>\n      <td>1471</td>\n      <td>120</td>\n      <td>26.000000</td>\n      <td>5858</td>\n      <td>7</td>\n      <td>5</td>\n      <td>1999</td>\n      <td>1999</td>\n      <td>0.0</td>\n      <td>1051.0</td>\n      <td>...</td>\n      <td>0</td>\n      <td>0</td>\n      <td>0</td>\n      <td>1</td>\n      <td>0</td>\n      <td>0</td>\n      <td>0</td>\n      <td>0</td>\n      <td>1</td>\n      <td>0</td>\n    </tr>\n    <tr>\n      <th>582</th>\n      <td>2043</td>\n      <td>80</td>\n      <td>68.580357</td>\n      <td>11104</td>\n      <td>6</td>\n      <td>6</td>\n      <td>1969</td>\n      <td>1969</td>\n      <td>0.0</td>\n      <td>828.0</td>\n      <td>...</td>\n      <td>0</td>\n      <td>0</td>\n      <td>0</td>\n      <td>1</td>\n      <td>0</td>\n      <td>0</td>\n      <td>0</td>\n      <td>0</td>\n      <td>1</td>\n      <td>0</td>\n    </tr>\n    <tr>\n      <th>631</th>\n      <td>2092</td>\n      <td>50</td>\n      <td>63.000000</td>\n      <td>7628</td>\n      <td>4</td>\n      <td>6</td>\n      <td>1940</td>\n      <td>1985</td>\n      <td>0.0</td>\n      <td>0.0</td>\n      <td>...</td>\n      <td>0</td>\n      <td>0</td>\n      <td>0</td>\n      <td>1</td>\n      <td>0</td>\n      <td>0</td>\n      <td>0</td>\n      <td>0</td>\n      <td>1</td>\n      <td>0</td>\n    </tr>\n    <tr>\n      <th>882</th>\n      <td>2343</td>\n      <td>20</td>\n      <td>70.000000</td>\n      <td>8251</td>\n      <td>7</td>\n      <td>5</td>\n      <td>2005</td>\n      <td>2006</td>\n      <td>143.0</td>\n      <td>778.0</td>\n      <td>...</td>\n      <td>0</td>\n      <td>0</td>\n      <td>0</td>\n      <td>1</td>\n      <td>0</td>\n      <td>0</td>\n      <td>0</td>\n      <td>0</td>\n      <td>1</td>\n      <td>0</td>\n    </tr>\n    <tr>\n      <th>584</th>\n      <td>2045</td>\n      <td>20</td>\n      <td>68.580357</td>\n      <td>15387</td>\n      <td>7</td>\n      <td>7</td>\n      <td>1967</td>\n      <td>1967</td>\n      <td>0.0</td>\n      <td>603.0</td>\n      <td>...</td>\n      <td>0</td>\n      <td>0</td>\n      <td>0</td>\n      <td>1</td>\n      <td>0</td>\n      <td>0</td>\n      <td>0</td>\n      <td>0</td>\n      <td>1</td>\n      <td>0</td>\n    </tr>\n    <tr>\n      <th>633</th>\n      <td>2094</td>\n      <td>30</td>\n      <td>60.000000</td>\n      <td>5400</td>\n      <td>7</td>\n      <td>6</td>\n      <td>1920</td>\n      <td>2006</td>\n      <td>0.0</td>\n      <td>0.0</td>\n      <td>...</td>\n      <td>0</td>\n      <td>0</td>\n      <td>0</td>\n      <td>1</td>\n      <td>0</td>\n      <td>0</td>\n      <td>0</td>\n      <td>0</td>\n      <td>1</td>\n      <td>0</td>\n    </tr>\n    <tr>\n      <th>1000</th>\n      <td>2461</td>\n      <td>50</td>\n      <td>52.000000</td>\n      <td>6240</td>\n      <td>5</td>\n      <td>8</td>\n      <td>1939</td>\n      <td>1952</td>\n      <td>0.0</td>\n      <td>48.0</td>\n      <td>...</td>\n      <td>0</td>\n      <td>0</td>\n      <td>0</td>\n      <td>1</td>\n      <td>0</td>\n      <td>0</td>\n      <td>0</td>\n      <td>0</td>\n      <td>1</td>\n      <td>0</td>\n    </tr>\n  </tbody>\n</table>\n<p>10 rows × 289 columns</p>\n</div>"
     },
     "metadata": {},
     "execution_count": 17
    }
   ],
   "source": [
    "df_test_dummies.fillna(df_test_dummies.mean() , inplace = True)\n",
    "df_test_dummies.sample(10)"
   ]
  },
  {
   "cell_type": "code",
   "execution_count": 18,
   "metadata": {},
   "outputs": [
    {
     "output_type": "execute_result",
     "data": {
      "text/plain": [
       "Index(['Utilities_NoSeWa', 'Condition2_RRAe', 'Condition2_RRAn',\n",
       "       'Condition2_RRNn', 'HouseStyle_2.5Fin', 'RoofMatl_ClyTile',\n",
       "       'RoofMatl_Membran', 'RoofMatl_Metal', 'RoofMatl_Roll',\n",
       "       'Exterior1st_ImStucc', 'Exterior1st_Stone', 'Exterior2nd_Other',\n",
       "       'Heating_Floor', 'Heating_OthW', 'Electrical_Mix', 'GarageQual_Ex',\n",
       "       'PoolQC_Fa', 'MiscFeature_TenC'],\n",
       "      dtype='object')"
      ]
     },
     "metadata": {},
     "execution_count": 18
    }
   ],
   "source": [
    "df_test_dummies.columns[df_test_dummies.isnull().sum() > 0 ]"
   ]
  },
  {
   "cell_type": "code",
   "execution_count": null,
   "metadata": {},
   "outputs": [],
   "source": []
  },
  {
   "cell_type": "code",
   "execution_count": null,
   "metadata": {},
   "outputs": [],
   "source": []
  },
  {
   "cell_type": "code",
   "execution_count": null,
   "metadata": {},
   "outputs": [],
   "source": []
  },
  {
   "cell_type": "code",
   "execution_count": null,
   "metadata": {},
   "outputs": [],
   "source": []
  }
 ]
}