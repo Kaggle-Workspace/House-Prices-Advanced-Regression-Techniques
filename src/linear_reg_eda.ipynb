{
 "metadata": {
  "language_info": {
   "codemirror_mode": {
    "name": "ipython",
    "version": 3
   },
   "file_extension": ".py",
   "mimetype": "text/x-python",
   "name": "python",
   "nbconvert_exporter": "python",
   "pygments_lexer": "ipython3",
   "version": "2.7.17"
  },
  "orig_nbformat": 2,
  "kernelspec": {
   "name": "python2717jvsc74a57bd0767d51c1340bd893661ea55ea3124f6de3c7a262a8b4abca0554b478b1e2ff90",
   "display_name": "Python 2.7.17 64-bit"
  },
  "metadata": {
   "interpreter": {
    "hash": "767d51c1340bd893661ea55ea3124f6de3c7a262a8b4abca0554b478b1e2ff90"
   }
  }
 },
 "nbformat": 4,
 "nbformat_minor": 2,
 "cells": [
  {
   "cell_type": "code",
   "execution_count": 1,
   "metadata": {},
   "outputs": [],
   "source": [
    "import numpy as np\n",
    "import pandas as pd\n",
    "import matplotlib.pyplot as plt\n",
    "\n",
    "from sklearn.model_selection import train_test_split\n",
    "from sklearn.linear_model import LinearRegression"
   ]
  },
  {
   "source": [
    "# Exploratory Data Analysis "
   ],
   "cell_type": "markdown",
   "metadata": {}
  },
  {
   "cell_type": "code",
   "execution_count": 2,
   "metadata": {},
   "outputs": [
    {
     "output_type": "execute_result",
     "data": {
      "text/html": "<div>\n<style scoped>\n    .dataframe tbody tr th:only-of-type {\n        vertical-align: middle;\n    }\n\n    .dataframe tbody tr th {\n        vertical-align: top;\n    }\n\n    .dataframe thead th {\n        text-align: right;\n    }\n</style>\n<table border=\"1\" class=\"dataframe\">\n  <thead>\n    <tr style=\"text-align: right;\">\n      <th></th>\n      <th>Id</th>\n      <th>MSSubClass</th>\n      <th>MSZoning</th>\n      <th>LotFrontage</th>\n      <th>LotArea</th>\n      <th>Street</th>\n      <th>Alley</th>\n      <th>LotShape</th>\n      <th>LandContour</th>\n      <th>Utilities</th>\n      <th>...</th>\n      <th>PoolArea</th>\n      <th>PoolQC</th>\n      <th>Fence</th>\n      <th>MiscFeature</th>\n      <th>MiscVal</th>\n      <th>MoSold</th>\n      <th>YrSold</th>\n      <th>SaleType</th>\n      <th>SaleCondition</th>\n      <th>SalePrice</th>\n    </tr>\n  </thead>\n  <tbody>\n    <tr>\n      <th>286</th>\n      <td>287</td>\n      <td>50</td>\n      <td>RL</td>\n      <td>77.0</td>\n      <td>9786</td>\n      <td>Pave</td>\n      <td>NaN</td>\n      <td>IR1</td>\n      <td>Bnk</td>\n      <td>AllPub</td>\n      <td>...</td>\n      <td>0</td>\n      <td>NaN</td>\n      <td>GdPrv</td>\n      <td>NaN</td>\n      <td>0</td>\n      <td>6</td>\n      <td>2006</td>\n      <td>WD</td>\n      <td>Normal</td>\n      <td>159000</td>\n    </tr>\n    <tr>\n      <th>831</th>\n      <td>832</td>\n      <td>160</td>\n      <td>FV</td>\n      <td>30.0</td>\n      <td>3180</td>\n      <td>Pave</td>\n      <td>Pave</td>\n      <td>Reg</td>\n      <td>Lvl</td>\n      <td>AllPub</td>\n      <td>...</td>\n      <td>0</td>\n      <td>NaN</td>\n      <td>NaN</td>\n      <td>NaN</td>\n      <td>0</td>\n      <td>6</td>\n      <td>2006</td>\n      <td>WD</td>\n      <td>Normal</td>\n      <td>151000</td>\n    </tr>\n    <tr>\n      <th>1186</th>\n      <td>1187</td>\n      <td>190</td>\n      <td>RL</td>\n      <td>107.0</td>\n      <td>10615</td>\n      <td>Pave</td>\n      <td>NaN</td>\n      <td>IR1</td>\n      <td>Bnk</td>\n      <td>AllPub</td>\n      <td>...</td>\n      <td>0</td>\n      <td>NaN</td>\n      <td>NaN</td>\n      <td>NaN</td>\n      <td>0</td>\n      <td>8</td>\n      <td>2009</td>\n      <td>WD</td>\n      <td>Abnorml</td>\n      <td>95000</td>\n    </tr>\n    <tr>\n      <th>695</th>\n      <td>696</td>\n      <td>20</td>\n      <td>RL</td>\n      <td>54.0</td>\n      <td>13811</td>\n      <td>Pave</td>\n      <td>NaN</td>\n      <td>IR1</td>\n      <td>Lvl</td>\n      <td>AllPub</td>\n      <td>...</td>\n      <td>0</td>\n      <td>NaN</td>\n      <td>NaN</td>\n      <td>NaN</td>\n      <td>0</td>\n      <td>7</td>\n      <td>2006</td>\n      <td>WD</td>\n      <td>Normal</td>\n      <td>176000</td>\n    </tr>\n    <tr>\n      <th>96</th>\n      <td>97</td>\n      <td>20</td>\n      <td>RL</td>\n      <td>78.0</td>\n      <td>10264</td>\n      <td>Pave</td>\n      <td>NaN</td>\n      <td>IR1</td>\n      <td>Lvl</td>\n      <td>AllPub</td>\n      <td>...</td>\n      <td>0</td>\n      <td>NaN</td>\n      <td>NaN</td>\n      <td>NaN</td>\n      <td>0</td>\n      <td>8</td>\n      <td>2006</td>\n      <td>WD</td>\n      <td>Normal</td>\n      <td>214000</td>\n    </tr>\n    <tr>\n      <th>1080</th>\n      <td>1081</td>\n      <td>20</td>\n      <td>RL</td>\n      <td>80.0</td>\n      <td>11040</td>\n      <td>Pave</td>\n      <td>NaN</td>\n      <td>Reg</td>\n      <td>Lvl</td>\n      <td>AllPub</td>\n      <td>...</td>\n      <td>0</td>\n      <td>NaN</td>\n      <td>NaN</td>\n      <td>NaN</td>\n      <td>0</td>\n      <td>10</td>\n      <td>2008</td>\n      <td>COD</td>\n      <td>Abnorml</td>\n      <td>145000</td>\n    </tr>\n    <tr>\n      <th>1252</th>\n      <td>1253</td>\n      <td>20</td>\n      <td>RL</td>\n      <td>62.0</td>\n      <td>9858</td>\n      <td>Pave</td>\n      <td>NaN</td>\n      <td>Reg</td>\n      <td>Lvl</td>\n      <td>AllPub</td>\n      <td>...</td>\n      <td>0</td>\n      <td>NaN</td>\n      <td>GdWo</td>\n      <td>Shed</td>\n      <td>600</td>\n      <td>11</td>\n      <td>2009</td>\n      <td>WD</td>\n      <td>Normal</td>\n      <td>130000</td>\n    </tr>\n    <tr>\n      <th>527</th>\n      <td>528</td>\n      <td>60</td>\n      <td>RL</td>\n      <td>67.0</td>\n      <td>14948</td>\n      <td>Pave</td>\n      <td>NaN</td>\n      <td>IR1</td>\n      <td>Lvl</td>\n      <td>AllPub</td>\n      <td>...</td>\n      <td>0</td>\n      <td>NaN</td>\n      <td>NaN</td>\n      <td>NaN</td>\n      <td>0</td>\n      <td>11</td>\n      <td>2008</td>\n      <td>New</td>\n      <td>Partial</td>\n      <td>446261</td>\n    </tr>\n    <tr>\n      <th>1345</th>\n      <td>1346</td>\n      <td>30</td>\n      <td>RM</td>\n      <td>50.0</td>\n      <td>6000</td>\n      <td>Pave</td>\n      <td>NaN</td>\n      <td>Reg</td>\n      <td>Lvl</td>\n      <td>AllPub</td>\n      <td>...</td>\n      <td>0</td>\n      <td>NaN</td>\n      <td>NaN</td>\n      <td>NaN</td>\n      <td>0</td>\n      <td>7</td>\n      <td>2007</td>\n      <td>WD</td>\n      <td>Normal</td>\n      <td>108500</td>\n    </tr>\n    <tr>\n      <th>378</th>\n      <td>379</td>\n      <td>20</td>\n      <td>RL</td>\n      <td>88.0</td>\n      <td>11394</td>\n      <td>Pave</td>\n      <td>NaN</td>\n      <td>Reg</td>\n      <td>Lvl</td>\n      <td>AllPub</td>\n      <td>...</td>\n      <td>0</td>\n      <td>NaN</td>\n      <td>NaN</td>\n      <td>NaN</td>\n      <td>0</td>\n      <td>6</td>\n      <td>2010</td>\n      <td>New</td>\n      <td>Partial</td>\n      <td>394432</td>\n    </tr>\n  </tbody>\n</table>\n<p>10 rows × 81 columns</p>\n</div>",
      "text/plain": [
       "        Id  MSSubClass MSZoning  LotFrontage  LotArea Street Alley LotShape  \\\n",
       "286    287          50       RL         77.0     9786   Pave   NaN      IR1   \n",
       "831    832         160       FV         30.0     3180   Pave  Pave      Reg   \n",
       "1186  1187         190       RL        107.0    10615   Pave   NaN      IR1   \n",
       "695    696          20       RL         54.0    13811   Pave   NaN      IR1   \n",
       "96      97          20       RL         78.0    10264   Pave   NaN      IR1   \n",
       "1080  1081          20       RL         80.0    11040   Pave   NaN      Reg   \n",
       "1252  1253          20       RL         62.0     9858   Pave   NaN      Reg   \n",
       "527    528          60       RL         67.0    14948   Pave   NaN      IR1   \n",
       "1345  1346          30       RM         50.0     6000   Pave   NaN      Reg   \n",
       "378    379          20       RL         88.0    11394   Pave   NaN      Reg   \n",
       "\n",
       "     LandContour Utilities  ... PoolArea PoolQC  Fence MiscFeature MiscVal  \\\n",
       "286          Bnk    AllPub  ...        0    NaN  GdPrv         NaN       0   \n",
       "831          Lvl    AllPub  ...        0    NaN    NaN         NaN       0   \n",
       "1186         Bnk    AllPub  ...        0    NaN    NaN         NaN       0   \n",
       "695          Lvl    AllPub  ...        0    NaN    NaN         NaN       0   \n",
       "96           Lvl    AllPub  ...        0    NaN    NaN         NaN       0   \n",
       "1080         Lvl    AllPub  ...        0    NaN    NaN         NaN       0   \n",
       "1252         Lvl    AllPub  ...        0    NaN   GdWo        Shed     600   \n",
       "527          Lvl    AllPub  ...        0    NaN    NaN         NaN       0   \n",
       "1345         Lvl    AllPub  ...        0    NaN    NaN         NaN       0   \n",
       "378          Lvl    AllPub  ...        0    NaN    NaN         NaN       0   \n",
       "\n",
       "     MoSold YrSold  SaleType  SaleCondition  SalePrice  \n",
       "286       6   2006        WD         Normal     159000  \n",
       "831       6   2006        WD         Normal     151000  \n",
       "1186      8   2009        WD        Abnorml      95000  \n",
       "695       7   2006        WD         Normal     176000  \n",
       "96        8   2006        WD         Normal     214000  \n",
       "1080     10   2008       COD        Abnorml     145000  \n",
       "1252     11   2009        WD         Normal     130000  \n",
       "527      11   2008       New        Partial     446261  \n",
       "1345      7   2007        WD         Normal     108500  \n",
       "378       6   2010       New        Partial     394432  \n",
       "\n",
       "[10 rows x 81 columns]"
      ]
     },
     "metadata": {},
     "execution_count": 2
    }
   ],
   "source": [
    "df = pd.read_csv(\n",
    "    \"/home/kaustav/Desktop/Kaggle-Workspace/House-Prices-Advanced-Regression-Techniques/data/train.csv\")\n",
    "df.sample(10)"
   ]
  },
  {
   "cell_type": "code",
   "execution_count": 3,
   "metadata": {},
   "outputs": [
    {
     "output_type": "execute_result",
     "data": {
      "text/html": "<div>\n<style scoped>\n    .dataframe tbody tr th:only-of-type {\n        vertical-align: middle;\n    }\n\n    .dataframe tbody tr th {\n        vertical-align: top;\n    }\n\n    .dataframe thead th {\n        text-align: right;\n    }\n</style>\n<table border=\"1\" class=\"dataframe\">\n  <thead>\n    <tr style=\"text-align: right;\">\n      <th></th>\n      <th>Id</th>\n      <th>MSSubClass</th>\n      <th>LotFrontage</th>\n      <th>LotArea</th>\n      <th>OverallQual</th>\n      <th>OverallCond</th>\n      <th>YearBuilt</th>\n      <th>YearRemodAdd</th>\n      <th>MasVnrArea</th>\n      <th>BsmtFinSF1</th>\n      <th>...</th>\n      <th>WoodDeckSF</th>\n      <th>OpenPorchSF</th>\n      <th>EnclosedPorch</th>\n      <th>3SsnPorch</th>\n      <th>ScreenPorch</th>\n      <th>PoolArea</th>\n      <th>MiscVal</th>\n      <th>MoSold</th>\n      <th>YrSold</th>\n      <th>SalePrice</th>\n    </tr>\n  </thead>\n  <tbody>\n    <tr>\n      <th>count</th>\n      <td>1460.000000</td>\n      <td>1460.000000</td>\n      <td>1201.000000</td>\n      <td>1460.000000</td>\n      <td>1460.000000</td>\n      <td>1460.000000</td>\n      <td>1460.000000</td>\n      <td>1460.000000</td>\n      <td>1452.000000</td>\n      <td>1460.000000</td>\n      <td>...</td>\n      <td>1460.000000</td>\n      <td>1460.000000</td>\n      <td>1460.000000</td>\n      <td>1460.000000</td>\n      <td>1460.000000</td>\n      <td>1460.000000</td>\n      <td>1460.000000</td>\n      <td>1460.000000</td>\n      <td>1460.000000</td>\n      <td>1460.000000</td>\n    </tr>\n    <tr>\n      <th>mean</th>\n      <td>730.500000</td>\n      <td>56.897260</td>\n      <td>70.049958</td>\n      <td>10516.828082</td>\n      <td>6.099315</td>\n      <td>5.575342</td>\n      <td>1971.267808</td>\n      <td>1984.865753</td>\n      <td>103.685262</td>\n      <td>443.639726</td>\n      <td>...</td>\n      <td>94.244521</td>\n      <td>46.660274</td>\n      <td>21.954110</td>\n      <td>3.409589</td>\n      <td>15.060959</td>\n      <td>2.758904</td>\n      <td>43.489041</td>\n      <td>6.321918</td>\n      <td>2007.815753</td>\n      <td>180921.195890</td>\n    </tr>\n    <tr>\n      <th>std</th>\n      <td>421.610009</td>\n      <td>42.300571</td>\n      <td>24.284752</td>\n      <td>9981.264932</td>\n      <td>1.382997</td>\n      <td>1.112799</td>\n      <td>30.202904</td>\n      <td>20.645407</td>\n      <td>181.066207</td>\n      <td>456.098091</td>\n      <td>...</td>\n      <td>125.338794</td>\n      <td>66.256028</td>\n      <td>61.119149</td>\n      <td>29.317331</td>\n      <td>55.757415</td>\n      <td>40.177307</td>\n      <td>496.123024</td>\n      <td>2.703626</td>\n      <td>1.328095</td>\n      <td>79442.502883</td>\n    </tr>\n    <tr>\n      <th>min</th>\n      <td>1.000000</td>\n      <td>20.000000</td>\n      <td>21.000000</td>\n      <td>1300.000000</td>\n      <td>1.000000</td>\n      <td>1.000000</td>\n      <td>1872.000000</td>\n      <td>1950.000000</td>\n      <td>0.000000</td>\n      <td>0.000000</td>\n      <td>...</td>\n      <td>0.000000</td>\n      <td>0.000000</td>\n      <td>0.000000</td>\n      <td>0.000000</td>\n      <td>0.000000</td>\n      <td>0.000000</td>\n      <td>0.000000</td>\n      <td>1.000000</td>\n      <td>2006.000000</td>\n      <td>34900.000000</td>\n    </tr>\n    <tr>\n      <th>25%</th>\n      <td>365.750000</td>\n      <td>20.000000</td>\n      <td>59.000000</td>\n      <td>7553.500000</td>\n      <td>5.000000</td>\n      <td>5.000000</td>\n      <td>1954.000000</td>\n      <td>1967.000000</td>\n      <td>0.000000</td>\n      <td>0.000000</td>\n      <td>...</td>\n      <td>0.000000</td>\n      <td>0.000000</td>\n      <td>0.000000</td>\n      <td>0.000000</td>\n      <td>0.000000</td>\n      <td>0.000000</td>\n      <td>0.000000</td>\n      <td>5.000000</td>\n      <td>2007.000000</td>\n      <td>129975.000000</td>\n    </tr>\n    <tr>\n      <th>50%</th>\n      <td>730.500000</td>\n      <td>50.000000</td>\n      <td>69.000000</td>\n      <td>9478.500000</td>\n      <td>6.000000</td>\n      <td>5.000000</td>\n      <td>1973.000000</td>\n      <td>1994.000000</td>\n      <td>0.000000</td>\n      <td>383.500000</td>\n      <td>...</td>\n      <td>0.000000</td>\n      <td>25.000000</td>\n      <td>0.000000</td>\n      <td>0.000000</td>\n      <td>0.000000</td>\n      <td>0.000000</td>\n      <td>0.000000</td>\n      <td>6.000000</td>\n      <td>2008.000000</td>\n      <td>163000.000000</td>\n    </tr>\n    <tr>\n      <th>75%</th>\n      <td>1095.250000</td>\n      <td>70.000000</td>\n      <td>80.000000</td>\n      <td>11601.500000</td>\n      <td>7.000000</td>\n      <td>6.000000</td>\n      <td>2000.000000</td>\n      <td>2004.000000</td>\n      <td>166.000000</td>\n      <td>712.250000</td>\n      <td>...</td>\n      <td>168.000000</td>\n      <td>68.000000</td>\n      <td>0.000000</td>\n      <td>0.000000</td>\n      <td>0.000000</td>\n      <td>0.000000</td>\n      <td>0.000000</td>\n      <td>8.000000</td>\n      <td>2009.000000</td>\n      <td>214000.000000</td>\n    </tr>\n    <tr>\n      <th>max</th>\n      <td>1460.000000</td>\n      <td>190.000000</td>\n      <td>313.000000</td>\n      <td>215245.000000</td>\n      <td>10.000000</td>\n      <td>9.000000</td>\n      <td>2010.000000</td>\n      <td>2010.000000</td>\n      <td>1600.000000</td>\n      <td>5644.000000</td>\n      <td>...</td>\n      <td>857.000000</td>\n      <td>547.000000</td>\n      <td>552.000000</td>\n      <td>508.000000</td>\n      <td>480.000000</td>\n      <td>738.000000</td>\n      <td>15500.000000</td>\n      <td>12.000000</td>\n      <td>2010.000000</td>\n      <td>755000.000000</td>\n    </tr>\n  </tbody>\n</table>\n<p>8 rows × 38 columns</p>\n</div>",
      "text/plain": [
       "                Id   MSSubClass  LotFrontage        LotArea  OverallQual  \\\n",
       "count  1460.000000  1460.000000  1201.000000    1460.000000  1460.000000   \n",
       "mean    730.500000    56.897260    70.049958   10516.828082     6.099315   \n",
       "std     421.610009    42.300571    24.284752    9981.264932     1.382997   \n",
       "min       1.000000    20.000000    21.000000    1300.000000     1.000000   \n",
       "25%     365.750000    20.000000    59.000000    7553.500000     5.000000   \n",
       "50%     730.500000    50.000000    69.000000    9478.500000     6.000000   \n",
       "75%    1095.250000    70.000000    80.000000   11601.500000     7.000000   \n",
       "max    1460.000000   190.000000   313.000000  215245.000000    10.000000   \n",
       "\n",
       "       OverallCond    YearBuilt  YearRemodAdd   MasVnrArea   BsmtFinSF1  ...  \\\n",
       "count  1460.000000  1460.000000   1460.000000  1452.000000  1460.000000  ...   \n",
       "mean      5.575342  1971.267808   1984.865753   103.685262   443.639726  ...   \n",
       "std       1.112799    30.202904     20.645407   181.066207   456.098091  ...   \n",
       "min       1.000000  1872.000000   1950.000000     0.000000     0.000000  ...   \n",
       "25%       5.000000  1954.000000   1967.000000     0.000000     0.000000  ...   \n",
       "50%       5.000000  1973.000000   1994.000000     0.000000   383.500000  ...   \n",
       "75%       6.000000  2000.000000   2004.000000   166.000000   712.250000  ...   \n",
       "max       9.000000  2010.000000   2010.000000  1600.000000  5644.000000  ...   \n",
       "\n",
       "        WoodDeckSF  OpenPorchSF  EnclosedPorch    3SsnPorch  ScreenPorch  \\\n",
       "count  1460.000000  1460.000000    1460.000000  1460.000000  1460.000000   \n",
       "mean     94.244521    46.660274      21.954110     3.409589    15.060959   \n",
       "std     125.338794    66.256028      61.119149    29.317331    55.757415   \n",
       "min       0.000000     0.000000       0.000000     0.000000     0.000000   \n",
       "25%       0.000000     0.000000       0.000000     0.000000     0.000000   \n",
       "50%       0.000000    25.000000       0.000000     0.000000     0.000000   \n",
       "75%     168.000000    68.000000       0.000000     0.000000     0.000000   \n",
       "max     857.000000   547.000000     552.000000   508.000000   480.000000   \n",
       "\n",
       "          PoolArea       MiscVal       MoSold       YrSold      SalePrice  \n",
       "count  1460.000000   1460.000000  1460.000000  1460.000000    1460.000000  \n",
       "mean      2.758904     43.489041     6.321918  2007.815753  180921.195890  \n",
       "std      40.177307    496.123024     2.703626     1.328095   79442.502883  \n",
       "min       0.000000      0.000000     1.000000  2006.000000   34900.000000  \n",
       "25%       0.000000      0.000000     5.000000  2007.000000  129975.000000  \n",
       "50%       0.000000      0.000000     6.000000  2008.000000  163000.000000  \n",
       "75%       0.000000      0.000000     8.000000  2009.000000  214000.000000  \n",
       "max     738.000000  15500.000000    12.000000  2010.000000  755000.000000  \n",
       "\n",
       "[8 rows x 38 columns]"
      ]
     },
     "metadata": {},
     "execution_count": 3
    }
   ],
   "source": [
    "df.describe()"
   ]
  },
  {
   "cell_type": "code",
   "execution_count": 4,
   "metadata": {},
   "outputs": [
    {
     "output_type": "execute_result",
     "data": {
      "text/plain": [
       "Id                 int64\n",
       "MSSubClass         int64\n",
       "MSZoning          object\n",
       "LotFrontage      float64\n",
       "LotArea            int64\n",
       "Street            object\n",
       "Alley             object\n",
       "LotShape          object\n",
       "LandContour       object\n",
       "Utilities         object\n",
       "LotConfig         object\n",
       "LandSlope         object\n",
       "Neighborhood      object\n",
       "Condition1        object\n",
       "Condition2        object\n",
       "BldgType          object\n",
       "HouseStyle        object\n",
       "OverallQual        int64\n",
       "OverallCond        int64\n",
       "YearBuilt          int64\n",
       "YearRemodAdd       int64\n",
       "RoofStyle         object\n",
       "RoofMatl          object\n",
       "Exterior1st       object\n",
       "Exterior2nd       object\n",
       "MasVnrType        object\n",
       "MasVnrArea       float64\n",
       "ExterQual         object\n",
       "ExterCond         object\n",
       "Foundation        object\n",
       "                  ...   \n",
       "BedroomAbvGr       int64\n",
       "KitchenAbvGr       int64\n",
       "KitchenQual       object\n",
       "TotRmsAbvGrd       int64\n",
       "Functional        object\n",
       "Fireplaces         int64\n",
       "FireplaceQu       object\n",
       "GarageType        object\n",
       "GarageYrBlt      float64\n",
       "GarageFinish      object\n",
       "GarageCars         int64\n",
       "GarageArea         int64\n",
       "GarageQual        object\n",
       "GarageCond        object\n",
       "PavedDrive        object\n",
       "WoodDeckSF         int64\n",
       "OpenPorchSF        int64\n",
       "EnclosedPorch      int64\n",
       "3SsnPorch          int64\n",
       "ScreenPorch        int64\n",
       "PoolArea           int64\n",
       "PoolQC            object\n",
       "Fence             object\n",
       "MiscFeature       object\n",
       "MiscVal            int64\n",
       "MoSold             int64\n",
       "YrSold             int64\n",
       "SaleType          object\n",
       "SaleCondition     object\n",
       "SalePrice          int64\n",
       "Length: 81, dtype: object"
      ]
     },
     "metadata": {},
     "execution_count": 4
    }
   ],
   "source": [
    "df.dtypes"
   ]
  },
  {
   "cell_type": "code",
   "execution_count": 5,
   "metadata": {},
   "outputs": [
    {
     "output_type": "execute_result",
     "data": {
      "text/plain": [
       "Index([u'MSZoning', u'Street', u'Alley', u'LotShape', u'LandContour',\n",
       "       u'Utilities', u'LotConfig', u'LandSlope', u'Neighborhood',\n",
       "       u'Condition1', u'Condition2', u'BldgType', u'HouseStyle', u'RoofStyle',\n",
       "       u'RoofMatl', u'Exterior1st', u'Exterior2nd', u'MasVnrType',\n",
       "       u'ExterQual', u'ExterCond', u'Foundation', u'BsmtQual', u'BsmtCond',\n",
       "       u'BsmtExposure', u'BsmtFinType1', u'BsmtFinType2', u'Heating',\n",
       "       u'HeatingQC', u'CentralAir', u'Electrical', u'KitchenQual',\n",
       "       u'Functional', u'FireplaceQu', u'GarageType', u'GarageFinish',\n",
       "       u'GarageQual', u'GarageCond', u'PavedDrive', u'PoolQC', u'Fence',\n",
       "       u'MiscFeature', u'SaleType', u'SaleCondition'],\n",
       "      dtype='object')"
      ]
     },
     "metadata": {},
     "execution_count": 5
    }
   ],
   "source": [
    "df.columns[df.dtypes == 'object']"
   ]
  },
  {
   "cell_type": "code",
   "execution_count": 6,
   "metadata": {},
   "outputs": [
    {
     "output_type": "execute_result",
     "data": {
      "text/html": "<div>\n<style scoped>\n    .dataframe tbody tr th:only-of-type {\n        vertical-align: middle;\n    }\n\n    .dataframe tbody tr th {\n        vertical-align: top;\n    }\n\n    .dataframe thead th {\n        text-align: right;\n    }\n</style>\n<table border=\"1\" class=\"dataframe\">\n  <thead>\n    <tr style=\"text-align: right;\">\n      <th></th>\n      <th>Id</th>\n      <th>MSSubClass</th>\n      <th>LotFrontage</th>\n      <th>LotArea</th>\n      <th>OverallQual</th>\n      <th>OverallCond</th>\n      <th>YearBuilt</th>\n      <th>YearRemodAdd</th>\n      <th>MasVnrArea</th>\n      <th>BsmtFinSF1</th>\n      <th>...</th>\n      <th>SaleType_ConLw</th>\n      <th>SaleType_New</th>\n      <th>SaleType_Oth</th>\n      <th>SaleType_WD</th>\n      <th>SaleCondition_Abnorml</th>\n      <th>SaleCondition_AdjLand</th>\n      <th>SaleCondition_Alloca</th>\n      <th>SaleCondition_Family</th>\n      <th>SaleCondition_Normal</th>\n      <th>SaleCondition_Partial</th>\n    </tr>\n  </thead>\n  <tbody>\n    <tr>\n      <th>989</th>\n      <td>990</td>\n      <td>60</td>\n      <td>65.0</td>\n      <td>8125</td>\n      <td>7</td>\n      <td>5</td>\n      <td>2006</td>\n      <td>2006</td>\n      <td>0.0</td>\n      <td>0</td>\n      <td>...</td>\n      <td>0</td>\n      <td>1</td>\n      <td>0</td>\n      <td>0</td>\n      <td>0</td>\n      <td>0</td>\n      <td>0</td>\n      <td>0</td>\n      <td>0</td>\n      <td>1</td>\n    </tr>\n    <tr>\n      <th>1360</th>\n      <td>1361</td>\n      <td>70</td>\n      <td>51.0</td>\n      <td>9842</td>\n      <td>5</td>\n      <td>6</td>\n      <td>1921</td>\n      <td>1998</td>\n      <td>0.0</td>\n      <td>0</td>\n      <td>...</td>\n      <td>0</td>\n      <td>0</td>\n      <td>0</td>\n      <td>1</td>\n      <td>0</td>\n      <td>0</td>\n      <td>0</td>\n      <td>0</td>\n      <td>1</td>\n      <td>0</td>\n    </tr>\n    <tr>\n      <th>1394</th>\n      <td>1395</td>\n      <td>120</td>\n      <td>53.0</td>\n      <td>4045</td>\n      <td>7</td>\n      <td>5</td>\n      <td>2006</td>\n      <td>2006</td>\n      <td>45.0</td>\n      <td>1070</td>\n      <td>...</td>\n      <td>0</td>\n      <td>1</td>\n      <td>0</td>\n      <td>0</td>\n      <td>0</td>\n      <td>0</td>\n      <td>0</td>\n      <td>0</td>\n      <td>0</td>\n      <td>1</td>\n    </tr>\n    <tr>\n      <th>567</th>\n      <td>568</td>\n      <td>20</td>\n      <td>70.0</td>\n      <td>10171</td>\n      <td>7</td>\n      <td>5</td>\n      <td>2004</td>\n      <td>2004</td>\n      <td>168.0</td>\n      <td>2</td>\n      <td>...</td>\n      <td>0</td>\n      <td>0</td>\n      <td>0</td>\n      <td>1</td>\n      <td>0</td>\n      <td>0</td>\n      <td>0</td>\n      <td>0</td>\n      <td>1</td>\n      <td>0</td>\n    </tr>\n    <tr>\n      <th>572</th>\n      <td>573</td>\n      <td>60</td>\n      <td>83.0</td>\n      <td>13159</td>\n      <td>7</td>\n      <td>5</td>\n      <td>2009</td>\n      <td>2009</td>\n      <td>0.0</td>\n      <td>0</td>\n      <td>...</td>\n      <td>0</td>\n      <td>1</td>\n      <td>0</td>\n      <td>0</td>\n      <td>0</td>\n      <td>0</td>\n      <td>0</td>\n      <td>0</td>\n      <td>0</td>\n      <td>1</td>\n    </tr>\n    <tr>\n      <th>926</th>\n      <td>927</td>\n      <td>60</td>\n      <td>93.0</td>\n      <td>11999</td>\n      <td>8</td>\n      <td>5</td>\n      <td>2003</td>\n      <td>2004</td>\n      <td>340.0</td>\n      <td>0</td>\n      <td>...</td>\n      <td>0</td>\n      <td>0</td>\n      <td>0</td>\n      <td>1</td>\n      <td>0</td>\n      <td>0</td>\n      <td>0</td>\n      <td>0</td>\n      <td>1</td>\n      <td>0</td>\n    </tr>\n    <tr>\n      <th>1318</th>\n      <td>1319</td>\n      <td>20</td>\n      <td>NaN</td>\n      <td>14781</td>\n      <td>8</td>\n      <td>5</td>\n      <td>2001</td>\n      <td>2002</td>\n      <td>178.0</td>\n      <td>0</td>\n      <td>...</td>\n      <td>0</td>\n      <td>0</td>\n      <td>0</td>\n      <td>1</td>\n      <td>0</td>\n      <td>0</td>\n      <td>0</td>\n      <td>0</td>\n      <td>1</td>\n      <td>0</td>\n    </tr>\n    <tr>\n      <th>205</th>\n      <td>206</td>\n      <td>20</td>\n      <td>99.0</td>\n      <td>11851</td>\n      <td>7</td>\n      <td>5</td>\n      <td>1990</td>\n      <td>1990</td>\n      <td>0.0</td>\n      <td>0</td>\n      <td>...</td>\n      <td>0</td>\n      <td>0</td>\n      <td>0</td>\n      <td>1</td>\n      <td>0</td>\n      <td>0</td>\n      <td>0</td>\n      <td>0</td>\n      <td>1</td>\n      <td>0</td>\n    </tr>\n    <tr>\n      <th>915</th>\n      <td>916</td>\n      <td>160</td>\n      <td>21.0</td>\n      <td>2001</td>\n      <td>4</td>\n      <td>5</td>\n      <td>1970</td>\n      <td>1970</td>\n      <td>80.0</td>\n      <td>0</td>\n      <td>...</td>\n      <td>0</td>\n      <td>0</td>\n      <td>0</td>\n      <td>1</td>\n      <td>0</td>\n      <td>0</td>\n      <td>0</td>\n      <td>0</td>\n      <td>1</td>\n      <td>0</td>\n    </tr>\n    <tr>\n      <th>999</th>\n      <td>1000</td>\n      <td>20</td>\n      <td>64.0</td>\n      <td>6762</td>\n      <td>7</td>\n      <td>5</td>\n      <td>2006</td>\n      <td>2006</td>\n      <td>24.0</td>\n      <td>686</td>\n      <td>...</td>\n      <td>0</td>\n      <td>0</td>\n      <td>0</td>\n      <td>1</td>\n      <td>0</td>\n      <td>0</td>\n      <td>0</td>\n      <td>0</td>\n      <td>1</td>\n      <td>0</td>\n    </tr>\n  </tbody>\n</table>\n<p>10 rows × 290 columns</p>\n</div>",
      "text/plain": [
       "        Id  MSSubClass  LotFrontage  LotArea  OverallQual  OverallCond  \\\n",
       "989    990          60         65.0     8125            7            5   \n",
       "1360  1361          70         51.0     9842            5            6   \n",
       "1394  1395         120         53.0     4045            7            5   \n",
       "567    568          20         70.0    10171            7            5   \n",
       "572    573          60         83.0    13159            7            5   \n",
       "926    927          60         93.0    11999            8            5   \n",
       "1318  1319          20          NaN    14781            8            5   \n",
       "205    206          20         99.0    11851            7            5   \n",
       "915    916         160         21.0     2001            4            5   \n",
       "999   1000          20         64.0     6762            7            5   \n",
       "\n",
       "      YearBuilt  YearRemodAdd  MasVnrArea  BsmtFinSF1  ...  SaleType_ConLw  \\\n",
       "989        2006          2006         0.0           0  ...               0   \n",
       "1360       1921          1998         0.0           0  ...               0   \n",
       "1394       2006          2006        45.0        1070  ...               0   \n",
       "567        2004          2004       168.0           2  ...               0   \n",
       "572        2009          2009         0.0           0  ...               0   \n",
       "926        2003          2004       340.0           0  ...               0   \n",
       "1318       2001          2002       178.0           0  ...               0   \n",
       "205        1990          1990         0.0           0  ...               0   \n",
       "915        1970          1970        80.0           0  ...               0   \n",
       "999        2006          2006        24.0         686  ...               0   \n",
       "\n",
       "      SaleType_New  SaleType_Oth  SaleType_WD  SaleCondition_Abnorml  \\\n",
       "989              1             0            0                      0   \n",
       "1360             0             0            1                      0   \n",
       "1394             1             0            0                      0   \n",
       "567              0             0            1                      0   \n",
       "572              1             0            0                      0   \n",
       "926              0             0            1                      0   \n",
       "1318             0             0            1                      0   \n",
       "205              0             0            1                      0   \n",
       "915              0             0            1                      0   \n",
       "999              0             0            1                      0   \n",
       "\n",
       "      SaleCondition_AdjLand  SaleCondition_Alloca  SaleCondition_Family  \\\n",
       "989                       0                     0                     0   \n",
       "1360                      0                     0                     0   \n",
       "1394                      0                     0                     0   \n",
       "567                       0                     0                     0   \n",
       "572                       0                     0                     0   \n",
       "926                       0                     0                     0   \n",
       "1318                      0                     0                     0   \n",
       "205                       0                     0                     0   \n",
       "915                       0                     0                     0   \n",
       "999                       0                     0                     0   \n",
       "\n",
       "      SaleCondition_Normal  SaleCondition_Partial  \n",
       "989                      0                      1  \n",
       "1360                     1                      0  \n",
       "1394                     0                      1  \n",
       "567                      1                      0  \n",
       "572                      0                      1  \n",
       "926                      1                      0  \n",
       "1318                     1                      0  \n",
       "205                      1                      0  \n",
       "915                      1                      0  \n",
       "999                      1                      0  \n",
       "\n",
       "[10 rows x 290 columns]"
      ]
     },
     "metadata": {},
     "execution_count": 6
    }
   ],
   "source": [
    "# Dealing with multiple categorical columns\n",
    "categorical_columns = ['MSZoning', 'Street', 'Alley', 'LotShape', 'LandContour',\n",
    "       'Utilities', 'LotConfig', 'LandSlope', 'Neighborhood',\n",
    "       'Condition1', 'Condition2', 'BldgType', 'HouseStyle', 'RoofStyle',\n",
    "       'RoofMatl', 'Exterior1st', 'Exterior2nd', 'MasVnrType',\n",
    "       'ExterQual', 'ExterCond', 'Foundation', 'BsmtQual', 'BsmtCond',\n",
    "       'BsmtExposure', 'BsmtFinType1', 'BsmtFinType2', 'Heating',\n",
    "       'HeatingQC', 'CentralAir', 'Electrical', 'KitchenQual',\n",
    "       'Functional', 'FireplaceQu', 'GarageType', 'GarageFinish',\n",
    "       'GarageQual', 'GarageCond', 'PavedDrive', 'PoolQC', 'Fence',\n",
    "       'MiscFeature', 'SaleType', 'SaleCondition']\n",
    "\n",
    "df_dummies = pd.get_dummies(df, columns = categorical_columns)\n",
    "df_dummies.sample(10)"
   ]
  },
  {
   "cell_type": "code",
   "execution_count": 7,
   "metadata": {},
   "outputs": [],
   "source": [
    "X = df_dummies.loc[:, df_dummies.columns != \"SalePrice\"]\n",
    "y = df_dummies[\"SalePrice\"]"
   ]
  },
  {
   "cell_type": "code",
   "execution_count": 8,
   "metadata": {},
   "outputs": [
    {
     "output_type": "stream",
     "name": "stderr",
     "text": [
      "/home/kaustav/.local/lib/python2.7/site-packages/sklearn/model_selection/_split.py:2178: FutureWarning: From version 0.21, test_size will always complement train_size unless both are specified.\n  FutureWarning)\n"
     ]
    },
    {
     "output_type": "execute_result",
     "data": {
      "text/plain": [
       "((1241, 289), (219, 289), (1241,), (219,))"
      ]
     },
     "metadata": {},
     "execution_count": 8
    }
   ],
   "source": [
    "X_train, X_test, y_train, y_test = train_test_split(X, y, train_size=0.85, random_state=42)\n",
    "X_train.shape, X_test.shape, y_train.shape, y_test.shape"
   ]
  },
  {
   "source": [
    "## Fill NaN values with mean only after train_test_split to prevent data leakage"
   ],
   "cell_type": "markdown",
   "metadata": {}
  },
  {
   "cell_type": "code",
   "execution_count": 9,
   "metadata": {},
   "outputs": [
    {
     "output_type": "stream",
     "name": "stderr",
     "text": [
      "/home/kaustav/.local/lib/python2.7/site-packages/pandas/core/generic.py:6130: SettingWithCopyWarning: \nA value is trying to be set on a copy of a slice from a DataFrame\n\nSee the caveats in the documentation: http://pandas.pydata.org/pandas-docs/stable/indexing.html#indexing-view-versus-copy\n  self._update_inplace(new_data)\n"
     ]
    }
   ],
   "source": [
    "X_train.fillna(X_train.mean() , inplace = True)\n",
    "X_test.fillna(X_test.mean() , inplace = True) "
   ]
  },
  {
   "cell_type": "code",
   "execution_count": 10,
   "metadata": {},
   "outputs": [
    {
     "output_type": "execute_result",
     "data": {
      "text/plain": [
       "(Index([], dtype='object'), Index([], dtype='object'))"
      ]
     },
     "metadata": {},
     "execution_count": 10
    }
   ],
   "source": [
    "X_train.columns[X_train.isnull().sum() > 0 ] , X_test.columns[X_test.isnull().sum() > 0 ]"
   ]
  },
  {
   "cell_type": "code",
   "execution_count": 11,
   "metadata": {},
   "outputs": [
    {
     "output_type": "stream",
     "name": "stdout",
     "text": [
      "('Simple Linear Regressor', 0.9394600229747782)\n"
     ]
    }
   ],
   "source": [
    "lin_reg = LinearRegression()\n",
    "lin_reg.fit(X_train,y_train)\n",
    "print(\"Simple Linear Regressor\" , lin_reg.score(X_train,y_train))"
   ]
  },
  {
   "cell_type": "code",
   "execution_count": 13,
   "metadata": {},
   "outputs": [
    {
     "output_type": "stream",
     "name": "stdout",
     "text": [
      "3469.0216757554736\n[ 4.45756194e-01 -6.95181060e+00  1.80881775e+01  8.81321481e-01\n  7.58272546e+03  4.78795609e+03  3.22759693e+02  1.30811743e+02\n  2.05584423e+01  1.73959635e+01  3.78023883e+00  1.12183402e+00\n  2.22981597e+01  5.14110547e+00  2.34731612e+01  4.16502411e+00\n  3.27797984e+01  2.12648368e+03  9.23560050e+02  3.01006557e+03\n  2.38625482e+03 -3.07943643e+03 -1.24994245e+04  1.90706141e+03\n  3.57438945e+03 -7.39326069e+01  7.44963066e+02  3.48729642e+01\n  1.95468880e+01 -9.18099440e-01  1.25446986e+01  3.50173122e+01\n  4.33809659e+01  6.44389973e+03  2.37326488e+00 -4.09298313e+02\n -3.39383774e+02 -1.69045772e+04  1.08974767e+04  3.99961532e+02\n  2.16747784e+03  3.43966113e+03 -1.64588982e+04  1.64588982e+04\n  2.95138859e+03  3.77396353e+03 -3.66848847e+03  2.48937792e+03\n  1.98237404e+03 -8.03263488e+02 -1.08863808e+03  9.13868412e+03\n -1.09055204e+04  2.85547431e+03  2.11249527e+04 -2.11249527e+04\n  4.35757722e+03  1.50260387e+04 -1.02496883e+03 -2.20139796e+04\n  3.65533250e+03  2.01704264e+04  2.70214489e+04 -4.71918754e+04\n  7.49682009e+03  3.78247507e+03  4.36368002e+02 -1.60230209e+03\n -8.20610559e+03 -5.02768873e+03  1.28119999e+04 -1.62757300e+04\n -6.20247171e+03 -1.55101578e+04 -8.20170808e+03 -1.69374728e+04\n -1.22078084e+04  1.81583686e+04 -1.46601205e+04  2.14460936e+04\n  2.65038447e+04 -1.51935476e+04 -4.78374503e+03 -5.84483738e+03\n -7.40440328e+02  1.88012152e+02  3.86584495e+04 -4.93166921e+03\n  6.84337367e+03 -6.47017191e+03 -4.08371602e+01  8.13668791e+03\n  3.12902077e+03  9.35570452e+03 -2.39495944e+04  8.12673112e+03\n -8.43575738e+03  1.01482165e+04  4.52831689e+04  4.33280791e+04\n  3.61534868e+04  8.16866548e+04 -1.93252817e+05 -8.10275924e+04\n  3.14882509e+04  3.63407690e+04  1.36310634e+04  4.99837489e+03\n  2.92759993e+02 -1.08031167e+04 -8.11908159e+03  2.26810730e+03\n  1.40064077e+04  7.88869934e+03 -2.17953526e+04 -3.57869423e+03\n -3.48342379e+03 -2.55706152e+01  4.71982694e+03 -2.11195336e+04\n -2.00263570e+04 -1.51550311e+04 -2.05484118e+04 -6.29146991e+03\n  8.31408035e+04  8.22147762e+05 -1.47413560e+05 -6.60656951e-08\n -7.45399427e+04 -1.50950005e+05 -1.46175619e+05 -1.59051559e+05\n -1.44017076e+05  9.20649353e+03 -2.56391607e+03  8.18935714e+03\n  1.55765976e+04 -1.15677070e+03 -1.02010448e+04 -3.28199193e+03\n -3.43971264e+03  2.50645341e+03 -1.71742843e+03  1.33233131e+04\n -5.71030501e+03 -5.40447147e+03 -9.89396910e+03 -5.43260465e+03\n -6.29007360e+03 -9.07995175e+01 -5.75583423e+03  6.70205505e+03\n -1.15677070e+03  1.34708011e+04  7.52250405e+02  4.46242351e+03\n -1.30260215e+03 -2.25355395e+04 -1.57949371e+03 -1.29527118e+04\n  9.86814507e+03  5.13071274e+03  9.49512992e+03  1.78230741e+03\n -9.06371675e+03  1.58483483e+02  2.98899594e+03  2.70098833e+03\n  1.46155717e+04 -9.37643753e+02 -6.85236742e+03 -6.82556056e+03\n  7.56432011e+02 -3.80683521e+03 -5.30199739e+03  1.34402433e+04\n -5.08784272e+03  1.44408493e+03  5.11406083e+03  8.30433065e+03\n -6.13964735e+03  1.24188629e+04 -2.11416920e+04  9.34932171e+03\n -1.10462621e+03 -7.61946588e+03 -5.12357302e+03 -2.67050665e+04\n -2.52451600e+04  6.79750610e+04 -2.05231779e+04  1.15867346e+04\n  2.65017437e+04  9.94904643e+03  7.76002083e+03 -1.49341246e+03\n -9.01397879e+02  2.75467565e+03 -4.08121528e+03 -1.34359778e+03\n  5.66604342e+02  7.10370994e+03 -3.33363961e+03  2.61451396e+03\n -6.64991667e+03 -8.09150511e+02 -3.42386051e+03  2.07898750e+03\n  3.90926432e+03 -2.71838051e+03 -3.88818461e+03 -2.13719243e+04\n  2.19902376e+04 -3.03485545e+03 -6.11634427e+01 -5.73501914e+03\n  1.30595975e+04 -4.22855947e+03 -6.14723539e+02  6.14723538e+02\n -1.25011801e+04 -1.50301697e+04 -2.39678998e+04  3.63797881e-11\n -1.45104921e+04  1.22441811e+04 -3.20492443e+02 -5.92416770e+03\n -5.99952092e+03  9.33138170e+03 -4.40094091e+03  9.07802631e+03\n  1.28512383e+04 -8.61817785e+02 -4.67093603e+04  2.07114727e+04\n -3.04806972e+03 -6.12151021e+03 -2.04404825e+03  4.82381526e+02\n  3.79395136e+01 -2.61534215e+04 -2.34505566e+03  2.73215387e+03\n -3.37612924e+03  1.03926025e+04 -3.07037922e+02 -5.46699744e+03\n -7.97422263e+03 -5.61566790e+03  1.28015017e+05 -3.57959084e+04\n -2.89908834e+04 -5.22688663e+04 -3.00162471e+04 -1.25986601e+05\n  2.54086170e+04  2.50952467e+04  3.01196214e+04  2.63062280e+04\n  3.03178808e+03 -3.70956989e+03  6.77781817e+02 -3.33055025e+06\n -4.14639519e+06 -4.68899529e+06 -6.79764449e+03 -7.95895480e+02\n  1.54842520e+03 -6.95183927e+03 -3.71208021e+04  6.07118794e+03\n -6.09163717e+02  7.70064167e+05 -9.09467632e+03  8.92585228e+03\n  1.09268410e+04  6.69107999e+03 -9.03001936e+03 -1.20616006e+04\n  4.71862207e+03  8.69369080e+03 -9.76978986e+03 -7.15146787e+03\n  4.61610358e+03  8.57938515e+03 -5.68716115e+03 -5.60389304e+02\n  2.03529582e+02]\n"
     ]
    }
   ],
   "source": [
    "print(lin_reg.intercept_) \n",
    "print(lin_reg.coef_) "
   ]
  },
  {
   "cell_type": "code",
   "execution_count": 19,
   "metadata": {},
   "outputs": [
    {
     "output_type": "execute_result",
     "data": {
      "text/html": "<div>\n<style scoped>\n    .dataframe tbody tr th:only-of-type {\n        vertical-align: middle;\n    }\n\n    .dataframe tbody tr th {\n        vertical-align: top;\n    }\n\n    .dataframe thead th {\n        text-align: right;\n    }\n</style>\n<table border=\"1\" class=\"dataframe\">\n  <thead>\n    <tr style=\"text-align: right;\">\n      <th></th>\n      <th>Actual</th>\n      <th>Predicted</th>\n    </tr>\n  </thead>\n  <tbody>\n    <tr>\n      <th>576</th>\n      <td>145000</td>\n      <td>144444.844778</td>\n    </tr>\n    <tr>\n      <th>806</th>\n      <td>135500</td>\n      <td>125200.334715</td>\n    </tr>\n    <tr>\n      <th>59</th>\n      <td>124900</td>\n      <td>129525.414296</td>\n    </tr>\n    <tr>\n      <th>939</th>\n      <td>244400</td>\n      <td>232449.399254</td>\n    </tr>\n    <tr>\n      <th>51</th>\n      <td>114500</td>\n      <td>130942.608328</td>\n    </tr>\n    <tr>\n      <th>1414</th>\n      <td>207000</td>\n      <td>192131.758832</td>\n    </tr>\n    <tr>\n      <th>1160</th>\n      <td>146000</td>\n      <td>146050.482035</td>\n    </tr>\n    <tr>\n      <th>1358</th>\n      <td>177500</td>\n      <td>162151.917526</td>\n    </tr>\n    <tr>\n      <th>63</th>\n      <td>140000</td>\n      <td>140731.070020</td>\n    </tr>\n    <tr>\n      <th>239</th>\n      <td>113000</td>\n      <td>117282.251472</td>\n    </tr>\n    <tr>\n      <th>259</th>\n      <td>97000</td>\n      <td>124261.281197</td>\n    </tr>\n    <tr>\n      <th>1102</th>\n      <td>135000</td>\n      <td>120053.038323</td>\n    </tr>\n    <tr>\n      <th>1331</th>\n      <td>132500</td>\n      <td>133075.984411</td>\n    </tr>\n    <tr>\n      <th>1333</th>\n      <td>125500</td>\n      <td>132469.650792</td>\n    </tr>\n    <tr>\n      <th>599</th>\n      <td>151000</td>\n      <td>146482.836373</td>\n    </tr>\n  </tbody>\n</table>\n</div>",
      "text/plain": [
       "      Actual      Predicted\n",
       "576   145000  144444.844778\n",
       "806   135500  125200.334715\n",
       "59    124900  129525.414296\n",
       "939   244400  232449.399254\n",
       "51    114500  130942.608328\n",
       "1414  207000  192131.758832\n",
       "1160  146000  146050.482035\n",
       "1358  177500  162151.917526\n",
       "63    140000  140731.070020\n",
       "239   113000  117282.251472\n",
       "259    97000  124261.281197\n",
       "1102  135000  120053.038323\n",
       "1331  132500  133075.984411\n",
       "1333  125500  132469.650792\n",
       "599   151000  146482.836373"
      ]
     },
     "metadata": {},
     "execution_count": 19
    }
   ],
   "source": [
    "y_pred = lin_reg.predict(X_test)\n",
    "df_compare = pd.DataFrame({'Actual': y_test, 'Predicted': y_pred})\n",
    "df_compare.sample(15)"
   ]
  },
  {
   "cell_type": "code",
   "execution_count": null,
   "metadata": {},
   "outputs": [],
   "source": []
  },
  {
   "cell_type": "code",
   "execution_count": null,
   "metadata": {},
   "outputs": [],
   "source": []
  },
  {
   "cell_type": "code",
   "execution_count": null,
   "metadata": {},
   "outputs": [],
   "source": []
  },
  {
   "cell_type": "code",
   "execution_count": null,
   "metadata": {},
   "outputs": [],
   "source": []
  },
  {
   "cell_type": "code",
   "execution_count": null,
   "metadata": {},
   "outputs": [],
   "source": []
  },
  {
   "cell_type": "code",
   "execution_count": null,
   "metadata": {},
   "outputs": [],
   "source": []
  },
  {
   "cell_type": "code",
   "execution_count": null,
   "metadata": {},
   "outputs": [],
   "source": []
  },
  {
   "cell_type": "code",
   "execution_count": null,
   "metadata": {},
   "outputs": [],
   "source": []
  },
  {
   "cell_type": "code",
   "execution_count": null,
   "metadata": {},
   "outputs": [],
   "source": []
  },
  {
   "cell_type": "code",
   "execution_count": null,
   "metadata": {},
   "outputs": [],
   "source": []
  },
  {
   "cell_type": "code",
   "execution_count": null,
   "metadata": {},
   "outputs": [],
   "source": []
  },
  {
   "cell_type": "code",
   "execution_count": null,
   "metadata": {},
   "outputs": [],
   "source": []
  },
  {
   "cell_type": "code",
   "execution_count": null,
   "metadata": {},
   "outputs": [],
   "source": []
  },
  {
   "cell_type": "code",
   "execution_count": null,
   "metadata": {},
   "outputs": [],
   "source": []
  },
  {
   "cell_type": "code",
   "execution_count": null,
   "metadata": {},
   "outputs": [],
   "source": []
  },
  {
   "cell_type": "code",
   "execution_count": null,
   "metadata": {},
   "outputs": [],
   "source": []
  },
  {
   "cell_type": "code",
   "execution_count": null,
   "metadata": {},
   "outputs": [],
   "source": []
  },
  {
   "cell_type": "code",
   "execution_count": null,
   "metadata": {},
   "outputs": [],
   "source": []
  },
  {
   "cell_type": "code",
   "execution_count": null,
   "metadata": {},
   "outputs": [],
   "source": []
  },
  {
   "cell_type": "code",
   "execution_count": null,
   "metadata": {},
   "outputs": [],
   "source": []
  },
  {
   "cell_type": "code",
   "execution_count": null,
   "metadata": {},
   "outputs": [],
   "source": []
  },
  {
   "cell_type": "code",
   "execution_count": null,
   "metadata": {},
   "outputs": [],
   "source": []
  }
 ]
}