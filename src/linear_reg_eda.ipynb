{
 "metadata": {
  "language_info": {
   "codemirror_mode": {
    "name": "ipython",
    "version": 3
   },
   "file_extension": ".py",
   "mimetype": "text/x-python",
   "name": "python",
   "nbconvert_exporter": "python",
   "pygments_lexer": "ipython3",
   "version": "2.7.17"
  },
  "orig_nbformat": 2,
  "kernelspec": {
   "name": "python2717jvsc74a57bd0767d51c1340bd893661ea55ea3124f6de3c7a262a8b4abca0554b478b1e2ff90",
   "display_name": "Python 2.7.17 64-bit"
  },
  "metadata": {
   "interpreter": {
    "hash": "767d51c1340bd893661ea55ea3124f6de3c7a262a8b4abca0554b478b1e2ff90"
   }
  }
 },
 "nbformat": 4,
 "nbformat_minor": 2,
 "cells": [
  {
   "cell_type": "code",
   "execution_count": 2,
   "metadata": {},
   "outputs": [],
   "source": [
    "import numpy as np\n",
    "import pandas as pd\n",
    "import matplotlib.pyplot as plt\n",
    "\n",
    "from sklearn.model_selection import train_test_split\n",
    "from sklearn.linear_model import LinearRegression"
   ]
  },
  {
   "source": [
    "# Exploratory Data Analysis "
   ],
   "cell_type": "markdown",
   "metadata": {}
  },
  {
   "cell_type": "code",
   "execution_count": 3,
   "metadata": {},
   "outputs": [
    {
     "output_type": "execute_result",
     "data": {
      "text/html": "<div>\n<style scoped>\n    .dataframe tbody tr th:only-of-type {\n        vertical-align: middle;\n    }\n\n    .dataframe tbody tr th {\n        vertical-align: top;\n    }\n\n    .dataframe thead th {\n        text-align: right;\n    }\n</style>\n<table border=\"1\" class=\"dataframe\">\n  <thead>\n    <tr style=\"text-align: right;\">\n      <th></th>\n      <th>Id</th>\n      <th>MSSubClass</th>\n      <th>MSZoning</th>\n      <th>LotFrontage</th>\n      <th>LotArea</th>\n      <th>Street</th>\n      <th>Alley</th>\n      <th>LotShape</th>\n      <th>LandContour</th>\n      <th>Utilities</th>\n      <th>...</th>\n      <th>PoolArea</th>\n      <th>PoolQC</th>\n      <th>Fence</th>\n      <th>MiscFeature</th>\n      <th>MiscVal</th>\n      <th>MoSold</th>\n      <th>YrSold</th>\n      <th>SaleType</th>\n      <th>SaleCondition</th>\n      <th>SalePrice</th>\n    </tr>\n  </thead>\n  <tbody>\n    <tr>\n      <th>84</th>\n      <td>85</td>\n      <td>80</td>\n      <td>RL</td>\n      <td>NaN</td>\n      <td>8530</td>\n      <td>Pave</td>\n      <td>NaN</td>\n      <td>IR1</td>\n      <td>Lvl</td>\n      <td>AllPub</td>\n      <td>...</td>\n      <td>0</td>\n      <td>NaN</td>\n      <td>NaN</td>\n      <td>Shed</td>\n      <td>700</td>\n      <td>5</td>\n      <td>2009</td>\n      <td>WD</td>\n      <td>Normal</td>\n      <td>168500</td>\n    </tr>\n    <tr>\n      <th>1034</th>\n      <td>1035</td>\n      <td>30</td>\n      <td>RL</td>\n      <td>50.0</td>\n      <td>6305</td>\n      <td>Pave</td>\n      <td>NaN</td>\n      <td>Reg</td>\n      <td>Bnk</td>\n      <td>AllPub</td>\n      <td>...</td>\n      <td>0</td>\n      <td>NaN</td>\n      <td>MnPrv</td>\n      <td>NaN</td>\n      <td>0</td>\n      <td>6</td>\n      <td>2007</td>\n      <td>WD</td>\n      <td>Normal</td>\n      <td>119750</td>\n    </tr>\n    <tr>\n      <th>73</th>\n      <td>74</td>\n      <td>20</td>\n      <td>RL</td>\n      <td>85.0</td>\n      <td>10200</td>\n      <td>Pave</td>\n      <td>NaN</td>\n      <td>Reg</td>\n      <td>Lvl</td>\n      <td>AllPub</td>\n      <td>...</td>\n      <td>0</td>\n      <td>NaN</td>\n      <td>GdWo</td>\n      <td>NaN</td>\n      <td>0</td>\n      <td>5</td>\n      <td>2010</td>\n      <td>WD</td>\n      <td>Normal</td>\n      <td>144900</td>\n    </tr>\n    <tr>\n      <th>1062</th>\n      <td>1063</td>\n      <td>190</td>\n      <td>RM</td>\n      <td>85.0</td>\n      <td>13600</td>\n      <td>Pave</td>\n      <td>Grvl</td>\n      <td>Reg</td>\n      <td>Lvl</td>\n      <td>AllPub</td>\n      <td>...</td>\n      <td>0</td>\n      <td>NaN</td>\n      <td>NaN</td>\n      <td>NaN</td>\n      <td>0</td>\n      <td>9</td>\n      <td>2007</td>\n      <td>WD</td>\n      <td>Normal</td>\n      <td>90000</td>\n    </tr>\n    <tr>\n      <th>386</th>\n      <td>387</td>\n      <td>50</td>\n      <td>RL</td>\n      <td>58.0</td>\n      <td>8410</td>\n      <td>Pave</td>\n      <td>NaN</td>\n      <td>Reg</td>\n      <td>Lvl</td>\n      <td>AllPub</td>\n      <td>...</td>\n      <td>0</td>\n      <td>NaN</td>\n      <td>NaN</td>\n      <td>NaN</td>\n      <td>0</td>\n      <td>5</td>\n      <td>2006</td>\n      <td>WD</td>\n      <td>AdjLand</td>\n      <td>81000</td>\n    </tr>\n    <tr>\n      <th>1254</th>\n      <td>1255</td>\n      <td>60</td>\n      <td>RL</td>\n      <td>60.0</td>\n      <td>6931</td>\n      <td>Pave</td>\n      <td>NaN</td>\n      <td>Reg</td>\n      <td>Lvl</td>\n      <td>AllPub</td>\n      <td>...</td>\n      <td>0</td>\n      <td>NaN</td>\n      <td>NaN</td>\n      <td>NaN</td>\n      <td>0</td>\n      <td>7</td>\n      <td>2008</td>\n      <td>WD</td>\n      <td>Normal</td>\n      <td>165400</td>\n    </tr>\n    <tr>\n      <th>1120</th>\n      <td>1121</td>\n      <td>30</td>\n      <td>RM</td>\n      <td>59.0</td>\n      <td>8263</td>\n      <td>Pave</td>\n      <td>NaN</td>\n      <td>Reg</td>\n      <td>Bnk</td>\n      <td>AllPub</td>\n      <td>...</td>\n      <td>0</td>\n      <td>NaN</td>\n      <td>MnPrv</td>\n      <td>NaN</td>\n      <td>0</td>\n      <td>5</td>\n      <td>2007</td>\n      <td>WD</td>\n      <td>Normal</td>\n      <td>118400</td>\n    </tr>\n    <tr>\n      <th>763</th>\n      <td>764</td>\n      <td>60</td>\n      <td>RL</td>\n      <td>82.0</td>\n      <td>9430</td>\n      <td>Pave</td>\n      <td>NaN</td>\n      <td>Reg</td>\n      <td>Lvl</td>\n      <td>AllPub</td>\n      <td>...</td>\n      <td>0</td>\n      <td>NaN</td>\n      <td>NaN</td>\n      <td>NaN</td>\n      <td>0</td>\n      <td>7</td>\n      <td>2009</td>\n      <td>WD</td>\n      <td>Normal</td>\n      <td>337000</td>\n    </tr>\n    <tr>\n      <th>67</th>\n      <td>68</td>\n      <td>20</td>\n      <td>RL</td>\n      <td>72.0</td>\n      <td>10665</td>\n      <td>Pave</td>\n      <td>NaN</td>\n      <td>IR1</td>\n      <td>Lvl</td>\n      <td>AllPub</td>\n      <td>...</td>\n      <td>0</td>\n      <td>NaN</td>\n      <td>NaN</td>\n      <td>NaN</td>\n      <td>0</td>\n      <td>6</td>\n      <td>2007</td>\n      <td>WD</td>\n      <td>Normal</td>\n      <td>226000</td>\n    </tr>\n    <tr>\n      <th>40</th>\n      <td>41</td>\n      <td>20</td>\n      <td>RL</td>\n      <td>84.0</td>\n      <td>8658</td>\n      <td>Pave</td>\n      <td>NaN</td>\n      <td>Reg</td>\n      <td>Lvl</td>\n      <td>AllPub</td>\n      <td>...</td>\n      <td>0</td>\n      <td>NaN</td>\n      <td>GdWo</td>\n      <td>NaN</td>\n      <td>0</td>\n      <td>12</td>\n      <td>2006</td>\n      <td>WD</td>\n      <td>Abnorml</td>\n      <td>160000</td>\n    </tr>\n  </tbody>\n</table>\n<p>10 rows × 81 columns</p>\n</div>",
      "text/plain": [
       "        Id  MSSubClass MSZoning  LotFrontage  LotArea Street Alley LotShape  \\\n",
       "84      85          80       RL          NaN     8530   Pave   NaN      IR1   \n",
       "1034  1035          30       RL         50.0     6305   Pave   NaN      Reg   \n",
       "73      74          20       RL         85.0    10200   Pave   NaN      Reg   \n",
       "1062  1063         190       RM         85.0    13600   Pave  Grvl      Reg   \n",
       "386    387          50       RL         58.0     8410   Pave   NaN      Reg   \n",
       "1254  1255          60       RL         60.0     6931   Pave   NaN      Reg   \n",
       "1120  1121          30       RM         59.0     8263   Pave   NaN      Reg   \n",
       "763    764          60       RL         82.0     9430   Pave   NaN      Reg   \n",
       "67      68          20       RL         72.0    10665   Pave   NaN      IR1   \n",
       "40      41          20       RL         84.0     8658   Pave   NaN      Reg   \n",
       "\n",
       "     LandContour Utilities  ... PoolArea PoolQC  Fence MiscFeature MiscVal  \\\n",
       "84           Lvl    AllPub  ...        0    NaN    NaN        Shed     700   \n",
       "1034         Bnk    AllPub  ...        0    NaN  MnPrv         NaN       0   \n",
       "73           Lvl    AllPub  ...        0    NaN   GdWo         NaN       0   \n",
       "1062         Lvl    AllPub  ...        0    NaN    NaN         NaN       0   \n",
       "386          Lvl    AllPub  ...        0    NaN    NaN         NaN       0   \n",
       "1254         Lvl    AllPub  ...        0    NaN    NaN         NaN       0   \n",
       "1120         Bnk    AllPub  ...        0    NaN  MnPrv         NaN       0   \n",
       "763          Lvl    AllPub  ...        0    NaN    NaN         NaN       0   \n",
       "67           Lvl    AllPub  ...        0    NaN    NaN         NaN       0   \n",
       "40           Lvl    AllPub  ...        0    NaN   GdWo         NaN       0   \n",
       "\n",
       "     MoSold YrSold  SaleType  SaleCondition  SalePrice  \n",
       "84        5   2009        WD         Normal     168500  \n",
       "1034      6   2007        WD         Normal     119750  \n",
       "73        5   2010        WD         Normal     144900  \n",
       "1062      9   2007        WD         Normal      90000  \n",
       "386       5   2006        WD        AdjLand      81000  \n",
       "1254      7   2008        WD         Normal     165400  \n",
       "1120      5   2007        WD         Normal     118400  \n",
       "763       7   2009        WD         Normal     337000  \n",
       "67        6   2007        WD         Normal     226000  \n",
       "40       12   2006        WD        Abnorml     160000  \n",
       "\n",
       "[10 rows x 81 columns]"
      ]
     },
     "metadata": {},
     "execution_count": 3
    }
   ],
   "source": [
    "df = pd.read_csv(\n",
    "    \"/home/kaustav/Desktop/Kaggle-Workspace/House-Prices-Advanced-Regression-Techniques/data/train.csv\")\n",
    "df.sample(10)"
   ]
  },
  {
   "cell_type": "code",
   "execution_count": 4,
   "metadata": {},
   "outputs": [
    {
     "output_type": "execute_result",
     "data": {
      "text/html": "<div>\n<style scoped>\n    .dataframe tbody tr th:only-of-type {\n        vertical-align: middle;\n    }\n\n    .dataframe tbody tr th {\n        vertical-align: top;\n    }\n\n    .dataframe thead th {\n        text-align: right;\n    }\n</style>\n<table border=\"1\" class=\"dataframe\">\n  <thead>\n    <tr style=\"text-align: right;\">\n      <th></th>\n      <th>Id</th>\n      <th>MSSubClass</th>\n      <th>LotFrontage</th>\n      <th>LotArea</th>\n      <th>OverallQual</th>\n      <th>OverallCond</th>\n      <th>YearBuilt</th>\n      <th>YearRemodAdd</th>\n      <th>MasVnrArea</th>\n      <th>BsmtFinSF1</th>\n      <th>...</th>\n      <th>WoodDeckSF</th>\n      <th>OpenPorchSF</th>\n      <th>EnclosedPorch</th>\n      <th>3SsnPorch</th>\n      <th>ScreenPorch</th>\n      <th>PoolArea</th>\n      <th>MiscVal</th>\n      <th>MoSold</th>\n      <th>YrSold</th>\n      <th>SalePrice</th>\n    </tr>\n  </thead>\n  <tbody>\n    <tr>\n      <th>count</th>\n      <td>1460.000000</td>\n      <td>1460.000000</td>\n      <td>1201.000000</td>\n      <td>1460.000000</td>\n      <td>1460.000000</td>\n      <td>1460.000000</td>\n      <td>1460.000000</td>\n      <td>1460.000000</td>\n      <td>1452.000000</td>\n      <td>1460.000000</td>\n      <td>...</td>\n      <td>1460.000000</td>\n      <td>1460.000000</td>\n      <td>1460.000000</td>\n      <td>1460.000000</td>\n      <td>1460.000000</td>\n      <td>1460.000000</td>\n      <td>1460.000000</td>\n      <td>1460.000000</td>\n      <td>1460.000000</td>\n      <td>1460.000000</td>\n    </tr>\n    <tr>\n      <th>mean</th>\n      <td>730.500000</td>\n      <td>56.897260</td>\n      <td>70.049958</td>\n      <td>10516.828082</td>\n      <td>6.099315</td>\n      <td>5.575342</td>\n      <td>1971.267808</td>\n      <td>1984.865753</td>\n      <td>103.685262</td>\n      <td>443.639726</td>\n      <td>...</td>\n      <td>94.244521</td>\n      <td>46.660274</td>\n      <td>21.954110</td>\n      <td>3.409589</td>\n      <td>15.060959</td>\n      <td>2.758904</td>\n      <td>43.489041</td>\n      <td>6.321918</td>\n      <td>2007.815753</td>\n      <td>180921.195890</td>\n    </tr>\n    <tr>\n      <th>std</th>\n      <td>421.610009</td>\n      <td>42.300571</td>\n      <td>24.284752</td>\n      <td>9981.264932</td>\n      <td>1.382997</td>\n      <td>1.112799</td>\n      <td>30.202904</td>\n      <td>20.645407</td>\n      <td>181.066207</td>\n      <td>456.098091</td>\n      <td>...</td>\n      <td>125.338794</td>\n      <td>66.256028</td>\n      <td>61.119149</td>\n      <td>29.317331</td>\n      <td>55.757415</td>\n      <td>40.177307</td>\n      <td>496.123024</td>\n      <td>2.703626</td>\n      <td>1.328095</td>\n      <td>79442.502883</td>\n    </tr>\n    <tr>\n      <th>min</th>\n      <td>1.000000</td>\n      <td>20.000000</td>\n      <td>21.000000</td>\n      <td>1300.000000</td>\n      <td>1.000000</td>\n      <td>1.000000</td>\n      <td>1872.000000</td>\n      <td>1950.000000</td>\n      <td>0.000000</td>\n      <td>0.000000</td>\n      <td>...</td>\n      <td>0.000000</td>\n      <td>0.000000</td>\n      <td>0.000000</td>\n      <td>0.000000</td>\n      <td>0.000000</td>\n      <td>0.000000</td>\n      <td>0.000000</td>\n      <td>1.000000</td>\n      <td>2006.000000</td>\n      <td>34900.000000</td>\n    </tr>\n    <tr>\n      <th>25%</th>\n      <td>365.750000</td>\n      <td>20.000000</td>\n      <td>59.000000</td>\n      <td>7553.500000</td>\n      <td>5.000000</td>\n      <td>5.000000</td>\n      <td>1954.000000</td>\n      <td>1967.000000</td>\n      <td>0.000000</td>\n      <td>0.000000</td>\n      <td>...</td>\n      <td>0.000000</td>\n      <td>0.000000</td>\n      <td>0.000000</td>\n      <td>0.000000</td>\n      <td>0.000000</td>\n      <td>0.000000</td>\n      <td>0.000000</td>\n      <td>5.000000</td>\n      <td>2007.000000</td>\n      <td>129975.000000</td>\n    </tr>\n    <tr>\n      <th>50%</th>\n      <td>730.500000</td>\n      <td>50.000000</td>\n      <td>69.000000</td>\n      <td>9478.500000</td>\n      <td>6.000000</td>\n      <td>5.000000</td>\n      <td>1973.000000</td>\n      <td>1994.000000</td>\n      <td>0.000000</td>\n      <td>383.500000</td>\n      <td>...</td>\n      <td>0.000000</td>\n      <td>25.000000</td>\n      <td>0.000000</td>\n      <td>0.000000</td>\n      <td>0.000000</td>\n      <td>0.000000</td>\n      <td>0.000000</td>\n      <td>6.000000</td>\n      <td>2008.000000</td>\n      <td>163000.000000</td>\n    </tr>\n    <tr>\n      <th>75%</th>\n      <td>1095.250000</td>\n      <td>70.000000</td>\n      <td>80.000000</td>\n      <td>11601.500000</td>\n      <td>7.000000</td>\n      <td>6.000000</td>\n      <td>2000.000000</td>\n      <td>2004.000000</td>\n      <td>166.000000</td>\n      <td>712.250000</td>\n      <td>...</td>\n      <td>168.000000</td>\n      <td>68.000000</td>\n      <td>0.000000</td>\n      <td>0.000000</td>\n      <td>0.000000</td>\n      <td>0.000000</td>\n      <td>0.000000</td>\n      <td>8.000000</td>\n      <td>2009.000000</td>\n      <td>214000.000000</td>\n    </tr>\n    <tr>\n      <th>max</th>\n      <td>1460.000000</td>\n      <td>190.000000</td>\n      <td>313.000000</td>\n      <td>215245.000000</td>\n      <td>10.000000</td>\n      <td>9.000000</td>\n      <td>2010.000000</td>\n      <td>2010.000000</td>\n      <td>1600.000000</td>\n      <td>5644.000000</td>\n      <td>...</td>\n      <td>857.000000</td>\n      <td>547.000000</td>\n      <td>552.000000</td>\n      <td>508.000000</td>\n      <td>480.000000</td>\n      <td>738.000000</td>\n      <td>15500.000000</td>\n      <td>12.000000</td>\n      <td>2010.000000</td>\n      <td>755000.000000</td>\n    </tr>\n  </tbody>\n</table>\n<p>8 rows × 38 columns</p>\n</div>",
      "text/plain": [
       "                Id   MSSubClass  LotFrontage        LotArea  OverallQual  \\\n",
       "count  1460.000000  1460.000000  1201.000000    1460.000000  1460.000000   \n",
       "mean    730.500000    56.897260    70.049958   10516.828082     6.099315   \n",
       "std     421.610009    42.300571    24.284752    9981.264932     1.382997   \n",
       "min       1.000000    20.000000    21.000000    1300.000000     1.000000   \n",
       "25%     365.750000    20.000000    59.000000    7553.500000     5.000000   \n",
       "50%     730.500000    50.000000    69.000000    9478.500000     6.000000   \n",
       "75%    1095.250000    70.000000    80.000000   11601.500000     7.000000   \n",
       "max    1460.000000   190.000000   313.000000  215245.000000    10.000000   \n",
       "\n",
       "       OverallCond    YearBuilt  YearRemodAdd   MasVnrArea   BsmtFinSF1  ...  \\\n",
       "count  1460.000000  1460.000000   1460.000000  1452.000000  1460.000000  ...   \n",
       "mean      5.575342  1971.267808   1984.865753   103.685262   443.639726  ...   \n",
       "std       1.112799    30.202904     20.645407   181.066207   456.098091  ...   \n",
       "min       1.000000  1872.000000   1950.000000     0.000000     0.000000  ...   \n",
       "25%       5.000000  1954.000000   1967.000000     0.000000     0.000000  ...   \n",
       "50%       5.000000  1973.000000   1994.000000     0.000000   383.500000  ...   \n",
       "75%       6.000000  2000.000000   2004.000000   166.000000   712.250000  ...   \n",
       "max       9.000000  2010.000000   2010.000000  1600.000000  5644.000000  ...   \n",
       "\n",
       "        WoodDeckSF  OpenPorchSF  EnclosedPorch    3SsnPorch  ScreenPorch  \\\n",
       "count  1460.000000  1460.000000    1460.000000  1460.000000  1460.000000   \n",
       "mean     94.244521    46.660274      21.954110     3.409589    15.060959   \n",
       "std     125.338794    66.256028      61.119149    29.317331    55.757415   \n",
       "min       0.000000     0.000000       0.000000     0.000000     0.000000   \n",
       "25%       0.000000     0.000000       0.000000     0.000000     0.000000   \n",
       "50%       0.000000    25.000000       0.000000     0.000000     0.000000   \n",
       "75%     168.000000    68.000000       0.000000     0.000000     0.000000   \n",
       "max     857.000000   547.000000     552.000000   508.000000   480.000000   \n",
       "\n",
       "          PoolArea       MiscVal       MoSold       YrSold      SalePrice  \n",
       "count  1460.000000   1460.000000  1460.000000  1460.000000    1460.000000  \n",
       "mean      2.758904     43.489041     6.321918  2007.815753  180921.195890  \n",
       "std      40.177307    496.123024     2.703626     1.328095   79442.502883  \n",
       "min       0.000000      0.000000     1.000000  2006.000000   34900.000000  \n",
       "25%       0.000000      0.000000     5.000000  2007.000000  129975.000000  \n",
       "50%       0.000000      0.000000     6.000000  2008.000000  163000.000000  \n",
       "75%       0.000000      0.000000     8.000000  2009.000000  214000.000000  \n",
       "max     738.000000  15500.000000    12.000000  2010.000000  755000.000000  \n",
       "\n",
       "[8 rows x 38 columns]"
      ]
     },
     "metadata": {},
     "execution_count": 4
    }
   ],
   "source": [
    "df.describe()"
   ]
  },
  {
   "cell_type": "code",
   "execution_count": 5,
   "metadata": {},
   "outputs": [
    {
     "output_type": "execute_result",
     "data": {
      "text/plain": [
       "Id                 int64\n",
       "MSSubClass         int64\n",
       "MSZoning          object\n",
       "LotFrontage      float64\n",
       "LotArea            int64\n",
       "Street            object\n",
       "Alley             object\n",
       "LotShape          object\n",
       "LandContour       object\n",
       "Utilities         object\n",
       "LotConfig         object\n",
       "LandSlope         object\n",
       "Neighborhood      object\n",
       "Condition1        object\n",
       "Condition2        object\n",
       "BldgType          object\n",
       "HouseStyle        object\n",
       "OverallQual        int64\n",
       "OverallCond        int64\n",
       "YearBuilt          int64\n",
       "YearRemodAdd       int64\n",
       "RoofStyle         object\n",
       "RoofMatl          object\n",
       "Exterior1st       object\n",
       "Exterior2nd       object\n",
       "MasVnrType        object\n",
       "MasVnrArea       float64\n",
       "ExterQual         object\n",
       "ExterCond         object\n",
       "Foundation        object\n",
       "                  ...   \n",
       "BedroomAbvGr       int64\n",
       "KitchenAbvGr       int64\n",
       "KitchenQual       object\n",
       "TotRmsAbvGrd       int64\n",
       "Functional        object\n",
       "Fireplaces         int64\n",
       "FireplaceQu       object\n",
       "GarageType        object\n",
       "GarageYrBlt      float64\n",
       "GarageFinish      object\n",
       "GarageCars         int64\n",
       "GarageArea         int64\n",
       "GarageQual        object\n",
       "GarageCond        object\n",
       "PavedDrive        object\n",
       "WoodDeckSF         int64\n",
       "OpenPorchSF        int64\n",
       "EnclosedPorch      int64\n",
       "3SsnPorch          int64\n",
       "ScreenPorch        int64\n",
       "PoolArea           int64\n",
       "PoolQC            object\n",
       "Fence             object\n",
       "MiscFeature       object\n",
       "MiscVal            int64\n",
       "MoSold             int64\n",
       "YrSold             int64\n",
       "SaleType          object\n",
       "SaleCondition     object\n",
       "SalePrice          int64\n",
       "Length: 81, dtype: object"
      ]
     },
     "metadata": {},
     "execution_count": 5
    }
   ],
   "source": [
    "df.dtypes"
   ]
  },
  {
   "cell_type": "code",
   "execution_count": 6,
   "metadata": {},
   "outputs": [
    {
     "output_type": "execute_result",
     "data": {
      "text/plain": [
       "Index([u'MSZoning', u'Street', u'Alley', u'LotShape', u'LandContour',\n",
       "       u'Utilities', u'LotConfig', u'LandSlope', u'Neighborhood',\n",
       "       u'Condition1', u'Condition2', u'BldgType', u'HouseStyle', u'RoofStyle',\n",
       "       u'RoofMatl', u'Exterior1st', u'Exterior2nd', u'MasVnrType',\n",
       "       u'ExterQual', u'ExterCond', u'Foundation', u'BsmtQual', u'BsmtCond',\n",
       "       u'BsmtExposure', u'BsmtFinType1', u'BsmtFinType2', u'Heating',\n",
       "       u'HeatingQC', u'CentralAir', u'Electrical', u'KitchenQual',\n",
       "       u'Functional', u'FireplaceQu', u'GarageType', u'GarageFinish',\n",
       "       u'GarageQual', u'GarageCond', u'PavedDrive', u'PoolQC', u'Fence',\n",
       "       u'MiscFeature', u'SaleType', u'SaleCondition'],\n",
       "      dtype='object')"
      ]
     },
     "metadata": {},
     "execution_count": 6
    }
   ],
   "source": [
    "df.columns[df.dtypes == 'object']"
   ]
  },
  {
   "cell_type": "code",
   "execution_count": 7,
   "metadata": {},
   "outputs": [
    {
     "output_type": "execute_result",
     "data": {
      "text/html": "<div>\n<style scoped>\n    .dataframe tbody tr th:only-of-type {\n        vertical-align: middle;\n    }\n\n    .dataframe tbody tr th {\n        vertical-align: top;\n    }\n\n    .dataframe thead th {\n        text-align: right;\n    }\n</style>\n<table border=\"1\" class=\"dataframe\">\n  <thead>\n    <tr style=\"text-align: right;\">\n      <th></th>\n      <th>Id</th>\n      <th>MSSubClass</th>\n      <th>LotFrontage</th>\n      <th>LotArea</th>\n      <th>OverallQual</th>\n      <th>OverallCond</th>\n      <th>YearBuilt</th>\n      <th>YearRemodAdd</th>\n      <th>MasVnrArea</th>\n      <th>BsmtFinSF1</th>\n      <th>...</th>\n      <th>SaleType_ConLw</th>\n      <th>SaleType_New</th>\n      <th>SaleType_Oth</th>\n      <th>SaleType_WD</th>\n      <th>SaleCondition_Abnorml</th>\n      <th>SaleCondition_AdjLand</th>\n      <th>SaleCondition_Alloca</th>\n      <th>SaleCondition_Family</th>\n      <th>SaleCondition_Normal</th>\n      <th>SaleCondition_Partial</th>\n    </tr>\n  </thead>\n  <tbody>\n    <tr>\n      <th>1248</th>\n      <td>1249</td>\n      <td>75</td>\n      <td>60.0</td>\n      <td>9600</td>\n      <td>6</td>\n      <td>5</td>\n      <td>1917</td>\n      <td>1950</td>\n      <td>0.0</td>\n      <td>319</td>\n      <td>...</td>\n      <td>0</td>\n      <td>0</td>\n      <td>0</td>\n      <td>1</td>\n      <td>0</td>\n      <td>0</td>\n      <td>0</td>\n      <td>0</td>\n      <td>1</td>\n      <td>0</td>\n    </tr>\n    <tr>\n      <th>2</th>\n      <td>3</td>\n      <td>60</td>\n      <td>68.0</td>\n      <td>11250</td>\n      <td>7</td>\n      <td>5</td>\n      <td>2001</td>\n      <td>2002</td>\n      <td>162.0</td>\n      <td>486</td>\n      <td>...</td>\n      <td>0</td>\n      <td>0</td>\n      <td>0</td>\n      <td>1</td>\n      <td>0</td>\n      <td>0</td>\n      <td>0</td>\n      <td>0</td>\n      <td>1</td>\n      <td>0</td>\n    </tr>\n    <tr>\n      <th>354</th>\n      <td>355</td>\n      <td>50</td>\n      <td>60.0</td>\n      <td>8400</td>\n      <td>6</td>\n      <td>5</td>\n      <td>1940</td>\n      <td>2000</td>\n      <td>0.0</td>\n      <td>388</td>\n      <td>...</td>\n      <td>0</td>\n      <td>0</td>\n      <td>0</td>\n      <td>1</td>\n      <td>0</td>\n      <td>0</td>\n      <td>0</td>\n      <td>0</td>\n      <td>1</td>\n      <td>0</td>\n    </tr>\n    <tr>\n      <th>1140</th>\n      <td>1141</td>\n      <td>20</td>\n      <td>60.0</td>\n      <td>7350</td>\n      <td>5</td>\n      <td>7</td>\n      <td>1951</td>\n      <td>1951</td>\n      <td>0.0</td>\n      <td>852</td>\n      <td>...</td>\n      <td>0</td>\n      <td>0</td>\n      <td>0</td>\n      <td>0</td>\n      <td>1</td>\n      <td>0</td>\n      <td>0</td>\n      <td>0</td>\n      <td>0</td>\n      <td>0</td>\n    </tr>\n    <tr>\n      <th>1172</th>\n      <td>1173</td>\n      <td>160</td>\n      <td>35.0</td>\n      <td>4017</td>\n      <td>7</td>\n      <td>5</td>\n      <td>2006</td>\n      <td>2007</td>\n      <td>0.0</td>\n      <td>0</td>\n      <td>...</td>\n      <td>0</td>\n      <td>0</td>\n      <td>0</td>\n      <td>1</td>\n      <td>0</td>\n      <td>0</td>\n      <td>0</td>\n      <td>0</td>\n      <td>1</td>\n      <td>0</td>\n    </tr>\n    <tr>\n      <th>241</th>\n      <td>242</td>\n      <td>30</td>\n      <td>40.0</td>\n      <td>3880</td>\n      <td>5</td>\n      <td>9</td>\n      <td>1945</td>\n      <td>1997</td>\n      <td>0.0</td>\n      <td>329</td>\n      <td>...</td>\n      <td>0</td>\n      <td>0</td>\n      <td>0</td>\n      <td>1</td>\n      <td>0</td>\n      <td>0</td>\n      <td>0</td>\n      <td>0</td>\n      <td>1</td>\n      <td>0</td>\n    </tr>\n    <tr>\n      <th>365</th>\n      <td>366</td>\n      <td>70</td>\n      <td>59.0</td>\n      <td>10690</td>\n      <td>5</td>\n      <td>7</td>\n      <td>1920</td>\n      <td>1997</td>\n      <td>0.0</td>\n      <td>456</td>\n      <td>...</td>\n      <td>0</td>\n      <td>0</td>\n      <td>0</td>\n      <td>1</td>\n      <td>0</td>\n      <td>0</td>\n      <td>0</td>\n      <td>0</td>\n      <td>1</td>\n      <td>0</td>\n    </tr>\n    <tr>\n      <th>559</th>\n      <td>560</td>\n      <td>120</td>\n      <td>NaN</td>\n      <td>3196</td>\n      <td>7</td>\n      <td>5</td>\n      <td>2003</td>\n      <td>2004</td>\n      <td>18.0</td>\n      <td>0</td>\n      <td>...</td>\n      <td>0</td>\n      <td>0</td>\n      <td>0</td>\n      <td>1</td>\n      <td>0</td>\n      <td>0</td>\n      <td>0</td>\n      <td>0</td>\n      <td>1</td>\n      <td>0</td>\n    </tr>\n    <tr>\n      <th>1293</th>\n      <td>1294</td>\n      <td>60</td>\n      <td>78.0</td>\n      <td>10140</td>\n      <td>7</td>\n      <td>5</td>\n      <td>1976</td>\n      <td>1976</td>\n      <td>0.0</td>\n      <td>194</td>\n      <td>...</td>\n      <td>0</td>\n      <td>0</td>\n      <td>0</td>\n      <td>1</td>\n      <td>0</td>\n      <td>0</td>\n      <td>0</td>\n      <td>0</td>\n      <td>1</td>\n      <td>0</td>\n    </tr>\n    <tr>\n      <th>1399</th>\n      <td>1400</td>\n      <td>50</td>\n      <td>51.0</td>\n      <td>6171</td>\n      <td>6</td>\n      <td>6</td>\n      <td>1925</td>\n      <td>1990</td>\n      <td>0.0</td>\n      <td>264</td>\n      <td>...</td>\n      <td>0</td>\n      <td>0</td>\n      <td>0</td>\n      <td>1</td>\n      <td>0</td>\n      <td>0</td>\n      <td>0</td>\n      <td>0</td>\n      <td>1</td>\n      <td>0</td>\n    </tr>\n  </tbody>\n</table>\n<p>10 rows × 290 columns</p>\n</div>",
      "text/plain": [
       "        Id  MSSubClass  LotFrontage  LotArea  OverallQual  OverallCond  \\\n",
       "1248  1249          75         60.0     9600            6            5   \n",
       "2        3          60         68.0    11250            7            5   \n",
       "354    355          50         60.0     8400            6            5   \n",
       "1140  1141          20         60.0     7350            5            7   \n",
       "1172  1173         160         35.0     4017            7            5   \n",
       "241    242          30         40.0     3880            5            9   \n",
       "365    366          70         59.0    10690            5            7   \n",
       "559    560         120          NaN     3196            7            5   \n",
       "1293  1294          60         78.0    10140            7            5   \n",
       "1399  1400          50         51.0     6171            6            6   \n",
       "\n",
       "      YearBuilt  YearRemodAdd  MasVnrArea  BsmtFinSF1  ...  SaleType_ConLw  \\\n",
       "1248       1917          1950         0.0         319  ...               0   \n",
       "2          2001          2002       162.0         486  ...               0   \n",
       "354        1940          2000         0.0         388  ...               0   \n",
       "1140       1951          1951         0.0         852  ...               0   \n",
       "1172       2006          2007         0.0           0  ...               0   \n",
       "241        1945          1997         0.0         329  ...               0   \n",
       "365        1920          1997         0.0         456  ...               0   \n",
       "559        2003          2004        18.0           0  ...               0   \n",
       "1293       1976          1976         0.0         194  ...               0   \n",
       "1399       1925          1990         0.0         264  ...               0   \n",
       "\n",
       "      SaleType_New  SaleType_Oth  SaleType_WD  SaleCondition_Abnorml  \\\n",
       "1248             0             0            1                      0   \n",
       "2                0             0            1                      0   \n",
       "354              0             0            1                      0   \n",
       "1140             0             0            0                      1   \n",
       "1172             0             0            1                      0   \n",
       "241              0             0            1                      0   \n",
       "365              0             0            1                      0   \n",
       "559              0             0            1                      0   \n",
       "1293             0             0            1                      0   \n",
       "1399             0             0            1                      0   \n",
       "\n",
       "      SaleCondition_AdjLand  SaleCondition_Alloca  SaleCondition_Family  \\\n",
       "1248                      0                     0                     0   \n",
       "2                         0                     0                     0   \n",
       "354                       0                     0                     0   \n",
       "1140                      0                     0                     0   \n",
       "1172                      0                     0                     0   \n",
       "241                       0                     0                     0   \n",
       "365                       0                     0                     0   \n",
       "559                       0                     0                     0   \n",
       "1293                      0                     0                     0   \n",
       "1399                      0                     0                     0   \n",
       "\n",
       "      SaleCondition_Normal  SaleCondition_Partial  \n",
       "1248                     1                      0  \n",
       "2                        1                      0  \n",
       "354                      1                      0  \n",
       "1140                     0                      0  \n",
       "1172                     1                      0  \n",
       "241                      1                      0  \n",
       "365                      1                      0  \n",
       "559                      1                      0  \n",
       "1293                     1                      0  \n",
       "1399                     1                      0  \n",
       "\n",
       "[10 rows x 290 columns]"
      ]
     },
     "metadata": {},
     "execution_count": 7
    }
   ],
   "source": [
    "# Dealing with multiple categorical columns\n",
    "categorical_columns = ['MSZoning', 'Street', 'Alley', 'LotShape', 'LandContour',\n",
    "       'Utilities', 'LotConfig', 'LandSlope', 'Neighborhood',\n",
    "       'Condition1', 'Condition2', 'BldgType', 'HouseStyle', 'RoofStyle',\n",
    "       'RoofMatl', 'Exterior1st', 'Exterior2nd', 'MasVnrType',\n",
    "       'ExterQual', 'ExterCond', 'Foundation', 'BsmtQual', 'BsmtCond',\n",
    "       'BsmtExposure', 'BsmtFinType1', 'BsmtFinType2', 'Heating',\n",
    "       'HeatingQC', 'CentralAir', 'Electrical', 'KitchenQual',\n",
    "       'Functional', 'FireplaceQu', 'GarageType', 'GarageFinish',\n",
    "       'GarageQual', 'GarageCond', 'PavedDrive', 'PoolQC', 'Fence',\n",
    "       'MiscFeature', 'SaleType', 'SaleCondition']\n",
    "\n",
    "df_dummies = pd.get_dummies(df, columns = categorical_columns)\n",
    "df_dummies.sample(10)"
   ]
  },
  {
   "cell_type": "code",
   "execution_count": 8,
   "metadata": {},
   "outputs": [],
   "source": [
    "X = df_dummies.loc[:, df_dummies.columns != \"SalePrice\"]\n",
    "y = df_dummies[\"SalePrice\"]"
   ]
  },
  {
   "cell_type": "code",
   "execution_count": 9,
   "metadata": {},
   "outputs": [
    {
     "output_type": "stream",
     "name": "stderr",
     "text": [
      "/home/kaustav/.local/lib/python2.7/site-packages/sklearn/model_selection/_split.py:2178: FutureWarning: From version 0.21, test_size will always complement train_size unless both are specified.\n  FutureWarning)\n"
     ]
    },
    {
     "output_type": "execute_result",
     "data": {
      "text/plain": [
       "((1241, 289), (219, 289), (1241,), (219,))"
      ]
     },
     "metadata": {},
     "execution_count": 9
    }
   ],
   "source": [
    "X_train, X_val, y_train, y_val = train_test_split(X, y, train_size=0.85, random_state=42)\n",
    "X_train.shape, X_val.shape, y_train.shape, y_val.shape"
   ]
  },
  {
   "source": [
    "## Fill NaN values with mean only after train_test_split to prevent data leakage"
   ],
   "cell_type": "markdown",
   "metadata": {}
  },
  {
   "cell_type": "code",
   "execution_count": 10,
   "metadata": {},
   "outputs": [
    {
     "output_type": "stream",
     "name": "stderr",
     "text": [
      "/home/kaustav/.local/lib/python2.7/site-packages/pandas/core/generic.py:6130: SettingWithCopyWarning: \nA value is trying to be set on a copy of a slice from a DataFrame\n\nSee the caveats in the documentation: http://pandas.pydata.org/pandas-docs/stable/indexing.html#indexing-view-versus-copy\n  self._update_inplace(new_data)\n"
     ]
    }
   ],
   "source": [
    "X_train.fillna(X_train.mean() , inplace = True)\n",
    "X_val.fillna(X_val.mean() , inplace = True) "
   ]
  },
  {
   "cell_type": "code",
   "execution_count": 11,
   "metadata": {},
   "outputs": [
    {
     "output_type": "execute_result",
     "data": {
      "text/plain": [
       "(Index([], dtype='object'), Index([], dtype='object'))"
      ]
     },
     "metadata": {},
     "execution_count": 11
    }
   ],
   "source": [
    "X_train.columns[X_train.isnull().sum() > 0 ] , X_val.columns[X_val.isnull().sum() > 0 ]"
   ]
  },
  {
   "cell_type": "code",
   "execution_count": 12,
   "metadata": {},
   "outputs": [
    {
     "output_type": "stream",
     "name": "stdout",
     "text": [
      "('Simple Linear Regressor', 0.9394600229747782)\n"
     ]
    }
   ],
   "source": [
    "lin_reg = LinearRegression()\n",
    "lin_reg.fit(X_train,y_train)\n",
    "print(\"Simple Linear Regressor\" , lin_reg.score(X_train,y_train))"
   ]
  },
  {
   "cell_type": "code",
   "execution_count": 13,
   "metadata": {},
   "outputs": [
    {
     "output_type": "stream",
     "name": "stdout",
     "text": [
      "3469.0216757554736\n[ 4.45756194e-01 -6.95181060e+00  1.80881775e+01  8.81321481e-01\n  7.58272546e+03  4.78795609e+03  3.22759693e+02  1.30811743e+02\n  2.05584423e+01  1.73959635e+01  3.78023883e+00  1.12183402e+00\n  2.22981597e+01  5.14110547e+00  2.34731612e+01  4.16502411e+00\n  3.27797984e+01  2.12648368e+03  9.23560050e+02  3.01006557e+03\n  2.38625482e+03 -3.07943643e+03 -1.24994245e+04  1.90706141e+03\n  3.57438945e+03 -7.39326069e+01  7.44963066e+02  3.48729642e+01\n  1.95468880e+01 -9.18099440e-01  1.25446986e+01  3.50173122e+01\n  4.33809659e+01  6.44389973e+03  2.37326488e+00 -4.09298313e+02\n -3.39383774e+02 -1.69045772e+04  1.08974767e+04  3.99961532e+02\n  2.16747784e+03  3.43966113e+03 -1.64588982e+04  1.64588982e+04\n  2.95138859e+03  3.77396353e+03 -3.66848847e+03  2.48937792e+03\n  1.98237404e+03 -8.03263488e+02 -1.08863808e+03  9.13868412e+03\n -1.09055204e+04  2.85547431e+03  2.11249527e+04 -2.11249527e+04\n  4.35757722e+03  1.50260387e+04 -1.02496883e+03 -2.20139796e+04\n  3.65533250e+03  2.01704264e+04  2.70214489e+04 -4.71918754e+04\n  7.49682009e+03  3.78247507e+03  4.36368002e+02 -1.60230209e+03\n -8.20610559e+03 -5.02768873e+03  1.28119999e+04 -1.62757300e+04\n -6.20247171e+03 -1.55101578e+04 -8.20170808e+03 -1.69374728e+04\n -1.22078084e+04  1.81583686e+04 -1.46601205e+04  2.14460936e+04\n  2.65038447e+04 -1.51935476e+04 -4.78374503e+03 -5.84483738e+03\n -7.40440328e+02  1.88012152e+02  3.86584495e+04 -4.93166921e+03\n  6.84337367e+03 -6.47017191e+03 -4.08371602e+01  8.13668791e+03\n  3.12902077e+03  9.35570452e+03 -2.39495944e+04  8.12673112e+03\n -8.43575738e+03  1.01482165e+04  4.52831689e+04  4.33280791e+04\n  3.61534868e+04  8.16866548e+04 -1.93252817e+05 -8.10275924e+04\n  3.14882509e+04  3.63407690e+04  1.36310634e+04  4.99837489e+03\n  2.92759993e+02 -1.08031167e+04 -8.11908159e+03  2.26810730e+03\n  1.40064077e+04  7.88869934e+03 -2.17953526e+04 -3.57869423e+03\n -3.48342379e+03 -2.55706152e+01  4.71982694e+03 -2.11195336e+04\n -2.00263570e+04 -1.51550311e+04 -2.05484118e+04 -6.29146991e+03\n  8.31408035e+04  8.22147762e+05 -1.47413560e+05 -6.60656951e-08\n -7.45399427e+04 -1.50950005e+05 -1.46175619e+05 -1.59051559e+05\n -1.44017076e+05  9.20649353e+03 -2.56391607e+03  8.18935714e+03\n  1.55765976e+04 -1.15677070e+03 -1.02010448e+04 -3.28199193e+03\n -3.43971264e+03  2.50645341e+03 -1.71742843e+03  1.33233131e+04\n -5.71030501e+03 -5.40447147e+03 -9.89396910e+03 -5.43260465e+03\n -6.29007360e+03 -9.07995175e+01 -5.75583423e+03  6.70205505e+03\n -1.15677070e+03  1.34708011e+04  7.52250405e+02  4.46242351e+03\n -1.30260215e+03 -2.25355395e+04 -1.57949371e+03 -1.29527118e+04\n  9.86814507e+03  5.13071274e+03  9.49512992e+03  1.78230741e+03\n -9.06371675e+03  1.58483483e+02  2.98899594e+03  2.70098833e+03\n  1.46155717e+04 -9.37643753e+02 -6.85236742e+03 -6.82556056e+03\n  7.56432011e+02 -3.80683521e+03 -5.30199739e+03  1.34402433e+04\n -5.08784272e+03  1.44408493e+03  5.11406083e+03  8.30433065e+03\n -6.13964735e+03  1.24188629e+04 -2.11416920e+04  9.34932171e+03\n -1.10462621e+03 -7.61946588e+03 -5.12357302e+03 -2.67050665e+04\n -2.52451600e+04  6.79750610e+04 -2.05231779e+04  1.15867346e+04\n  2.65017437e+04  9.94904643e+03  7.76002083e+03 -1.49341246e+03\n -9.01397879e+02  2.75467565e+03 -4.08121528e+03 -1.34359778e+03\n  5.66604342e+02  7.10370994e+03 -3.33363961e+03  2.61451396e+03\n -6.64991667e+03 -8.09150511e+02 -3.42386051e+03  2.07898750e+03\n  3.90926432e+03 -2.71838051e+03 -3.88818461e+03 -2.13719243e+04\n  2.19902376e+04 -3.03485545e+03 -6.11634427e+01 -5.73501914e+03\n  1.30595975e+04 -4.22855947e+03 -6.14723539e+02  6.14723538e+02\n -1.25011801e+04 -1.50301697e+04 -2.39678998e+04  3.63797881e-11\n -1.45104921e+04  1.22441811e+04 -3.20492443e+02 -5.92416770e+03\n -5.99952092e+03  9.33138170e+03 -4.40094091e+03  9.07802631e+03\n  1.28512383e+04 -8.61817785e+02 -4.67093603e+04  2.07114727e+04\n -3.04806972e+03 -6.12151021e+03 -2.04404825e+03  4.82381526e+02\n  3.79395136e+01 -2.61534215e+04 -2.34505566e+03  2.73215387e+03\n -3.37612924e+03  1.03926025e+04 -3.07037922e+02 -5.46699744e+03\n -7.97422263e+03 -5.61566790e+03  1.28015017e+05 -3.57959084e+04\n -2.89908834e+04 -5.22688663e+04 -3.00162471e+04 -1.25986601e+05\n  2.54086170e+04  2.50952467e+04  3.01196214e+04  2.63062280e+04\n  3.03178808e+03 -3.70956989e+03  6.77781817e+02 -3.33055025e+06\n -4.14639519e+06 -4.68899529e+06 -6.79764449e+03 -7.95895480e+02\n  1.54842520e+03 -6.95183927e+03 -3.71208021e+04  6.07118794e+03\n -6.09163717e+02  7.70064167e+05 -9.09467632e+03  8.92585228e+03\n  1.09268410e+04  6.69107999e+03 -9.03001936e+03 -1.20616006e+04\n  4.71862207e+03  8.69369080e+03 -9.76978986e+03 -7.15146787e+03\n  4.61610358e+03  8.57938515e+03 -5.68716115e+03 -5.60389304e+02\n  2.03529582e+02]\n"
     ]
    }
   ],
   "source": [
    "print(lin_reg.intercept_) \n",
    "print(lin_reg.coef_) "
   ]
  },
  {
   "cell_type": "code",
   "execution_count": 14,
   "metadata": {},
   "outputs": [
    {
     "output_type": "execute_result",
     "data": {
      "text/html": "<div>\n<style scoped>\n    .dataframe tbody tr th:only-of-type {\n        vertical-align: middle;\n    }\n\n    .dataframe tbody tr th {\n        vertical-align: top;\n    }\n\n    .dataframe thead th {\n        text-align: right;\n    }\n</style>\n<table border=\"1\" class=\"dataframe\">\n  <thead>\n    <tr style=\"text-align: right;\">\n      <th></th>\n      <th>Actual</th>\n      <th>Predicted</th>\n    </tr>\n  </thead>\n  <tbody>\n    <tr>\n      <th>1347</th>\n      <td>283463</td>\n      <td>294304.292842</td>\n    </tr>\n    <tr>\n      <th>429</th>\n      <td>175000</td>\n      <td>195690.387128</td>\n    </tr>\n    <tr>\n      <th>218</th>\n      <td>311500</td>\n      <td>240960.371409</td>\n    </tr>\n    <tr>\n      <th>1053</th>\n      <td>144500</td>\n      <td>156306.805748</td>\n    </tr>\n    <tr>\n      <th>271</th>\n      <td>241500</td>\n      <td>281480.020647</td>\n    </tr>\n    <tr>\n      <th>1317</th>\n      <td>208900</td>\n      <td>199671.279403</td>\n    </tr>\n    <tr>\n      <th>836</th>\n      <td>153500</td>\n      <td>163147.444570</td>\n    </tr>\n    <tr>\n      <th>796</th>\n      <td>143500</td>\n      <td>146874.287803</td>\n    </tr>\n    <tr>\n      <th>1138</th>\n      <td>196000</td>\n      <td>235224.750364</td>\n    </tr>\n    <tr>\n      <th>1006</th>\n      <td>163500</td>\n      <td>188289.127369</td>\n    </tr>\n    <tr>\n      <th>1306</th>\n      <td>202500</td>\n      <td>205578.216855</td>\n    </tr>\n    <tr>\n      <th>736</th>\n      <td>93500</td>\n      <td>45505.548943</td>\n    </tr>\n    <tr>\n      <th>1102</th>\n      <td>135000</td>\n      <td>120053.038323</td>\n    </tr>\n    <tr>\n      <th>585</th>\n      <td>369900</td>\n      <td>337799.940127</td>\n    </tr>\n    <tr>\n      <th>67</th>\n      <td>226000</td>\n      <td>214641.454652</td>\n    </tr>\n  </tbody>\n</table>\n</div>",
      "text/plain": [
       "      Actual      Predicted\n",
       "1347  283463  294304.292842\n",
       "429   175000  195690.387128\n",
       "218   311500  240960.371409\n",
       "1053  144500  156306.805748\n",
       "271   241500  281480.020647\n",
       "1317  208900  199671.279403\n",
       "836   153500  163147.444570\n",
       "796   143500  146874.287803\n",
       "1138  196000  235224.750364\n",
       "1006  163500  188289.127369\n",
       "1306  202500  205578.216855\n",
       "736    93500   45505.548943\n",
       "1102  135000  120053.038323\n",
       "585   369900  337799.940127\n",
       "67    226000  214641.454652"
      ]
     },
     "metadata": {},
     "execution_count": 14
    }
   ],
   "source": [
    "y_pred = lin_reg.predict(X_val)\n",
    "df_compare = pd.DataFrame({'Actual': y_val, 'Predicted': y_pred})\n",
    "df_compare.sample(15)"
   ]
  },
  {
   "cell_type": "code",
   "execution_count": 38,
   "metadata": {},
   "outputs": [
    {
     "output_type": "execute_result",
     "data": {
      "text/html": "<div>\n<style scoped>\n    .dataframe tbody tr th:only-of-type {\n        vertical-align: middle;\n    }\n\n    .dataframe tbody tr th {\n        vertical-align: top;\n    }\n\n    .dataframe thead th {\n        text-align: right;\n    }\n</style>\n<table border=\"1\" class=\"dataframe\">\n  <thead>\n    <tr style=\"text-align: right;\">\n      <th></th>\n      <th>Id</th>\n      <th>MSSubClass</th>\n      <th>MSZoning</th>\n      <th>LotFrontage</th>\n      <th>LotArea</th>\n      <th>Street</th>\n      <th>Alley</th>\n      <th>LotShape</th>\n      <th>LandContour</th>\n      <th>Utilities</th>\n      <th>...</th>\n      <th>ScreenPorch</th>\n      <th>PoolArea</th>\n      <th>PoolQC</th>\n      <th>Fence</th>\n      <th>MiscFeature</th>\n      <th>MiscVal</th>\n      <th>MoSold</th>\n      <th>YrSold</th>\n      <th>SaleType</th>\n      <th>SaleCondition</th>\n    </tr>\n  </thead>\n  <tbody>\n    <tr>\n      <th>1427</th>\n      <td>2888</td>\n      <td>50</td>\n      <td>RM</td>\n      <td>50.0</td>\n      <td>7000</td>\n      <td>Pave</td>\n      <td>NaN</td>\n      <td>Reg</td>\n      <td>Lvl</td>\n      <td>AllPub</td>\n      <td>...</td>\n      <td>0</td>\n      <td>0</td>\n      <td>NaN</td>\n      <td>MnPrv</td>\n      <td>NaN</td>\n      <td>0</td>\n      <td>5</td>\n      <td>2006</td>\n      <td>WD</td>\n      <td>Normal</td>\n    </tr>\n    <tr>\n      <th>764</th>\n      <td>2225</td>\n      <td>90</td>\n      <td>RL</td>\n      <td>76.0</td>\n      <td>10260</td>\n      <td>Pave</td>\n      <td>NaN</td>\n      <td>Reg</td>\n      <td>Lvl</td>\n      <td>AllPub</td>\n      <td>...</td>\n      <td>0</td>\n      <td>0</td>\n      <td>NaN</td>\n      <td>NaN</td>\n      <td>NaN</td>\n      <td>0</td>\n      <td>11</td>\n      <td>2008</td>\n      <td>WD</td>\n      <td>Abnorml</td>\n    </tr>\n    <tr>\n      <th>111</th>\n      <td>1572</td>\n      <td>20</td>\n      <td>RL</td>\n      <td>75.0</td>\n      <td>9525</td>\n      <td>Pave</td>\n      <td>NaN</td>\n      <td>Reg</td>\n      <td>Lvl</td>\n      <td>AllPub</td>\n      <td>...</td>\n      <td>0</td>\n      <td>0</td>\n      <td>NaN</td>\n      <td>NaN</td>\n      <td>NaN</td>\n      <td>0</td>\n      <td>6</td>\n      <td>2010</td>\n      <td>WD</td>\n      <td>Normal</td>\n    </tr>\n    <tr>\n      <th>519</th>\n      <td>1980</td>\n      <td>120</td>\n      <td>RL</td>\n      <td>135.0</td>\n      <td>12304</td>\n      <td>Pave</td>\n      <td>NaN</td>\n      <td>IR3</td>\n      <td>Lvl</td>\n      <td>AllPub</td>\n      <td>...</td>\n      <td>0</td>\n      <td>0</td>\n      <td>NaN</td>\n      <td>NaN</td>\n      <td>NaN</td>\n      <td>0</td>\n      <td>6</td>\n      <td>2008</td>\n      <td>WD</td>\n      <td>Normal</td>\n    </tr>\n    <tr>\n      <th>658</th>\n      <td>2119</td>\n      <td>45</td>\n      <td>RM</td>\n      <td>50.0</td>\n      <td>5000</td>\n      <td>Pave</td>\n      <td>NaN</td>\n      <td>Reg</td>\n      <td>Bnk</td>\n      <td>AllPub</td>\n      <td>...</td>\n      <td>0</td>\n      <td>0</td>\n      <td>NaN</td>\n      <td>NaN</td>\n      <td>NaN</td>\n      <td>0</td>\n      <td>4</td>\n      <td>2008</td>\n      <td>WD</td>\n      <td>Normal</td>\n    </tr>\n    <tr>\n      <th>27</th>\n      <td>1488</td>\n      <td>20</td>\n      <td>RL</td>\n      <td>73.0</td>\n      <td>8987</td>\n      <td>Pave</td>\n      <td>NaN</td>\n      <td>Reg</td>\n      <td>Lvl</td>\n      <td>AllPub</td>\n      <td>...</td>\n      <td>0</td>\n      <td>0</td>\n      <td>NaN</td>\n      <td>NaN</td>\n      <td>NaN</td>\n      <td>0</td>\n      <td>5</td>\n      <td>2010</td>\n      <td>WD</td>\n      <td>Normal</td>\n    </tr>\n    <tr>\n      <th>830</th>\n      <td>2291</td>\n      <td>60</td>\n      <td>RL</td>\n      <td>110.0</td>\n      <td>13440</td>\n      <td>Pave</td>\n      <td>NaN</td>\n      <td>Reg</td>\n      <td>Lvl</td>\n      <td>AllPub</td>\n      <td>...</td>\n      <td>0</td>\n      <td>0</td>\n      <td>NaN</td>\n      <td>NaN</td>\n      <td>NaN</td>\n      <td>0</td>\n      <td>3</td>\n      <td>2007</td>\n      <td>New</td>\n      <td>Partial</td>\n    </tr>\n    <tr>\n      <th>94</th>\n      <td>1555</td>\n      <td>20</td>\n      <td>RL</td>\n      <td>100.0</td>\n      <td>15263</td>\n      <td>Pave</td>\n      <td>NaN</td>\n      <td>IR1</td>\n      <td>Lvl</td>\n      <td>AllPub</td>\n      <td>...</td>\n      <td>0</td>\n      <td>0</td>\n      <td>NaN</td>\n      <td>NaN</td>\n      <td>NaN</td>\n      <td>0</td>\n      <td>5</td>\n      <td>2010</td>\n      <td>WD</td>\n      <td>Normal</td>\n    </tr>\n    <tr>\n      <th>390</th>\n      <td>1851</td>\n      <td>60</td>\n      <td>RL</td>\n      <td>50.0</td>\n      <td>9350</td>\n      <td>Pave</td>\n      <td>NaN</td>\n      <td>Reg</td>\n      <td>Bnk</td>\n      <td>AllPub</td>\n      <td>...</td>\n      <td>0</td>\n      <td>0</td>\n      <td>NaN</td>\n      <td>NaN</td>\n      <td>NaN</td>\n      <td>0</td>\n      <td>7</td>\n      <td>2009</td>\n      <td>WD</td>\n      <td>Normal</td>\n    </tr>\n    <tr>\n      <th>536</th>\n      <td>1997</td>\n      <td>60</td>\n      <td>RL</td>\n      <td>NaN</td>\n      <td>11000</td>\n      <td>Pave</td>\n      <td>NaN</td>\n      <td>Reg</td>\n      <td>Lvl</td>\n      <td>AllPub</td>\n      <td>...</td>\n      <td>0</td>\n      <td>0</td>\n      <td>NaN</td>\n      <td>NaN</td>\n      <td>NaN</td>\n      <td>0</td>\n      <td>6</td>\n      <td>2008</td>\n      <td>WD</td>\n      <td>Normal</td>\n    </tr>\n    <tr>\n      <th>946</th>\n      <td>2407</td>\n      <td>20</td>\n      <td>RL</td>\n      <td>65.0</td>\n      <td>6860</td>\n      <td>Pave</td>\n      <td>NaN</td>\n      <td>IR1</td>\n      <td>Lvl</td>\n      <td>AllPub</td>\n      <td>...</td>\n      <td>0</td>\n      <td>0</td>\n      <td>NaN</td>\n      <td>NaN</td>\n      <td>NaN</td>\n      <td>0</td>\n      <td>12</td>\n      <td>2007</td>\n      <td>WD</td>\n      <td>Normal</td>\n    </tr>\n    <tr>\n      <th>411</th>\n      <td>1872</td>\n      <td>60</td>\n      <td>RL</td>\n      <td>79.0</td>\n      <td>11646</td>\n      <td>Pave</td>\n      <td>NaN</td>\n      <td>IR1</td>\n      <td>Lvl</td>\n      <td>AllPub</td>\n      <td>...</td>\n      <td>0</td>\n      <td>0</td>\n      <td>NaN</td>\n      <td>NaN</td>\n      <td>NaN</td>\n      <td>0</td>\n      <td>7</td>\n      <td>2009</td>\n      <td>WD</td>\n      <td>Normal</td>\n    </tr>\n    <tr>\n      <th>590</th>\n      <td>2051</td>\n      <td>20</td>\n      <td>RL</td>\n      <td>74.0</td>\n      <td>7785</td>\n      <td>Pave</td>\n      <td>NaN</td>\n      <td>IR1</td>\n      <td>Lvl</td>\n      <td>AllPub</td>\n      <td>...</td>\n      <td>200</td>\n      <td>0</td>\n      <td>NaN</td>\n      <td>GdWo</td>\n      <td>NaN</td>\n      <td>0</td>\n      <td>3</td>\n      <td>2008</td>\n      <td>WD</td>\n      <td>Normal</td>\n    </tr>\n    <tr>\n      <th>708</th>\n      <td>2169</td>\n      <td>60</td>\n      <td>RL</td>\n      <td>68.0</td>\n      <td>8998</td>\n      <td>Pave</td>\n      <td>NaN</td>\n      <td>IR1</td>\n      <td>Lvl</td>\n      <td>AllPub</td>\n      <td>...</td>\n      <td>0</td>\n      <td>0</td>\n      <td>NaN</td>\n      <td>NaN</td>\n      <td>NaN</td>\n      <td>0</td>\n      <td>6</td>\n      <td>2008</td>\n      <td>WD</td>\n      <td>Normal</td>\n    </tr>\n    <tr>\n      <th>437</th>\n      <td>1898</td>\n      <td>70</td>\n      <td>RL</td>\n      <td>43.0</td>\n      <td>5707</td>\n      <td>Pave</td>\n      <td>NaN</td>\n      <td>Reg</td>\n      <td>Bnk</td>\n      <td>AllPub</td>\n      <td>...</td>\n      <td>0</td>\n      <td>0</td>\n      <td>NaN</td>\n      <td>NaN</td>\n      <td>NaN</td>\n      <td>0</td>\n      <td>3</td>\n      <td>2009</td>\n      <td>WD</td>\n      <td>Normal</td>\n    </tr>\n  </tbody>\n</table>\n<p>15 rows × 80 columns</p>\n</div>",
      "text/plain": [
       "        Id  MSSubClass MSZoning  LotFrontage  LotArea Street Alley LotShape  \\\n",
       "1427  2888          50       RM         50.0     7000   Pave   NaN      Reg   \n",
       "764   2225          90       RL         76.0    10260   Pave   NaN      Reg   \n",
       "111   1572          20       RL         75.0     9525   Pave   NaN      Reg   \n",
       "519   1980         120       RL        135.0    12304   Pave   NaN      IR3   \n",
       "658   2119          45       RM         50.0     5000   Pave   NaN      Reg   \n",
       "27    1488          20       RL         73.0     8987   Pave   NaN      Reg   \n",
       "830   2291          60       RL        110.0    13440   Pave   NaN      Reg   \n",
       "94    1555          20       RL        100.0    15263   Pave   NaN      IR1   \n",
       "390   1851          60       RL         50.0     9350   Pave   NaN      Reg   \n",
       "536   1997          60       RL          NaN    11000   Pave   NaN      Reg   \n",
       "946   2407          20       RL         65.0     6860   Pave   NaN      IR1   \n",
       "411   1872          60       RL         79.0    11646   Pave   NaN      IR1   \n",
       "590   2051          20       RL         74.0     7785   Pave   NaN      IR1   \n",
       "708   2169          60       RL         68.0     8998   Pave   NaN      IR1   \n",
       "437   1898          70       RL         43.0     5707   Pave   NaN      Reg   \n",
       "\n",
       "     LandContour Utilities  ... ScreenPorch PoolArea PoolQC  Fence  \\\n",
       "1427         Lvl    AllPub  ...           0        0    NaN  MnPrv   \n",
       "764          Lvl    AllPub  ...           0        0    NaN    NaN   \n",
       "111          Lvl    AllPub  ...           0        0    NaN    NaN   \n",
       "519          Lvl    AllPub  ...           0        0    NaN    NaN   \n",
       "658          Bnk    AllPub  ...           0        0    NaN    NaN   \n",
       "27           Lvl    AllPub  ...           0        0    NaN    NaN   \n",
       "830          Lvl    AllPub  ...           0        0    NaN    NaN   \n",
       "94           Lvl    AllPub  ...           0        0    NaN    NaN   \n",
       "390          Bnk    AllPub  ...           0        0    NaN    NaN   \n",
       "536          Lvl    AllPub  ...           0        0    NaN    NaN   \n",
       "946          Lvl    AllPub  ...           0        0    NaN    NaN   \n",
       "411          Lvl    AllPub  ...           0        0    NaN    NaN   \n",
       "590          Lvl    AllPub  ...         200        0    NaN   GdWo   \n",
       "708          Lvl    AllPub  ...           0        0    NaN    NaN   \n",
       "437          Bnk    AllPub  ...           0        0    NaN    NaN   \n",
       "\n",
       "     MiscFeature MiscVal MoSold  YrSold  SaleType  SaleCondition  \n",
       "1427         NaN       0      5    2006        WD         Normal  \n",
       "764          NaN       0     11    2008        WD        Abnorml  \n",
       "111          NaN       0      6    2010        WD         Normal  \n",
       "519          NaN       0      6    2008        WD         Normal  \n",
       "658          NaN       0      4    2008        WD         Normal  \n",
       "27           NaN       0      5    2010        WD         Normal  \n",
       "830          NaN       0      3    2007       New        Partial  \n",
       "94           NaN       0      5    2010        WD         Normal  \n",
       "390          NaN       0      7    2009        WD         Normal  \n",
       "536          NaN       0      6    2008        WD         Normal  \n",
       "946          NaN       0     12    2007        WD         Normal  \n",
       "411          NaN       0      7    2009        WD         Normal  \n",
       "590          NaN       0      3    2008        WD         Normal  \n",
       "708          NaN       0      6    2008        WD         Normal  \n",
       "437          NaN       0      3    2009        WD         Normal  \n",
       "\n",
       "[15 rows x 80 columns]"
      ]
     },
     "metadata": {},
     "execution_count": 38
    }
   ],
   "source": [
    "df_test = pd.read_csv(\"/home/kaustav/Desktop/Kaggle-Workspace/House-Prices-Advanced-Regression-Techniques/data/test.csv\")\n",
    "df_test.sample(15)"
   ]
  },
  {
   "cell_type": "code",
   "execution_count": 39,
   "metadata": {},
   "outputs": [
    {
     "output_type": "execute_result",
     "data": {
      "text/html": "<div>\n<style scoped>\n    .dataframe tbody tr th:only-of-type {\n        vertical-align: middle;\n    }\n\n    .dataframe tbody tr th {\n        vertical-align: top;\n    }\n\n    .dataframe thead th {\n        text-align: right;\n    }\n</style>\n<table border=\"1\" class=\"dataframe\">\n  <thead>\n    <tr style=\"text-align: right;\">\n      <th></th>\n      <th>Id</th>\n      <th>MSSubClass</th>\n      <th>LotFrontage</th>\n      <th>LotArea</th>\n      <th>OverallQual</th>\n      <th>OverallCond</th>\n      <th>YearBuilt</th>\n      <th>YearRemodAdd</th>\n      <th>MasVnrArea</th>\n      <th>BsmtFinSF1</th>\n      <th>...</th>\n      <th>SaleType_ConLw</th>\n      <th>SaleType_New</th>\n      <th>SaleType_Oth</th>\n      <th>SaleType_WD</th>\n      <th>SaleCondition_Abnorml</th>\n      <th>SaleCondition_AdjLand</th>\n      <th>SaleCondition_Alloca</th>\n      <th>SaleCondition_Family</th>\n      <th>SaleCondition_Normal</th>\n      <th>SaleCondition_Partial</th>\n    </tr>\n  </thead>\n  <tbody>\n    <tr>\n      <th>1019</th>\n      <td>2480</td>\n      <td>80</td>\n      <td>65.0</td>\n      <td>14149</td>\n      <td>5</td>\n      <td>8</td>\n      <td>1964</td>\n      <td>2001</td>\n      <td>50.0</td>\n      <td>68.0</td>\n      <td>...</td>\n      <td>0</td>\n      <td>0</td>\n      <td>0</td>\n      <td>1</td>\n      <td>0</td>\n      <td>0</td>\n      <td>0</td>\n      <td>0</td>\n      <td>1</td>\n      <td>0</td>\n    </tr>\n    <tr>\n      <th>256</th>\n      <td>1717</td>\n      <td>20</td>\n      <td>63.0</td>\n      <td>7500</td>\n      <td>7</td>\n      <td>5</td>\n      <td>2006</td>\n      <td>2006</td>\n      <td>0.0</td>\n      <td>54.0</td>\n      <td>...</td>\n      <td>0</td>\n      <td>0</td>\n      <td>0</td>\n      <td>1</td>\n      <td>0</td>\n      <td>0</td>\n      <td>0</td>\n      <td>0</td>\n      <td>1</td>\n      <td>0</td>\n    </tr>\n    <tr>\n      <th>87</th>\n      <td>1548</td>\n      <td>50</td>\n      <td>50.0</td>\n      <td>6000</td>\n      <td>6</td>\n      <td>7</td>\n      <td>1948</td>\n      <td>1950</td>\n      <td>0.0</td>\n      <td>300.0</td>\n      <td>...</td>\n      <td>0</td>\n      <td>0</td>\n      <td>0</td>\n      <td>1</td>\n      <td>0</td>\n      <td>0</td>\n      <td>0</td>\n      <td>0</td>\n      <td>1</td>\n      <td>0</td>\n    </tr>\n    <tr>\n      <th>223</th>\n      <td>1684</td>\n      <td>60</td>\n      <td>63.0</td>\n      <td>10928</td>\n      <td>7</td>\n      <td>5</td>\n      <td>2005</td>\n      <td>2005</td>\n      <td>0.0</td>\n      <td>0.0</td>\n      <td>...</td>\n      <td>0</td>\n      <td>0</td>\n      <td>0</td>\n      <td>1</td>\n      <td>0</td>\n      <td>0</td>\n      <td>0</td>\n      <td>0</td>\n      <td>1</td>\n      <td>0</td>\n    </tr>\n    <tr>\n      <th>1071</th>\n      <td>2532</td>\n      <td>60</td>\n      <td>70.0</td>\n      <td>8749</td>\n      <td>7</td>\n      <td>5</td>\n      <td>2003</td>\n      <td>2003</td>\n      <td>0.0</td>\n      <td>654.0</td>\n      <td>...</td>\n      <td>0</td>\n      <td>0</td>\n      <td>0</td>\n      <td>1</td>\n      <td>0</td>\n      <td>0</td>\n      <td>0</td>\n      <td>0</td>\n      <td>1</td>\n      <td>0</td>\n    </tr>\n    <tr>\n      <th>182</th>\n      <td>1643</td>\n      <td>60</td>\n      <td>NaN</td>\n      <td>7500</td>\n      <td>8</td>\n      <td>5</td>\n      <td>2000</td>\n      <td>2001</td>\n      <td>0.0</td>\n      <td>0.0</td>\n      <td>...</td>\n      <td>0</td>\n      <td>0</td>\n      <td>0</td>\n      <td>1</td>\n      <td>0</td>\n      <td>0</td>\n      <td>0</td>\n      <td>0</td>\n      <td>1</td>\n      <td>0</td>\n    </tr>\n    <tr>\n      <th>420</th>\n      <td>1881</td>\n      <td>20</td>\n      <td>90.0</td>\n      <td>11664</td>\n      <td>7</td>\n      <td>5</td>\n      <td>2002</td>\n      <td>2002</td>\n      <td>0.0</td>\n      <td>1234.0</td>\n      <td>...</td>\n      <td>0</td>\n      <td>0</td>\n      <td>0</td>\n      <td>1</td>\n      <td>0</td>\n      <td>0</td>\n      <td>0</td>\n      <td>0</td>\n      <td>1</td>\n      <td>0</td>\n    </tr>\n    <tr>\n      <th>741</th>\n      <td>2202</td>\n      <td>70</td>\n      <td>54.0</td>\n      <td>7609</td>\n      <td>8</td>\n      <td>9</td>\n      <td>1925</td>\n      <td>1997</td>\n      <td>0.0</td>\n      <td>406.0</td>\n      <td>...</td>\n      <td>0</td>\n      <td>0</td>\n      <td>0</td>\n      <td>1</td>\n      <td>0</td>\n      <td>0</td>\n      <td>0</td>\n      <td>0</td>\n      <td>1</td>\n      <td>0</td>\n    </tr>\n    <tr>\n      <th>941</th>\n      <td>2402</td>\n      <td>20</td>\n      <td>80.0</td>\n      <td>9600</td>\n      <td>5</td>\n      <td>6</td>\n      <td>1955</td>\n      <td>1955</td>\n      <td>176.0</td>\n      <td>368.0</td>\n      <td>...</td>\n      <td>0</td>\n      <td>0</td>\n      <td>0</td>\n      <td>1</td>\n      <td>0</td>\n      <td>0</td>\n      <td>0</td>\n      <td>0</td>\n      <td>1</td>\n      <td>0</td>\n    </tr>\n    <tr>\n      <th>311</th>\n      <td>1772</td>\n      <td>20</td>\n      <td>70.0</td>\n      <td>8750</td>\n      <td>5</td>\n      <td>5</td>\n      <td>1955</td>\n      <td>1955</td>\n      <td>0.0</td>\n      <td>172.0</td>\n      <td>...</td>\n      <td>0</td>\n      <td>0</td>\n      <td>0</td>\n      <td>1</td>\n      <td>0</td>\n      <td>0</td>\n      <td>0</td>\n      <td>0</td>\n      <td>1</td>\n      <td>0</td>\n    </tr>\n  </tbody>\n</table>\n<p>10 rows × 271 columns</p>\n</div>",
      "text/plain": [
       "        Id  MSSubClass  LotFrontage  LotArea  OverallQual  OverallCond  \\\n",
       "1019  2480          80         65.0    14149            5            8   \n",
       "256   1717          20         63.0     7500            7            5   \n",
       "87    1548          50         50.0     6000            6            7   \n",
       "223   1684          60         63.0    10928            7            5   \n",
       "1071  2532          60         70.0     8749            7            5   \n",
       "182   1643          60          NaN     7500            8            5   \n",
       "420   1881          20         90.0    11664            7            5   \n",
       "741   2202          70         54.0     7609            8            9   \n",
       "941   2402          20         80.0     9600            5            6   \n",
       "311   1772          20         70.0     8750            5            5   \n",
       "\n",
       "      YearBuilt  YearRemodAdd  MasVnrArea  BsmtFinSF1  ...  SaleType_ConLw  \\\n",
       "1019       1964          2001        50.0        68.0  ...               0   \n",
       "256        2006          2006         0.0        54.0  ...               0   \n",
       "87         1948          1950         0.0       300.0  ...               0   \n",
       "223        2005          2005         0.0         0.0  ...               0   \n",
       "1071       2003          2003         0.0       654.0  ...               0   \n",
       "182        2000          2001         0.0         0.0  ...               0   \n",
       "420        2002          2002         0.0      1234.0  ...               0   \n",
       "741        1925          1997         0.0       406.0  ...               0   \n",
       "941        1955          1955       176.0       368.0  ...               0   \n",
       "311        1955          1955         0.0       172.0  ...               0   \n",
       "\n",
       "      SaleType_New  SaleType_Oth  SaleType_WD  SaleCondition_Abnorml  \\\n",
       "1019             0             0            1                      0   \n",
       "256              0             0            1                      0   \n",
       "87               0             0            1                      0   \n",
       "223              0             0            1                      0   \n",
       "1071             0             0            1                      0   \n",
       "182              0             0            1                      0   \n",
       "420              0             0            1                      0   \n",
       "741              0             0            1                      0   \n",
       "941              0             0            1                      0   \n",
       "311              0             0            1                      0   \n",
       "\n",
       "      SaleCondition_AdjLand  SaleCondition_Alloca  SaleCondition_Family  \\\n",
       "1019                      0                     0                     0   \n",
       "256                       0                     0                     0   \n",
       "87                        0                     0                     0   \n",
       "223                       0                     0                     0   \n",
       "1071                      0                     0                     0   \n",
       "182                       0                     0                     0   \n",
       "420                       0                     0                     0   \n",
       "741                       0                     0                     0   \n",
       "941                       0                     0                     0   \n",
       "311                       0                     0                     0   \n",
       "\n",
       "      SaleCondition_Normal  SaleCondition_Partial  \n",
       "1019                     1                      0  \n",
       "256                      1                      0  \n",
       "87                       1                      0  \n",
       "223                      1                      0  \n",
       "1071                     1                      0  \n",
       "182                      1                      0  \n",
       "420                      1                      0  \n",
       "741                      1                      0  \n",
       "941                      1                      0  \n",
       "311                      1                      0  \n",
       "\n",
       "[10 rows x 271 columns]"
      ]
     },
     "metadata": {},
     "execution_count": 39
    }
   ],
   "source": [
    "df_test_dummies = pd.get_dummies(df_test, columns = categorical_columns)\n",
    "df_test_dummies.sample(10)"
   ]
  },
  {
   "source": [
    "## Making Sure Get Dummies returns the same number of Columns as the Training and Validation sets since all categories might not be present in the Testing set"
   ],
   "cell_type": "markdown",
   "metadata": {}
  },
  {
   "cell_type": "code",
   "execution_count": 40,
   "metadata": {},
   "outputs": [
    {
     "output_type": "execute_result",
     "data": {
      "text/plain": [
       "((1241, 289), (1459, 289))"
      ]
     },
     "metadata": {},
     "execution_count": 40
    }
   ],
   "source": [
    "# df_test = df_test.reindex(columns = X_train.columns, fill_value=0)\n",
    "X_train, df_test_dummies = X_train.align(df_test_dummies, join='left', axis=1)\n",
    "X_train.shape, df_test_dummies.shape"
   ]
  },
  {
   "cell_type": "code",
   "execution_count": 41,
   "metadata": {},
   "outputs": [
    {
     "output_type": "execute_result",
     "data": {
      "text/html": "<div>\n<style scoped>\n    .dataframe tbody tr th:only-of-type {\n        vertical-align: middle;\n    }\n\n    .dataframe tbody tr th {\n        vertical-align: top;\n    }\n\n    .dataframe thead th {\n        text-align: right;\n    }\n</style>\n<table border=\"1\" class=\"dataframe\">\n  <thead>\n    <tr style=\"text-align: right;\">\n      <th></th>\n      <th>Id</th>\n      <th>MSSubClass</th>\n      <th>LotFrontage</th>\n      <th>LotArea</th>\n      <th>OverallQual</th>\n      <th>OverallCond</th>\n      <th>YearBuilt</th>\n      <th>YearRemodAdd</th>\n      <th>MasVnrArea</th>\n      <th>BsmtFinSF1</th>\n      <th>...</th>\n      <th>SaleType_ConLw</th>\n      <th>SaleType_New</th>\n      <th>SaleType_Oth</th>\n      <th>SaleType_WD</th>\n      <th>SaleCondition_Abnorml</th>\n      <th>SaleCondition_AdjLand</th>\n      <th>SaleCondition_Alloca</th>\n      <th>SaleCondition_Family</th>\n      <th>SaleCondition_Normal</th>\n      <th>SaleCondition_Partial</th>\n    </tr>\n  </thead>\n  <tbody>\n    <tr>\n      <th>1382</th>\n      <td>2843</td>\n      <td>60</td>\n      <td>50.000000</td>\n      <td>8340</td>\n      <td>6</td>\n      <td>6</td>\n      <td>1977</td>\n      <td>1977</td>\n      <td>62.0</td>\n      <td>509.0</td>\n      <td>...</td>\n      <td>0</td>\n      <td>0</td>\n      <td>0</td>\n      <td>1</td>\n      <td>0</td>\n      <td>0</td>\n      <td>0</td>\n      <td>0</td>\n      <td>1</td>\n      <td>0</td>\n    </tr>\n    <tr>\n      <th>747</th>\n      <td>2208</td>\n      <td>50</td>\n      <td>70.000000</td>\n      <td>12392</td>\n      <td>7</td>\n      <td>9</td>\n      <td>1950</td>\n      <td>2000</td>\n      <td>0.0</td>\n      <td>435.0</td>\n      <td>...</td>\n      <td>0</td>\n      <td>0</td>\n      <td>0</td>\n      <td>1</td>\n      <td>0</td>\n      <td>0</td>\n      <td>0</td>\n      <td>0</td>\n      <td>1</td>\n      <td>0</td>\n    </tr>\n    <tr>\n      <th>1372</th>\n      <td>2833</td>\n      <td>20</td>\n      <td>78.000000</td>\n      <td>11645</td>\n      <td>8</td>\n      <td>5</td>\n      <td>2005</td>\n      <td>2006</td>\n      <td>198.0</td>\n      <td>1122.0</td>\n      <td>...</td>\n      <td>0</td>\n      <td>1</td>\n      <td>0</td>\n      <td>0</td>\n      <td>0</td>\n      <td>0</td>\n      <td>0</td>\n      <td>0</td>\n      <td>0</td>\n      <td>1</td>\n    </tr>\n    <tr>\n      <th>529</th>\n      <td>1990</td>\n      <td>60</td>\n      <td>68.580357</td>\n      <td>8396</td>\n      <td>7</td>\n      <td>5</td>\n      <td>2003</td>\n      <td>2003</td>\n      <td>196.0</td>\n      <td>0.0</td>\n      <td>...</td>\n      <td>0</td>\n      <td>0</td>\n      <td>0</td>\n      <td>1</td>\n      <td>0</td>\n      <td>0</td>\n      <td>0</td>\n      <td>0</td>\n      <td>1</td>\n      <td>0</td>\n    </tr>\n    <tr>\n      <th>1033</th>\n      <td>2494</td>\n      <td>20</td>\n      <td>68.580357</td>\n      <td>22692</td>\n      <td>5</td>\n      <td>5</td>\n      <td>1953</td>\n      <td>1953</td>\n      <td>0.0</td>\n      <td>587.0</td>\n      <td>...</td>\n      <td>0</td>\n      <td>0</td>\n      <td>0</td>\n      <td>0</td>\n      <td>0</td>\n      <td>0</td>\n      <td>0</td>\n      <td>0</td>\n      <td>1</td>\n      <td>0</td>\n    </tr>\n    <tr>\n      <th>1088</th>\n      <td>2549</td>\n      <td>60</td>\n      <td>60.000000</td>\n      <td>7023</td>\n      <td>5</td>\n      <td>5</td>\n      <td>2005</td>\n      <td>2006</td>\n      <td>0.0</td>\n      <td>611.0</td>\n      <td>...</td>\n      <td>0</td>\n      <td>0</td>\n      <td>0</td>\n      <td>1</td>\n      <td>0</td>\n      <td>0</td>\n      <td>0</td>\n      <td>0</td>\n      <td>1</td>\n      <td>0</td>\n    </tr>\n    <tr>\n      <th>324</th>\n      <td>1785</td>\n      <td>30</td>\n      <td>60.000000</td>\n      <td>10230</td>\n      <td>5</td>\n      <td>7</td>\n      <td>1925</td>\n      <td>1950</td>\n      <td>0.0</td>\n      <td>0.0</td>\n      <td>...</td>\n      <td>0</td>\n      <td>0</td>\n      <td>0</td>\n      <td>1</td>\n      <td>0</td>\n      <td>0</td>\n      <td>0</td>\n      <td>0</td>\n      <td>1</td>\n      <td>0</td>\n    </tr>\n    <tr>\n      <th>567</th>\n      <td>2028</td>\n      <td>160</td>\n      <td>30.000000</td>\n      <td>3180</td>\n      <td>7</td>\n      <td>5</td>\n      <td>2007</td>\n      <td>2007</td>\n      <td>0.0</td>\n      <td>0.0</td>\n      <td>...</td>\n      <td>0</td>\n      <td>0</td>\n      <td>0</td>\n      <td>1</td>\n      <td>1</td>\n      <td>0</td>\n      <td>0</td>\n      <td>0</td>\n      <td>0</td>\n      <td>0</td>\n    </tr>\n    <tr>\n      <th>1196</th>\n      <td>2657</td>\n      <td>60</td>\n      <td>82.000000</td>\n      <td>9942</td>\n      <td>9</td>\n      <td>5</td>\n      <td>2005</td>\n      <td>2006</td>\n      <td>385.0</td>\n      <td>1290.0</td>\n      <td>...</td>\n      <td>0</td>\n      <td>1</td>\n      <td>0</td>\n      <td>0</td>\n      <td>0</td>\n      <td>0</td>\n      <td>0</td>\n      <td>0</td>\n      <td>0</td>\n      <td>1</td>\n    </tr>\n    <tr>\n      <th>9</th>\n      <td>1470</td>\n      <td>20</td>\n      <td>70.000000</td>\n      <td>8400</td>\n      <td>4</td>\n      <td>5</td>\n      <td>1970</td>\n      <td>1970</td>\n      <td>0.0</td>\n      <td>804.0</td>\n      <td>...</td>\n      <td>0</td>\n      <td>0</td>\n      <td>0</td>\n      <td>1</td>\n      <td>0</td>\n      <td>0</td>\n      <td>0</td>\n      <td>0</td>\n      <td>1</td>\n      <td>0</td>\n    </tr>\n  </tbody>\n</table>\n<p>10 rows × 289 columns</p>\n</div>",
      "text/plain": [
       "        Id  MSSubClass  LotFrontage  LotArea  OverallQual  OverallCond  \\\n",
       "1382  2843          60    50.000000     8340            6            6   \n",
       "747   2208          50    70.000000    12392            7            9   \n",
       "1372  2833          20    78.000000    11645            8            5   \n",
       "529   1990          60    68.580357     8396            7            5   \n",
       "1033  2494          20    68.580357    22692            5            5   \n",
       "1088  2549          60    60.000000     7023            5            5   \n",
       "324   1785          30    60.000000    10230            5            7   \n",
       "567   2028         160    30.000000     3180            7            5   \n",
       "1196  2657          60    82.000000     9942            9            5   \n",
       "9     1470          20    70.000000     8400            4            5   \n",
       "\n",
       "      YearBuilt  YearRemodAdd  MasVnrArea  BsmtFinSF1  ...  SaleType_ConLw  \\\n",
       "1382       1977          1977        62.0       509.0  ...               0   \n",
       "747        1950          2000         0.0       435.0  ...               0   \n",
       "1372       2005          2006       198.0      1122.0  ...               0   \n",
       "529        2003          2003       196.0         0.0  ...               0   \n",
       "1033       1953          1953         0.0       587.0  ...               0   \n",
       "1088       2005          2006         0.0       611.0  ...               0   \n",
       "324        1925          1950         0.0         0.0  ...               0   \n",
       "567        2007          2007         0.0         0.0  ...               0   \n",
       "1196       2005          2006       385.0      1290.0  ...               0   \n",
       "9          1970          1970         0.0       804.0  ...               0   \n",
       "\n",
       "      SaleType_New  SaleType_Oth  SaleType_WD  SaleCondition_Abnorml  \\\n",
       "1382             0             0            1                      0   \n",
       "747              0             0            1                      0   \n",
       "1372             1             0            0                      0   \n",
       "529              0             0            1                      0   \n",
       "1033             0             0            0                      0   \n",
       "1088             0             0            1                      0   \n",
       "324              0             0            1                      0   \n",
       "567              0             0            1                      1   \n",
       "1196             1             0            0                      0   \n",
       "9                0             0            1                      0   \n",
       "\n",
       "      SaleCondition_AdjLand  SaleCondition_Alloca  SaleCondition_Family  \\\n",
       "1382                      0                     0                     0   \n",
       "747                       0                     0                     0   \n",
       "1372                      0                     0                     0   \n",
       "529                       0                     0                     0   \n",
       "1033                      0                     0                     0   \n",
       "1088                      0                     0                     0   \n",
       "324                       0                     0                     0   \n",
       "567                       0                     0                     0   \n",
       "1196                      0                     0                     0   \n",
       "9                         0                     0                     0   \n",
       "\n",
       "      SaleCondition_Normal  SaleCondition_Partial  \n",
       "1382                     1                      0  \n",
       "747                      1                      0  \n",
       "1372                     0                      1  \n",
       "529                      1                      0  \n",
       "1033                     1                      0  \n",
       "1088                     1                      0  \n",
       "324                      1                      0  \n",
       "567                      0                      0  \n",
       "1196                     0                      1  \n",
       "9                        1                      0  \n",
       "\n",
       "[10 rows x 289 columns]"
      ]
     },
     "metadata": {},
     "execution_count": 41
    }
   ],
   "source": [
    "df_test_dummies.fillna(df_test_dummies.mean() , inplace = True)\n",
    "df_test_dummies.sample(10)"
   ]
  },
  {
   "cell_type": "code",
   "execution_count": null,
   "metadata": {},
   "outputs": [],
   "source": []
  },
  {
   "cell_type": "code",
   "execution_count": 43,
   "metadata": {},
   "outputs": [
    {
     "output_type": "execute_result",
     "data": {
      "text/plain": [
       "Index([u'Utilities_NoSeWa', u'Condition2_RRAe', u'Condition2_RRAn',\n",
       "       u'Condition2_RRNn', u'HouseStyle_2.5Fin', u'RoofMatl_ClyTile',\n",
       "       u'RoofMatl_Membran', u'RoofMatl_Metal', u'RoofMatl_Roll',\n",
       "       u'Exterior1st_ImStucc', u'Exterior1st_Stone', u'Exterior2nd_Other',\n",
       "       u'Heating_Floor', u'Heating_OthW', u'Electrical_Mix', u'GarageQual_Ex',\n",
       "       u'PoolQC_Fa', u'MiscFeature_TenC'],\n",
       "      dtype='object')"
      ]
     },
     "metadata": {},
     "execution_count": 43
    }
   ],
   "source": [
    "df_test_dummies.columns[df_test_dummies.isnull().sum() > 0 ]"
   ]
  },
  {
   "cell_type": "code",
   "execution_count": 42,
   "metadata": {},
   "outputs": [
    {
     "output_type": "error",
     "ename": "ValueError",
     "evalue": "Input contains NaN, infinity or a value too large for dtype('float64').",
     "traceback": [
      "\u001b[0;31m\u001b[0m",
      "\u001b[0;31mValueError\u001b[0mTraceback (most recent call last)",
      "\u001b[0;32m<ipython-input-42-ec988cfb2fc4>\u001b[0m in \u001b[0;36m<module>\u001b[0;34m()\u001b[0m\n\u001b[0;32m----> 1\u001b[0;31m \u001b[0my_submit_pred\u001b[0m \u001b[0;34m=\u001b[0m \u001b[0mlin_reg\u001b[0m\u001b[0;34m.\u001b[0m\u001b[0mpredict\u001b[0m\u001b[0;34m(\u001b[0m\u001b[0mdf_submit_dummies\u001b[0m\u001b[0;34m)\u001b[0m\u001b[0;34m\u001b[0m\u001b[0m\n\u001b[0m\u001b[1;32m      2\u001b[0m \u001b[0;32mprint\u001b[0m\u001b[0;34m(\u001b[0m\u001b[0my_submit_pred\u001b[0m\u001b[0;34m)\u001b[0m\u001b[0;34m\u001b[0m\u001b[0m\n",
      "\u001b[0;32m/home/kaustav/.local/lib/python2.7/site-packages/sklearn/linear_model/base.pyc\u001b[0m in \u001b[0;36mpredict\u001b[0;34m(self, X)\u001b[0m\n\u001b[1;32m    211\u001b[0m             \u001b[0mReturns\u001b[0m \u001b[0mpredicted\u001b[0m \u001b[0mvalues\u001b[0m\u001b[0;34m.\u001b[0m\u001b[0;34m\u001b[0m\u001b[0m\n\u001b[1;32m    212\u001b[0m         \"\"\"\n\u001b[0;32m--> 213\u001b[0;31m         \u001b[0;32mreturn\u001b[0m \u001b[0mself\u001b[0m\u001b[0;34m.\u001b[0m\u001b[0m_decision_function\u001b[0m\u001b[0;34m(\u001b[0m\u001b[0mX\u001b[0m\u001b[0;34m)\u001b[0m\u001b[0;34m\u001b[0m\u001b[0m\n\u001b[0m\u001b[1;32m    214\u001b[0m \u001b[0;34m\u001b[0m\u001b[0m\n\u001b[1;32m    215\u001b[0m     \u001b[0m_preprocess_data\u001b[0m \u001b[0;34m=\u001b[0m \u001b[0mstaticmethod\u001b[0m\u001b[0;34m(\u001b[0m\u001b[0m_preprocess_data\u001b[0m\u001b[0;34m)\u001b[0m\u001b[0;34m\u001b[0m\u001b[0m\n",
      "\u001b[0;32m/home/kaustav/.local/lib/python2.7/site-packages/sklearn/linear_model/base.pyc\u001b[0m in \u001b[0;36m_decision_function\u001b[0;34m(self, X)\u001b[0m\n\u001b[1;32m    194\u001b[0m         \u001b[0mcheck_is_fitted\u001b[0m\u001b[0;34m(\u001b[0m\u001b[0mself\u001b[0m\u001b[0;34m,\u001b[0m \u001b[0;34m\"coef_\"\u001b[0m\u001b[0;34m)\u001b[0m\u001b[0;34m\u001b[0m\u001b[0m\n\u001b[1;32m    195\u001b[0m \u001b[0;34m\u001b[0m\u001b[0m\n\u001b[0;32m--> 196\u001b[0;31m         \u001b[0mX\u001b[0m \u001b[0;34m=\u001b[0m \u001b[0mcheck_array\u001b[0m\u001b[0;34m(\u001b[0m\u001b[0mX\u001b[0m\u001b[0;34m,\u001b[0m \u001b[0maccept_sparse\u001b[0m\u001b[0;34m=\u001b[0m\u001b[0;34m[\u001b[0m\u001b[0;34m'csr'\u001b[0m\u001b[0;34m,\u001b[0m \u001b[0;34m'csc'\u001b[0m\u001b[0;34m,\u001b[0m \u001b[0;34m'coo'\u001b[0m\u001b[0;34m]\u001b[0m\u001b[0;34m)\u001b[0m\u001b[0;34m\u001b[0m\u001b[0m\n\u001b[0m\u001b[1;32m    197\u001b[0m         return safe_sparse_dot(X, self.coef_.T,\n\u001b[1;32m    198\u001b[0m                                dense_output=True) + self.intercept_\n",
      "\u001b[0;32m/home/kaustav/.local/lib/python2.7/site-packages/sklearn/utils/validation.pyc\u001b[0m in \u001b[0;36mcheck_array\u001b[0;34m(array, accept_sparse, accept_large_sparse, dtype, order, copy, force_all_finite, ensure_2d, allow_nd, ensure_min_samples, ensure_min_features, warn_on_dtype, estimator)\u001b[0m\n\u001b[1;32m    571\u001b[0m         \u001b[0;32mif\u001b[0m \u001b[0mforce_all_finite\u001b[0m\u001b[0;34m:\u001b[0m\u001b[0;34m\u001b[0m\u001b[0m\n\u001b[1;32m    572\u001b[0m             _assert_all_finite(array,\n\u001b[0;32m--> 573\u001b[0;31m                                allow_nan=force_all_finite == 'allow-nan')\n\u001b[0m\u001b[1;32m    574\u001b[0m \u001b[0;34m\u001b[0m\u001b[0m\n\u001b[1;32m    575\u001b[0m     \u001b[0mshape_repr\u001b[0m \u001b[0;34m=\u001b[0m \u001b[0m_shape_repr\u001b[0m\u001b[0;34m(\u001b[0m\u001b[0marray\u001b[0m\u001b[0;34m.\u001b[0m\u001b[0mshape\u001b[0m\u001b[0;34m)\u001b[0m\u001b[0;34m\u001b[0m\u001b[0m\n",
      "\u001b[0;32m/home/kaustav/.local/lib/python2.7/site-packages/sklearn/utils/validation.pyc\u001b[0m in \u001b[0;36m_assert_all_finite\u001b[0;34m(X, allow_nan)\u001b[0m\n\u001b[1;32m     54\u001b[0m                 not allow_nan and not np.isfinite(X).all()):\n\u001b[1;32m     55\u001b[0m             \u001b[0mtype_err\u001b[0m \u001b[0;34m=\u001b[0m \u001b[0;34m'infinity'\u001b[0m \u001b[0;32mif\u001b[0m \u001b[0mallow_nan\u001b[0m \u001b[0;32melse\u001b[0m \u001b[0;34m'NaN, infinity'\u001b[0m\u001b[0;34m\u001b[0m\u001b[0m\n\u001b[0;32m---> 56\u001b[0;31m             \u001b[0;32mraise\u001b[0m \u001b[0mValueError\u001b[0m\u001b[0;34m(\u001b[0m\u001b[0mmsg_err\u001b[0m\u001b[0;34m.\u001b[0m\u001b[0mformat\u001b[0m\u001b[0;34m(\u001b[0m\u001b[0mtype_err\u001b[0m\u001b[0;34m,\u001b[0m \u001b[0mX\u001b[0m\u001b[0;34m.\u001b[0m\u001b[0mdtype\u001b[0m\u001b[0;34m)\u001b[0m\u001b[0;34m)\u001b[0m\u001b[0;34m\u001b[0m\u001b[0m\n\u001b[0m\u001b[1;32m     57\u001b[0m \u001b[0;34m\u001b[0m\u001b[0m\n\u001b[1;32m     58\u001b[0m \u001b[0;34m\u001b[0m\u001b[0m\n",
      "\u001b[0;31mValueError\u001b[0m: Input contains NaN, infinity or a value too large for dtype('float64')."
     ]
    }
   ],
   "source": [
    "y_submit_pred = lin_reg.predict(df_test_dummies)\n",
    "print(y_submit_pred)"
   ]
  },
  {
   "cell_type": "code",
   "execution_count": null,
   "metadata": {},
   "outputs": [],
   "source": []
  },
  {
   "cell_type": "code",
   "execution_count": null,
   "metadata": {},
   "outputs": [],
   "source": []
  },
  {
   "cell_type": "code",
   "execution_count": null,
   "metadata": {},
   "outputs": [],
   "source": []
  },
  {
   "cell_type": "code",
   "execution_count": null,
   "metadata": {},
   "outputs": [],
   "source": []
  },
  {
   "cell_type": "code",
   "execution_count": null,
   "metadata": {},
   "outputs": [],
   "source": []
  },
  {
   "cell_type": "code",
   "execution_count": null,
   "metadata": {},
   "outputs": [],
   "source": []
  },
  {
   "cell_type": "code",
   "execution_count": null,
   "metadata": {},
   "outputs": [],
   "source": []
  },
  {
   "cell_type": "code",
   "execution_count": null,
   "metadata": {},
   "outputs": [],
   "source": []
  },
  {
   "cell_type": "code",
   "execution_count": null,
   "metadata": {},
   "outputs": [],
   "source": []
  },
  {
   "cell_type": "code",
   "execution_count": null,
   "metadata": {},
   "outputs": [],
   "source": []
  },
  {
   "cell_type": "code",
   "execution_count": null,
   "metadata": {},
   "outputs": [],
   "source": []
  },
  {
   "cell_type": "code",
   "execution_count": null,
   "metadata": {},
   "outputs": [],
   "source": []
  },
  {
   "cell_type": "code",
   "execution_count": null,
   "metadata": {},
   "outputs": [],
   "source": []
  },
  {
   "cell_type": "code",
   "execution_count": null,
   "metadata": {},
   "outputs": [],
   "source": []
  },
  {
   "cell_type": "code",
   "execution_count": null,
   "metadata": {},
   "outputs": [],
   "source": []
  },
  {
   "cell_type": "code",
   "execution_count": null,
   "metadata": {},
   "outputs": [],
   "source": []
  },
  {
   "cell_type": "code",
   "execution_count": null,
   "metadata": {},
   "outputs": [],
   "source": []
  }
 ]
}